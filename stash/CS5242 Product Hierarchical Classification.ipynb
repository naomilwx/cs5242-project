{
 "cells": [
  {
   "cell_type": "markdown",
   "id": "c53e22fb",
   "metadata": {},
   "source": [
    "# Shopee Product Classification "
   ]
  },
  {
   "cell_type": "markdown",
   "id": "e00b4f80",
   "metadata": {},
   "source": [
    "Notebook to experiment over several Neural Networks over the product dataset obtained from Shopee and evaluate results."
   ]
  },
  {
   "cell_type": "markdown",
   "id": "b887334e",
   "metadata": {},
   "source": [
    "## Dataset"
   ]
  },
  {
   "cell_type": "code",
   "execution_count": 1,
   "id": "d7a686c7",
   "metadata": {},
   "outputs": [],
   "source": [
    "from model.hierarchical import dataset\n",
    "\n",
    "data = dataset.DataSet(max_num_img=300)"
   ]
  },
  {
   "cell_type": "code",
   "execution_count": 3,
   "id": "712aabfd",
   "metadata": {},
   "outputs": [
    {
     "name": "stderr",
     "output_type": "stream",
     "text": [
      "100%|██████████| 300/300 [00:00<00:00, 368.29it/s]\n",
      "100%|██████████| 300/300 [00:00<00:00, 366.39it/s]\n",
      "100%|██████████| 300/300 [00:00<00:00, 387.94it/s]\n",
      "100%|██████████| 300/300 [00:00<00:00, 441.50it/s]\n",
      "100%|██████████| 300/300 [00:00<00:00, 433.09it/s]\n",
      "100%|██████████| 300/300 [00:00<00:00, 394.31it/s]\n",
      "100%|██████████| 300/300 [00:00<00:00, 389.49it/s]\n",
      "100%|██████████| 300/300 [00:00<00:00, 380.06it/s]\n",
      "100%|██████████| 300/300 [00:00<00:00, 389.23it/s]\n",
      "100%|██████████| 300/300 [00:00<00:00, 332.25it/s]\n",
      "100%|██████████| 300/300 [00:00<00:00, 345.41it/s]\n",
      "100%|██████████| 300/300 [00:00<00:00, 393.50it/s]\n",
      "100%|██████████| 300/300 [00:00<00:00, 392.62it/s]\n",
      "100%|██████████| 300/300 [00:00<00:00, 342.95it/s]\n",
      "100%|██████████| 300/300 [00:00<00:00, 341.24it/s]\n",
      "100%|██████████| 300/300 [00:00<00:00, 311.39it/s]\n",
      "100%|██████████| 300/300 [00:00<00:00, 368.28it/s]\n",
      "100%|██████████| 300/300 [00:00<00:00, 350.97it/s]\n",
      "100%|██████████| 300/300 [00:00<00:00, 345.60it/s]\n",
      "100%|██████████| 300/300 [00:00<00:00, 390.12it/s]\n",
      "100%|██████████| 300/300 [00:00<00:00, 335.56it/s]\n",
      "100%|██████████| 300/300 [00:00<00:00, 313.32it/s]\n",
      "100%|██████████| 300/300 [00:00<00:00, 375.97it/s]\n",
      "100%|██████████| 300/300 [00:00<00:00, 386.69it/s]\n"
     ]
    }
   ],
   "source": [
    "data.load_all()"
   ]
  },
  {
   "cell_type": "markdown",
   "id": "4d192805",
   "metadata": {},
   "source": [
    "## CNN Baseline Model"
   ]
  },
  {
   "cell_type": "code",
   "execution_count": 10,
   "id": "7e3ef77b",
   "metadata": {},
   "outputs": [],
   "source": [
    "from model.hierarchical import trainer, baseline_cnn\n",
    "\n",
    "baseline_model = baseline_cnn.BaselineCNN(len(data.categories), len(data.groups))\n",
    "\n",
    "criterion = nn.CrossEntropyLoss()\n",
    "optimizer = torch.optim.Adam(baseline_model.parameters(), lr=5e-4)"
   ]
  },
  {
   "cell_type": "code",
   "execution_count": 9,
   "id": "aff205c2",
   "metadata": {},
   "outputs": [
    {
     "data": {
      "text/plain": [
       "<module 'model.hierarchical.baseline_cnn' from '/Users/naomileow/Documents/school/CS5242/project/model/hierarchical/baseline_cnn.py'>"
      ]
     },
     "execution_count": 9,
     "metadata": {},
     "output_type": "execute_result"
    }
   ],
   "source": [
    "importlib.reload(baseline_cnn)"
   ]
  },
  {
   "cell_type": "code",
   "execution_count": 11,
   "id": "d89ba372",
   "metadata": {},
   "outputs": [
    {
     "name": "stdout",
     "output_type": "stream",
     "text": [
      "epoch   0 |   100 batches loss: 48.1306\n",
      "[Epoch   0]: Training loss: 47.342840 | Accuracy: 0.131151 | Group accuracy: 0.270040\n",
      "[Epoch   0]: Validation loss: 45.666171 | Accuracy: 0.138889 | Within 3: 0.325000 | Group accuracy: 0.287500\n",
      "epoch   1 |   100 batches loss: 45.4475\n",
      "[Epoch   1]: Training loss: 45.114615 | Accuracy: 0.156151 | Group accuracy: 0.298413\n",
      "[Epoch   1]: Validation loss: 44.934224 | Accuracy: 0.147222 | Within 3: 0.337500 | Group accuracy: 0.298611\n",
      "epoch   2 |   100 batches loss: 44.4852\n",
      "[Epoch   2]: Training loss: 44.165503 | Accuracy: 0.170833 | Group accuracy: 0.313690\n",
      "[Epoch   2]: Validation loss: 46.100448 | Accuracy: 0.144444 | Within 3: 0.337500 | Group accuracy: 0.280556\n",
      "epoch   3 |   100 batches loss: 42.8467\n",
      "[Epoch   3]: Training loss: 42.776670 | Accuracy: 0.187500 | Group accuracy: 0.330952\n",
      "[Epoch   3]: Validation loss: 46.659933 | Accuracy: 0.134722 | Within 3: 0.333333 | Group accuracy: 0.270833\n",
      "epoch   4 |   100 batches loss: 43.0911\n",
      "[Epoch   4]: Training loss: 42.897928 | Accuracy: 0.190675 | Group accuracy: 0.331746\n",
      "[Epoch   4]: Validation loss: 42.513163 | Accuracy: 0.198611 | Within 3: 0.415278 | Group accuracy: 0.333333\n",
      "epoch   5 |   100 batches loss: 42.8556\n",
      "[Epoch   5]: Training loss: 42.392328 | Accuracy: 0.200794 | Group accuracy: 0.336508\n",
      "[Epoch   5]: Validation loss: 41.087404 | Accuracy: 0.209722 | Within 3: 0.415278 | Group accuracy: 0.352778\n",
      "epoch   6 |   100 batches loss: 40.9064\n",
      "[Epoch   6]: Training loss: 41.567523 | Accuracy: 0.203968 | Group accuracy: 0.350000\n",
      "[Epoch   6]: Validation loss: 42.894415 | Accuracy: 0.194444 | Within 3: 0.400000 | Group accuracy: 0.322222\n",
      "epoch   7 |   100 batches loss: 40.3058\n",
      "[Epoch   7]: Training loss: 40.369719 | Accuracy: 0.219246 | Group accuracy: 0.370635\n",
      "[Epoch   7]: Validation loss: 41.078127 | Accuracy: 0.212500 | Within 3: 0.423611 | Group accuracy: 0.352778\n",
      "epoch   8 |   100 batches loss: 39.9762\n",
      "[Epoch   8]: Training loss: 40.363451 | Accuracy: 0.224405 | Group accuracy: 0.366667\n",
      "[Epoch   8]: Validation loss: 41.382374 | Accuracy: 0.209722 | Within 3: 0.416667 | Group accuracy: 0.340278\n",
      "epoch   9 |   100 batches loss: 40.4422\n",
      "[Epoch   9]: Training loss: 40.154936 | Accuracy: 0.231349 | Group accuracy: 0.369841\n",
      "[Epoch   9]: Validation loss: 41.551135 | Accuracy: 0.212500 | Within 3: 0.436111 | Group accuracy: 0.345833\n",
      "epoch  10 |   100 batches loss: 39.3182\n",
      "[Epoch  10]: Training loss: 39.432247 | Accuracy: 0.235317 | Group accuracy: 0.383929\n",
      "[Epoch  10]: Validation loss: 40.292206 | Accuracy: 0.204167 | Within 3: 0.416667 | Group accuracy: 0.372222\n",
      "epoch  11 |   100 batches loss: 38.3023\n",
      "[Epoch  11]: Training loss: 38.852223 | Accuracy: 0.253175 | Group accuracy: 0.389087\n",
      "[Epoch  11]: Validation loss: 41.164555 | Accuracy: 0.200000 | Within 3: 0.408333 | Group accuracy: 0.358333\n",
      "epoch  12 |   100 batches loss: 37.6279\n",
      "[Epoch  12]: Training loss: 38.077001 | Accuracy: 0.258333 | Group accuracy: 0.401984\n",
      "[Epoch  12]: Validation loss: 41.922301 | Accuracy: 0.205556 | Within 3: 0.448611 | Group accuracy: 0.350000\n",
      "epoch  13 |   100 batches loss: 38.1433\n",
      "[Epoch  13]: Training loss: 37.995778 | Accuracy: 0.263690 | Group accuracy: 0.403968\n",
      "[Epoch  13]: Validation loss: 40.575762 | Accuracy: 0.218056 | Within 3: 0.459722 | Group accuracy: 0.361111\n",
      "epoch  14 |   100 batches loss: 37.2102\n",
      "[Epoch  14]: Training loss: 37.358737 | Accuracy: 0.277778 | Group accuracy: 0.414087\n",
      "[Epoch  14]: Validation loss: 40.729377 | Accuracy: 0.240278 | Within 3: 0.450000 | Group accuracy: 0.363889\n",
      "epoch  15 |   100 batches loss: 37.1159\n",
      "[Epoch  15]: Training loss: 36.633163 | Accuracy: 0.285913 | Group accuracy: 0.423016\n",
      "[Epoch  15]: Validation loss: 38.808494 | Accuracy: 0.222222 | Within 3: 0.444444 | Group accuracy: 0.400000\n",
      "epoch  16 |   100 batches loss: 35.7247\n",
      "[Epoch  16]: Training loss: 35.846268 | Accuracy: 0.293452 | Group accuracy: 0.434325\n",
      "[Epoch  16]: Validation loss: 40.328523 | Accuracy: 0.229167 | Within 3: 0.445833 | Group accuracy: 0.365278\n",
      "epoch  17 |   100 batches loss: 36.0798\n",
      "[Epoch  17]: Training loss: 35.810796 | Accuracy: 0.298611 | Group accuracy: 0.431944\n",
      "[Epoch  17]: Validation loss: 39.607706 | Accuracy: 0.237500 | Within 3: 0.456944 | Group accuracy: 0.380556\n",
      "epoch  18 |   100 batches loss: 33.5773\n",
      "[Epoch  18]: Training loss: 34.309010 | Accuracy: 0.313492 | Group accuracy: 0.454762\n",
      "[Epoch  18]: Validation loss: 41.182574 | Accuracy: 0.233333 | Within 3: 0.438889 | Group accuracy: 0.350000\n",
      "epoch  19 |   100 batches loss: 33.1785\n",
      "[Epoch  19]: Training loss: 33.458047 | Accuracy: 0.332540 | Group accuracy: 0.472222\n",
      "[Epoch  19]: Validation loss: 37.806815 | Accuracy: 0.255556 | Within 3: 0.491667 | Group accuracy: 0.408333\n",
      "epoch  20 |   100 batches loss: 32.6808\n",
      "[Epoch  20]: Training loss: 32.340178 | Accuracy: 0.346825 | Group accuracy: 0.488294\n",
      "[Epoch  20]: Validation loss: 40.867225 | Accuracy: 0.213889 | Within 3: 0.450000 | Group accuracy: 0.358333\n",
      "epoch  21 |   100 batches loss: 30.4519\n",
      "[Epoch  21]: Training loss: 30.979788 | Accuracy: 0.365079 | Group accuracy: 0.501587\n",
      "[Epoch  21]: Validation loss: 38.295579 | Accuracy: 0.251389 | Within 3: 0.459722 | Group accuracy: 0.395833\n",
      "epoch  22 |   100 batches loss: 29.6794\n",
      "[Epoch  22]: Training loss: 29.916244 | Accuracy: 0.383532 | Group accuracy: 0.520238\n",
      "[Epoch  22]: Validation loss: 40.209435 | Accuracy: 0.241667 | Within 3: 0.463889 | Group accuracy: 0.381944\n",
      "epoch  23 |   100 batches loss: 28.9661\n",
      "[Epoch  23]: Training loss: 28.784221 | Accuracy: 0.395833 | Group accuracy: 0.539286\n",
      "[Epoch  23]: Validation loss: 39.237721 | Accuracy: 0.247222 | Within 3: 0.473611 | Group accuracy: 0.388889\n",
      "epoch  24 |   100 batches loss: 25.8117\n",
      "[Epoch  24]: Training loss: 26.303191 | Accuracy: 0.426786 | Group accuracy: 0.575794\n",
      "[Epoch  24]: Validation loss: 40.685760 | Accuracy: 0.233333 | Within 3: 0.461111 | Group accuracy: 0.370833\n",
      "epoch  25 |   100 batches loss: 23.9328\n",
      "[Epoch  25]: Training loss: 24.801473 | Accuracy: 0.453968 | Group accuracy: 0.595437\n",
      "[Epoch  25]: Validation loss: 39.933950 | Accuracy: 0.240278 | Within 3: 0.473611 | Group accuracy: 0.383333\n",
      "epoch  26 |   100 batches loss: 21.6224\n",
      "[Epoch  26]: Training loss: 22.293985 | Accuracy: 0.487500 | Group accuracy: 0.636310\n",
      "[Epoch  26]: Validation loss: 40.305363 | Accuracy: 0.230556 | Within 3: 0.463889 | Group accuracy: 0.372222\n",
      "epoch  27 |   100 batches loss: 19.3181\n",
      "[Epoch  27]: Training loss: 20.503483 | Accuracy: 0.510714 | Group accuracy: 0.666071\n",
      "[Epoch  27]: Validation loss: 40.742170 | Accuracy: 0.247222 | Within 3: 0.473611 | Group accuracy: 0.366667\n",
      "epoch  28 |   100 batches loss: 17.3939\n",
      "[Epoch  28]: Training loss: 18.603485 | Accuracy: 0.546230 | Group accuracy: 0.691270\n",
      "[Epoch  28]: Validation loss: 41.601978 | Accuracy: 0.238889 | Within 3: 0.438889 | Group accuracy: 0.365278\n",
      "epoch  29 |   100 batches loss: 15.1389\n",
      "[Epoch  29]: Training loss: 15.574234 | Accuracy: 0.584722 | Group accuracy: 0.743056\n",
      "[Epoch  29]: Validation loss: 40.068101 | Accuracy: 0.243056 | Within 3: 0.481944 | Group accuracy: 0.383333\n",
      "Best epoch:  19\n"
     ]
    }
   ],
   "source": [
    "batch_size = 32\n",
    "mtrainer = trainer.Trainer(baseline_model, optimizer, criterion, data, batch_size)\n",
    "mtrainer.run_train(30)"
   ]
  },
  {
   "cell_type": "code",
   "execution_count": 12,
   "id": "d8c903eb",
   "metadata": {},
   "outputs": [
    {
     "name": "stdout",
     "output_type": "stream",
     "text": [
      "Group accuracy: 39.58333333333333 %\n",
      "Accuracy of the network on the test images: 23.958333333333336 %\n",
      "Accuracy within top 3 results: 45.83333333333333 %\n",
      "(Men's-Wear, Women's-Apparel): 16\n",
      "(Women's-Shoes, Women's-Apparel): 16\n",
      "(Kids-Fashion, Women's-Apparel): 16\n",
      "(Beauty-Personal-Care, Health-Wellness): 13\n",
      "(Computers-Peripherals, Cameras-Drones): 12\n",
      "(Women's-Bags, Women's-Apparel): 11\n",
      "(Automotive, Video-Games): 10\n",
      "(Toys-Kids-Babies, Health-Wellness): 10\n",
      "(Food-Beverages, Hobbies-Books): 10\n",
      "(Jewellery-Accessories, Women's-Apparel): 10\n",
      "(Men's-Bags, Men's-Wear): 9\n",
      "(Video-Games, Hobbies-Books): 9\n",
      "(Home-Appliances, Health-Wellness): 8\n",
      "(Pet-Food-Supplies, Hobbies-Books): 8\n",
      "(Computers-Peripherals, Health-Wellness): 8\n",
      "(Watches, Men's-Bags): 8\n",
      "(Home-Living, Home-Appliances): 8\n",
      "(Hobbies-Books, Toys-Kids-Babies): 8\n",
      "(Mobile-Gadgets, Home-Appliances): 8\n",
      "(Home-Appliances, Cameras-Drones): 7\n",
      "(Sports-Outdoors, Men's-Bags): 7\n",
      "(Health-Wellness, Food-Beverages): 7\n",
      "(Automotive, Men's-Bags): 7\n",
      "(Kids-Fashion, Hobbies-Books): 7\n",
      "(Kids-Fashion, Jewellery-Accessories): 7\n"
     ]
    }
   ],
   "source": [
    "test_loss, test_acc, top_k, group_acc, incorect_stats = mtrainer.run_test(mtrainer.testloader, 3, True)\n",
    "print(f'Group accuracy: {group_acc*100} %')\n",
    "print(f'Accuracy of the network on the test images: {test_acc*100} %')\n",
    "print(f'Accuracy within top 3 results: {top_k*100} %')\n",
    "\n",
    "from collections import Counter\n",
    "\n",
    "counts = Counter(incorect_stats).most_common(25)\n",
    "for k, v in counts:\n",
    "    print(f\"({data.categories[k[0]]}, {data.categories[k[1]]}): {v}\")"
   ]
  }
 ],
 "metadata": {
  "kernelspec": {
   "display_name": "Python 3 (ipykernel)",
   "language": "python",
   "name": "python3"
  },
  "language_info": {
   "codemirror_mode": {
    "name": "ipython",
    "version": 3
   },
   "file_extension": ".py",
   "mimetype": "text/x-python",
   "name": "python",
   "nbconvert_exporter": "python",
   "pygments_lexer": "ipython3",
   "version": "3.9.12"
  },
  "vscode": {
   "interpreter": {
    "hash": "d88d51e5feeef7cdbc38f54879bc8b14b595db7785db4e3b195d2593607adbb2"
   }
  }
 },
 "nbformat": 4,
 "nbformat_minor": 5
}
