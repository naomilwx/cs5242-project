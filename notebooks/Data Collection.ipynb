{
 "cells": [
  {
   "cell_type": "markdown",
   "metadata": {},
   "source": [
    "## Getting the list of product categories from Shopee\n",
    "\n",
    "The aim of this project is to build a classifier that can predict the top level category that a product belongs to, given a product image. First, we need to obtain the list of product categories from Shopee.\n",
    "\n",
    "The url for each category listing can be obtained from shopee via the following code:"
   ]
  },
  {
   "cell_type": "code",
   "execution_count": null,
   "metadata": {},
   "outputs": [],
   "source": [
    "#  Set import path, this is required for this notebook to be runnable from `notebooks`\n",
    "import sys\n",
    "sys.path.insert(0, '../')"
   ]
  },
  {
   "cell_type": "code",
   "execution_count": null,
   "metadata": {},
   "outputs": [],
   "source": [
    "# Install necessary dependencies\n",
    "!pip install selenium\n",
    "!pip install webdriver-manager"
   ]
  },
  {
   "cell_type": "code",
   "execution_count": 4,
   "metadata": {},
   "outputs": [
    {
     "name": "stderr",
     "output_type": "stream",
     "text": [
      "INFO:WDM:====== WebDriver manager ======\n",
      "INFO:WDM:Get LATEST chromedriver version for google-chrome 107.0.5304\n",
      "INFO:WDM:Driver [/Users/naomileow/.wdm/drivers/chromedriver/mac_arm64/107.0.5304/chromedriver] found in cache\n"
     ]
    },
    {
     "name": "stdout",
     "output_type": "stream",
     "text": [
      "[\"https://shopee.sg/Women's-Apparel-cat.11012819\", \"https://shopee.sg/Men's-Wear-cat.11012963\", 'https://shopee.sg/Mobile-Gadgets-cat.11013350', 'https://shopee.sg/Home-Living-cat.11000001', 'https://shopee.sg/Computers-Peripherals-cat.11013247', 'https://shopee.sg/Beauty-Personal-Care-cat.11012301', 'https://shopee.sg/Home-Appliances-cat.11027421', 'https://shopee.sg/Health-Wellness-cat.11027491', 'https://shopee.sg/Food-Beverages-cat.11011871', 'https://shopee.sg/Toys-Kids-Babies-cat.11011538', 'https://shopee.sg/Kids-Fashion-cat.11012218', 'https://shopee.sg/Video-Games-cat.11013478', 'https://shopee.sg/Sports-Outdoors-cat.11012018', 'https://shopee.sg/Hobbies-Books-cat.11011760', 'https://shopee.sg/Cameras-Drones-cat.11013548', 'https://shopee.sg/Pet-Food-Supplies-cat.11012453', \"https://shopee.sg/Women's-Bags-cat.11012592\", \"https://shopee.sg/Men's-Bags-cat.11012659\", 'https://shopee.sg/Jewellery-Accessories-cat.11013077', 'https://shopee.sg/Watches-cat.11012515', \"https://shopee.sg/Women's-Shoes-cat.11012698\", \"https://shopee.sg/Men's-Shoes-cat.11012767\", 'https://shopee.sg/Automotive-cat.11000002', 'https://shopee.sg/ShopeePay-Near-Me-cat.11080712', 'https://shopee.sg/Dining-Travel-Services-cat.11012255', 'https://shopee.sg/Travel-Luggage-cat.11012566', 'https://shopee.sg/Miscellaneous-cat.11029718']\n"
     ]
    }
   ],
   "source": [
    "from scripts.crawler import get_category_urls\n",
    "category_urls = get_category_urls()\n",
    "print(category_urls)"
   ]
  },
  {
   "cell_type": "markdown",
   "metadata": {},
   "source": [
    "## Getting the product listing for each category\n",
    "For each product category, 3000 most recent listings are obtained from Shopee's V4 API with the [shopee-crawler](https://github.com/lthoangg/shopee-crawler) library, which contains scripts to obtain the list of products from Shopee, given the category url.\n",
    "\n",
    "Important note: The product listings were obtained on 21 October 2022. However, as of 13 November 2022, the code no longer works, due to a major change in Shopee's API, which now only allows credentialed access to the API."
   ]
  },
  {
   "cell_type": "code",
   "execution_count": null,
   "metadata": {},
   "outputs": [],
   "source": [
    "# Install the necessary dependencies\n",
    "!pip install shopee_crawler\n",
    "\n",
    "datadir = '../data'\n",
    "from scripts.crawler import get_category_data, download_images\n",
    "for c in category_urls:\n",
    "    ## Get json containing the product listing for the category and save it in a file in the `data` folder\n",
    "    ## The file will be named [category].json\n",
    "    get_category_data(datadir, c)\n",
    "\n",
    "# Parse file containing the product listings for each category and obtain the associated images\n",
    "# The images will be saved in `data/images/[category]`\n",
    "# This takes hours to run\n",
    "download_images(datadir)"
   ]
  },
  {
   "cell_type": "markdown",
   "metadata": {},
   "source": [
    "## Obtaining the dataset used in the project\n",
    "The raw product images that we have obtained from Shopee can be obtained from the following Google Drive [url](https://drive.google.com/file/d/1SHSNueRjjoCwcRRjS2DfDkqavJ6SJPXK/view?usp=sharing)."
   ]
  },
  {
   "cell_type": "code",
   "execution_count": null,
   "metadata": {},
   "outputs": [],
   "source": [
    "!wget --load-cookies cookies.txt \"https://docs.google.com/uc?export=download&confirm=$(wget --quiet --save-cookies /tmp/cookies.txt --keep-session-cookies --no-check-certificate https://drive.google.com/uc?export=download&id=1SHSNueRjjoCwcRRjS2DfDkqavJ6SJPXK -O | sed -rn 's/.*confirm=([0-9A-Za-z_]+).*/\\1\\n/p')&id=1SHSNueRjjoCwcRRjS2DfDkqavJ6SJPXK\" -O images.tar.gz && rm -rf cookies.txt\n",
    "\n",
    "!tar -xvf images.tar.gz --directory ../data/\n",
    "!rm images.tar.gz"
   ]
  }
 ],
 "metadata": {
  "kernelspec": {
   "display_name": "Python 3.9.12 ('cs5242-proj')",
   "language": "python",
   "name": "python3"
  },
  "language_info": {
   "codemirror_mode": {
    "name": "ipython",
    "version": 3
   },
   "file_extension": ".py",
   "mimetype": "text/x-python",
   "name": "python",
   "nbconvert_exporter": "python",
   "pygments_lexer": "ipython3",
   "version": "3.9.12"
  },
  "orig_nbformat": 4,
  "vscode": {
   "interpreter": {
    "hash": "d88d51e5feeef7cdbc38f54879bc8b14b595db7785db4e3b195d2593607adbb2"
   }
  }
 },
 "nbformat": 4,
 "nbformat_minor": 2
}
