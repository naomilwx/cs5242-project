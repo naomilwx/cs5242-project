{
 "cells": [
  {
   "cell_type": "markdown",
   "metadata": {},
   "source": [
    "# Product Classification: Baseline CNN Model and improvements"
   ]
  },
  {
   "cell_type": "markdown",
   "metadata": {},
   "source": [
    "In this notebook, we will develop a model which can predict a product image's Shopee product category. \n",
    "\n",
    "The models are implemented in PyTorch. This notebook was run on a M1 Macbook Pro, with dependency versions as documented in environment.yml\n",
    "\n",
    "## Data Setup"
   ]
  },
  {
   "cell_type": "code",
   "execution_count": 1,
   "metadata": {},
   "outputs": [],
   "source": [
    "# If notebook is not at the root\n",
    "# This is needed for this notebook to be runnable from the `notebooks` folder instead of the root.\n",
    "import sys\n",
    "sys.path.insert(0, '../')\n",
    "image_dir = '../data/selected_images/'"
   ]
  },
  {
   "cell_type": "code",
   "execution_count": 2,
   "metadata": {},
   "outputs": [
    {
     "name": "stderr",
     "output_type": "stream",
     "text": [
      "100%|██████████| 500/500 [00:01<00:00, 351.45it/s]\n",
      "100%|██████████| 500/500 [00:01<00:00, 353.49it/s]\n",
      "100%|██████████| 500/500 [00:01<00:00, 342.22it/s]\n",
      "100%|██████████| 500/500 [00:01<00:00, 362.96it/s]\n",
      "100%|██████████| 500/500 [00:01<00:00, 307.11it/s]\n",
      "100%|██████████| 500/500 [00:01<00:00, 294.34it/s]\n",
      "100%|██████████| 500/500 [00:01<00:00, 316.11it/s]\n",
      "100%|██████████| 500/500 [00:01<00:00, 370.93it/s]\n",
      "100%|██████████| 500/500 [00:01<00:00, 268.71it/s]\n"
     ]
    }
   ],
   "source": [
    "from model import dataset\n",
    "\n",
    "data = dataset.DataSet(max_num_img=500, crop=0.9, path=image_dir)\n",
    "data.load_all()\n",
    "\n",
    "# For all models, we will train with a batch size of 32\n",
    "batch_size = 32\n",
    "seed = 42\n",
    "data_seed = 42"
   ]
  },
  {
   "cell_type": "markdown",
   "metadata": {},
   "source": [
    "## Baseline Model\n",
    "Since this is an image classification problem, we build a baseline model which uses a few stacked 3x3 convolutions for feature extraction. We have a final fully connected layer which takes in the final output from the convolutional layers and outputs a list of probabilities for each class. The exact structure is as follows: Conv3-16 -> Conv16-16 -> 2x2 maxPool -> Conv16-32 -> Conv32-32 -> 2x2 maxPool -> Conv32-64 -> Conv64-64 -> 2x2 maxPool -> Conv64-128 -> Conv128-128 -> 2x2 maxPool -> 1x1 adaptive average pool -> 128-[num classes] fc; where ConvA-B means the number of input channels is A, and the number of output channels is B. We apply ReLU then batch normalisation after each 3x3 convolution. \n",
    "\n",
    "We found in our experiments that applying batch normalisation after each convolution results in better performance. In addition, we found that placing ReLu before batch normalisation results in better performance than batch normalisation before ReLU. "
   ]
  },
  {
   "cell_type": "code",
   "execution_count": 4,
   "metadata": {},
   "outputs": [],
   "source": [
    "import torch\n",
    "import torch.nn as nn\n",
    "\n",
    "from model import trainer, baseline_cnn_1\n",
    "\n",
    "torch.manual_seed(seed)\n",
    "\n",
    "baseline_cnn_model = baseline_cnn_1.BaselineCNN1(len(data.categories))\n",
    "# Use weight \n",
    "optimizer = torch.optim.Adam(baseline_cnn_model.parameters(), lr=4e-4, weight_decay=5e-4)\n",
    "criterion = nn.CrossEntropyLoss()\n",
    "\n",
    "# The trainer has methods to split the dataset into training (0.7), validation (0.1) and test (0.2) sets respectively.\n",
    "# The seed is set accordingly for a consistent split.\n",
    "mtrainer = trainer.Trainer(baseline_cnn_model, optimizer, criterion, data, batch_size, seed=data_seed, random_transform=False)"
   ]
  },
  {
   "cell_type": "code",
   "execution_count": 5,
   "metadata": {},
   "outputs": [
    {
     "name": "stdout",
     "output_type": "stream",
     "text": [
      "[Epoch   0]: Training loss: 1.752771 | Accuracy: 0.378730\n",
      "[Epoch   0]: Validation loss: 1.782797 | Accuracy: 0.344444 | Within 3: 0.733333\n",
      "[Epoch   1]: Training loss: 1.571027 | Accuracy: 0.445079\n",
      "[Epoch   1]: Validation loss: 1.788241 | Accuracy: 0.362222 | Within 3: 0.711111\n",
      "[Epoch   2]: Training loss: 1.461987 | Accuracy: 0.500952\n",
      "[Epoch   2]: Validation loss: 1.546405 | Accuracy: 0.482222 | Within 3: 0.766667\n",
      "[Epoch   3]: Training loss: 1.398670 | Accuracy: 0.522540\n",
      "[Epoch   3]: Validation loss: 2.105829 | Accuracy: 0.353333 | Within 3: 0.628889\n",
      "[Epoch   4]: Training loss: 1.333582 | Accuracy: 0.550159\n",
      "[Epoch   4]: Validation loss: 1.388717 | Accuracy: 0.508889 | Within 3: 0.826667\n",
      "[Epoch   5]: Training loss: 1.273665 | Accuracy: 0.574286\n",
      "[Epoch   5]: Validation loss: 1.526939 | Accuracy: 0.484444 | Within 3: 0.831111\n",
      "[Epoch   6]: Training loss: 1.218312 | Accuracy: 0.602222\n",
      "[Epoch   6]: Validation loss: 1.427212 | Accuracy: 0.495556 | Within 3: 0.800000\n",
      "[Epoch   7]: Training loss: 1.178514 | Accuracy: 0.601587\n",
      "[Epoch   7]: Validation loss: 1.597865 | Accuracy: 0.486667 | Within 3: 0.786667\n",
      "[Epoch   8]: Training loss: 1.111176 | Accuracy: 0.629524\n",
      "[Epoch   8]: Validation loss: 1.460084 | Accuracy: 0.486667 | Within 3: 0.800000\n",
      "[Epoch   9]: Training loss: 1.057454 | Accuracy: 0.658095\n",
      "[Epoch   9]: Validation loss: 1.446951 | Accuracy: 0.508889 | Within 3: 0.806667\n",
      "[Epoch  10]: Training loss: 1.021916 | Accuracy: 0.658413\n",
      "[Epoch  10]: Validation loss: 3.342046 | Accuracy: 0.244444 | Within 3: 0.613333\n",
      "[Epoch  11]: Training loss: 0.960734 | Accuracy: 0.688254\n",
      "[Epoch  11]: Validation loss: 1.618994 | Accuracy: 0.493333 | Within 3: 0.808889\n",
      "[Epoch  12]: Training loss: 0.911866 | Accuracy: 0.700317\n",
      "[Epoch  12]: Validation loss: 1.227219 | Accuracy: 0.595556 | Within 3: 0.844444\n",
      "[Epoch  13]: Training loss: 0.843358 | Accuracy: 0.720952\n",
      "[Epoch  13]: Validation loss: 1.300310 | Accuracy: 0.555556 | Within 3: 0.817778\n",
      "[Epoch  14]: Training loss: 0.794866 | Accuracy: 0.743810\n",
      "[Epoch  14]: Validation loss: 1.854574 | Accuracy: 0.388889 | Within 3: 0.713333\n",
      "[Epoch  15]: Training loss: 0.759244 | Accuracy: 0.750476\n",
      "[Epoch  15]: Validation loss: 1.254721 | Accuracy: 0.611111 | Within 3: 0.882222\n",
      "[Epoch  16]: Training loss: 0.679584 | Accuracy: 0.792063\n",
      "[Epoch  16]: Validation loss: 1.208789 | Accuracy: 0.606667 | Within 3: 0.880000\n",
      "[Epoch  17]: Training loss: 0.617539 | Accuracy: 0.811746\n",
      "[Epoch  17]: Validation loss: 1.140664 | Accuracy: 0.655556 | Within 3: 0.868889\n",
      "[Epoch  18]: Training loss: 0.566318 | Accuracy: 0.822222\n",
      "[Epoch  18]: Validation loss: 1.469831 | Accuracy: 0.606667 | Within 3: 0.860000\n",
      "[Epoch  19]: Training loss: 0.519075 | Accuracy: 0.840317\n",
      "[Epoch  19]: Validation loss: 1.096961 | Accuracy: 0.642222 | Within 3: 0.864444\n",
      "[Epoch  20]: Training loss: 0.439747 | Accuracy: 0.871111\n",
      "[Epoch  20]: Validation loss: 1.584790 | Accuracy: 0.540000 | Within 3: 0.826667\n",
      "[Epoch  21]: Training loss: 0.357027 | Accuracy: 0.907937\n",
      "[Epoch  21]: Validation loss: 1.286037 | Accuracy: 0.613333 | Within 3: 0.840000\n",
      "[Epoch  22]: Training loss: 0.322580 | Accuracy: 0.913016\n",
      "[Epoch  22]: Validation loss: 1.306171 | Accuracy: 0.633333 | Within 3: 0.846667\n",
      "[Epoch  23]: Training loss: 0.261640 | Accuracy: 0.939365\n",
      "[Epoch  23]: Validation loss: 1.028478 | Accuracy: 0.682222 | Within 3: 0.882222\n",
      "[Epoch  24]: Training loss: 0.202066 | Accuracy: 0.964762\n",
      "[Epoch  24]: Validation loss: 1.350468 | Accuracy: 0.604444 | Within 3: 0.837778\n",
      "[Epoch  25]: Training loss: 0.197388 | Accuracy: 0.957460\n",
      "[Epoch  25]: Validation loss: 1.308843 | Accuracy: 0.624444 | Within 3: 0.855556\n",
      "[Epoch  26]: Training loss: 0.166588 | Accuracy: 0.969841\n",
      "[Epoch  26]: Validation loss: 1.229734 | Accuracy: 0.620000 | Within 3: 0.864444\n",
      "[Epoch  27]: Training loss: 0.129387 | Accuracy: 0.978413\n",
      "[Epoch  27]: Validation loss: 1.274535 | Accuracy: 0.626667 | Within 3: 0.864444\n",
      "[Epoch  28]: Training loss: 0.101990 | Accuracy: 0.985714\n",
      "[Epoch  28]: Validation loss: 1.266656 | Accuracy: 0.635556 | Within 3: 0.862222\n",
      "[Epoch  29]: Training loss: 0.088705 | Accuracy: 0.990794\n",
      "[Epoch  29]: Validation loss: 1.225644 | Accuracy: 0.657778 | Within 3: 0.882222\n",
      "Best epoch:  23\n"
     ]
    }
   ],
   "source": [
    "# Train the model for 30 epochs\n",
    "mtrainer.run_train(30)"
   ]
  },
  {
   "cell_type": "code",
   "execution_count": 6,
   "metadata": {},
   "outputs": [
    {
     "name": "stdout",
     "output_type": "stream",
     "text": [
      "Accuracy of the best model on the test images: 69.22222222222221 %\n",
      "Accuracy of the fully trained model on the test images: 66.55555555555556 %\n"
     ]
    }
   ],
   "source": [
    "_, test_acc, _ = mtrainer.run_test(mtrainer.testloader, 3)\n",
    "print(f'Accuracy of the best model on the test images: {test_acc*100} %') # Best model within 30 epochs\n",
    "\n",
    "_, test_acc, _ = mtrainer.run_test(mtrainer.testloader, model=mtrainer.model)\n",
    "print(f'Accuracy of the fully trained model on the test images: {test_acc*100} %') # Model after 30 epochs"
   ]
  },
  {
   "cell_type": "markdown",
   "metadata": {},
   "source": [
    "We found that the model tends to overfit the data after about 20 epochs. "
   ]
  },
  {
   "cell_type": "markdown",
   "metadata": {},
   "source": [
    "## Improving the baseline model\n",
    "We define a ConvBlock[A][B] group as a set of 3x3 ConvA-B->ConvB-B convolution blocks.\n",
    "We try improving the baseline model either by adding an additional ConvBlock[128][256] group, or stacking additional 3x3 convolution blocks with the same number of channels. The former is roughly corresponds to increasing the feature representation ability of the network while the latter is roughly equivalent to increasing the receptive field of the convolution group.\n",
    "\n",
    "We found that adding the additional ConvBlock[128][256] group improves the performance of the model, but stacking additional 3x3 convolution blocks with the same number of channels reduces the performance of the model. (Need to confirm )\n",
    "\n",
    "We also tried increasing the depth of the classification layer, but found that it does not improve the performance of the model.\n",
    "\n",
    "#### The model with an additional ConvBlock\n",
    "This means adding an additional Conv128-256 -> Conv256-256 -> 2x2 maxPool to the model's feature extractor"
   ]
  },
  {
   "cell_type": "code",
   "execution_count": 8,
   "metadata": {},
   "outputs": [],
   "source": [
    "import torch\n",
    "import torch.nn as nn\n",
    "\n",
    "from model import trainer, deeper_cnn\n",
    "\n",
    "torch.manual_seed(seed)\n",
    "\n",
    "deeper_model = deeper_cnn.DeeperCNN(len(data.categories))\n",
    "\n",
    "criterion = nn.CrossEntropyLoss()\n",
    "optimizer = torch.optim.Adam(deeper_model.parameters(), lr=4e-4, weight_decay=5e-4)\n",
    "\n",
    "mtrainer = trainer.Trainer(deeper_model, optimizer, criterion, data, batch_size, seed=data_seed, random_transform=False)"
   ]
  },
  {
   "cell_type": "code",
   "execution_count": 9,
   "metadata": {},
   "outputs": [
    {
     "name": "stdout",
     "output_type": "stream",
     "text": [
      "[Epoch   0]: Training loss: 1.682192 | Accuracy: 0.406349\n",
      "[Epoch   0]: Validation loss: 1.719534 | Accuracy: 0.380000 | Within 3: 0.720000\n",
      "[Epoch   1]: Training loss: 1.491947 | Accuracy: 0.480635\n",
      "[Epoch   1]: Validation loss: 1.794454 | Accuracy: 0.408889 | Within 3: 0.726667\n",
      "[Epoch   2]: Training loss: 1.372921 | Accuracy: 0.533651\n",
      "[Epoch   2]: Validation loss: 1.379984 | Accuracy: 0.482222 | Within 3: 0.800000\n",
      "[Epoch   3]: Training loss: 1.229030 | Accuracy: 0.572063\n",
      "[Epoch   3]: Validation loss: 1.678931 | Accuracy: 0.464444 | Within 3: 0.757778\n",
      "[Epoch   4]: Training loss: 1.170719 | Accuracy: 0.590159\n",
      "[Epoch   4]: Validation loss: 1.657043 | Accuracy: 0.471111 | Within 3: 0.742222\n",
      "[Epoch   5]: Training loss: 1.081296 | Accuracy: 0.629841\n",
      "[Epoch   5]: Validation loss: 1.324579 | Accuracy: 0.564444 | Within 3: 0.813333\n",
      "[Epoch   6]: Training loss: 1.029254 | Accuracy: 0.646349\n",
      "[Epoch   6]: Validation loss: 1.389609 | Accuracy: 0.611111 | Within 3: 0.851111\n",
      "[Epoch   7]: Training loss: 0.908297 | Accuracy: 0.691746\n",
      "[Epoch   7]: Validation loss: 1.402527 | Accuracy: 0.526667 | Within 3: 0.808889\n",
      "[Epoch   8]: Training loss: 0.832722 | Accuracy: 0.720952\n",
      "[Epoch   8]: Validation loss: 1.319395 | Accuracy: 0.560000 | Within 3: 0.824444\n",
      "[Epoch   9]: Training loss: 0.781159 | Accuracy: 0.735238\n",
      "[Epoch   9]: Validation loss: 1.123470 | Accuracy: 0.633333 | Within 3: 0.866667\n",
      "[Epoch  10]: Training loss: 0.651234 | Accuracy: 0.788254\n",
      "[Epoch  10]: Validation loss: 1.252359 | Accuracy: 0.631111 | Within 3: 0.866667\n",
      "[Epoch  11]: Training loss: 0.594087 | Accuracy: 0.799048\n",
      "[Epoch  11]: Validation loss: 1.315173 | Accuracy: 0.613333 | Within 3: 0.846667\n",
      "[Epoch  12]: Training loss: 0.482740 | Accuracy: 0.844762\n",
      "[Epoch  12]: Validation loss: 1.126083 | Accuracy: 0.631111 | Within 3: 0.866667\n",
      "[Epoch  13]: Training loss: 0.386256 | Accuracy: 0.877143\n",
      "[Epoch  13]: Validation loss: 1.587795 | Accuracy: 0.517778 | Within 3: 0.826667\n",
      "[Epoch  14]: Training loss: 0.320905 | Accuracy: 0.902857\n",
      "[Epoch  14]: Validation loss: 1.176926 | Accuracy: 0.682222 | Within 3: 0.888889\n",
      "[Epoch  15]: Training loss: 0.243597 | Accuracy: 0.932381\n",
      "[Epoch  15]: Validation loss: 0.987065 | Accuracy: 0.673333 | Within 3: 0.908889\n",
      "[Epoch  16]: Training loss: 0.165923 | Accuracy: 0.960000\n",
      "[Epoch  16]: Validation loss: 1.018723 | Accuracy: 0.693333 | Within 3: 0.913333\n",
      "[Epoch  17]: Training loss: 0.114852 | Accuracy: 0.977460\n",
      "[Epoch  17]: Validation loss: 1.023600 | Accuracy: 0.675556 | Within 3: 0.908889\n",
      "[Epoch  18]: Training loss: 0.094720 | Accuracy: 0.981905\n",
      "[Epoch  18]: Validation loss: 1.134047 | Accuracy: 0.697778 | Within 3: 0.920000\n",
      "[Epoch  19]: Training loss: 0.091999 | Accuracy: 0.979048\n",
      "[Epoch  19]: Validation loss: 1.282293 | Accuracy: 0.640000 | Within 3: 0.875556\n",
      "[Epoch  20]: Training loss: 0.052685 | Accuracy: 0.995238\n",
      "[Epoch  20]: Validation loss: 1.001920 | Accuracy: 0.702222 | Within 3: 0.908889\n",
      "[Epoch  21]: Training loss: 0.086760 | Accuracy: 0.977460\n",
      "[Epoch  21]: Validation loss: 1.172031 | Accuracy: 0.691111 | Within 3: 0.880000\n",
      "[Epoch  22]: Training loss: 0.106941 | Accuracy: 0.974921\n",
      "[Epoch  22]: Validation loss: 1.139150 | Accuracy: 0.682222 | Within 3: 0.893333\n",
      "[Epoch  23]: Training loss: 0.102258 | Accuracy: 0.973651\n",
      "[Epoch  23]: Validation loss: 1.637196 | Accuracy: 0.615556 | Within 3: 0.866667\n",
      "[Epoch  24]: Training loss: 0.077201 | Accuracy: 0.983492\n",
      "[Epoch  24]: Validation loss: 1.251714 | Accuracy: 0.673333 | Within 3: 0.888889\n",
      "[Epoch  25]: Training loss: 0.040347 | Accuracy: 0.993968\n",
      "[Epoch  25]: Validation loss: 1.234521 | Accuracy: 0.688889 | Within 3: 0.906667\n",
      "[Epoch  26]: Training loss: 0.034115 | Accuracy: 0.994286\n",
      "[Epoch  26]: Validation loss: 1.136559 | Accuracy: 0.724444 | Within 3: 0.900000\n",
      "[Epoch  27]: Training loss: 0.033954 | Accuracy: 0.994603\n",
      "[Epoch  27]: Validation loss: 1.125356 | Accuracy: 0.711111 | Within 3: 0.897778\n",
      "[Epoch  28]: Training loss: 0.049694 | Accuracy: 0.986032\n",
      "[Epoch  28]: Validation loss: 1.071343 | Accuracy: 0.684444 | Within 3: 0.900000\n",
      "[Epoch  29]: Training loss: 0.043469 | Accuracy: 0.991746\n",
      "[Epoch  29]: Validation loss: 1.566279 | Accuracy: 0.677778 | Within 3: 0.882222\n",
      "Best epoch:  26\n"
     ]
    }
   ],
   "source": [
    "mtrainer.run_train(30)"
   ]
  },
  {
   "cell_type": "code",
   "execution_count": 10,
   "metadata": {},
   "outputs": [
    {
     "name": "stdout",
     "output_type": "stream",
     "text": [
      "Accuracy of the best model on the test images: 69.0 %\n",
      "Accuracy of the fully trained model on the test images: 67.77777777777779 %\n"
     ]
    }
   ],
   "source": [
    "_, test_acc, _ = mtrainer.run_test(mtrainer.testloader, 3)\n",
    "print(f'Accuracy of the best model on the test images: {test_acc*100} %') # Best model within 30 epochs\n",
    "\n",
    "_, test_acc, _ = mtrainer.run_test(mtrainer.testloader, model=mtrainer.model)\n",
    "print(f'Accuracy of the fully trained model on the test images: {test_acc*100} %') # Model after 30 epochs"
   ]
  },
  {
   "cell_type": "markdown",
   "metadata": {},
   "source": [
    "### Model with additional 3x3 convolutional block"
   ]
  },
  {
   "cell_type": "code",
   "execution_count": null,
   "metadata": {},
   "outputs": [],
   "source": []
  }
 ],
 "metadata": {
  "kernelspec": {
   "display_name": "Python 3.9.12 ('cs5242-proj')",
   "language": "python",
   "name": "python3"
  },
  "language_info": {
   "codemirror_mode": {
    "name": "ipython",
    "version": 3
   },
   "file_extension": ".py",
   "mimetype": "text/x-python",
   "name": "python",
   "nbconvert_exporter": "python",
   "pygments_lexer": "ipython3",
   "version": "3.9.12"
  },
  "orig_nbformat": 4,
  "vscode": {
   "interpreter": {
    "hash": "d88d51e5feeef7cdbc38f54879bc8b14b595db7785db4e3b195d2593607adbb2"
   }
  }
 },
 "nbformat": 4,
 "nbformat_minor": 2
}
