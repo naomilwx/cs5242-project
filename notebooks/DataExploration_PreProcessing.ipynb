{
 "cells": [
  {
   "cell_type": "markdown",
   "id": "c53e22fb",
   "metadata": {},
   "source": [
    "# Shopee Product Classification "
   ]
  },
  {
   "cell_type": "markdown",
   "id": "e00b4f80",
   "metadata": {},
   "source": [
    "Notebook to explore and pre-process the product image dataset obtained from the Shopee web scraper."
   ]
  },
  {
   "cell_type": "markdown",
   "id": "ceaa5624",
   "metadata": {},
   "source": [
    "* From the crawler, we obtained ~3000 images from each of the 27 categories. \n",
    "* We exclude 3 miscellaneous categories: 'ShopeePay-Near-Me', 'Miscellaneous', 'Dining-Travel-Services', thus 24 categories remain.\n",
    "\n",
    "### Data Exploration\n",
    "* Number of images sampled per category\n",
    "* Image similarity within categories\n",
    "* Image similarity across categories\n",
    "\n",
    "\n",
    "### Data Pre-processing\n",
    "* Remove duplicates\n",
    "* Sample each category equally\n",
    "* Data normalization\n",
    "* Background Removal\n",
    "* Text Removal"
   ]
  },
  {
   "cell_type": "markdown",
   "id": "70e52a97",
   "metadata": {},
   "source": [
    "## Imports and Config"
   ]
  },
  {
   "cell_type": "code",
   "execution_count": 1,
   "id": "97c7e4bf",
   "metadata": {
    "scrolled": true
   },
   "outputs": [
    {
     "name": "stdout",
     "output_type": "stream",
     "text": [
      "Defaulting to user installation because normal site-packages is not writeable\n",
      "Requirement already satisfied: scikit-image in c:\\users\\admin\\appdata\\roaming\\python\\python39\\site-packages (0.19.3)\n",
      "Requirement already satisfied: pillow!=7.1.0,!=7.1.1,!=8.3.0,>=6.1.0 in c:\\users\\admin\\appdata\\roaming\\python\\python39\\site-packages (from scikit-image) (9.2.0)\n",
      "Requirement already satisfied: networkx>=2.2 in c:\\users\\admin\\appdata\\roaming\\python\\python39\\site-packages (from scikit-image) (2.8.7)\n",
      "Requirement already satisfied: imageio>=2.4.1 in c:\\programdata\\anaconda3\\lib\\site-packages (from scikit-image) (2.9.0)\n",
      "Requirement already satisfied: tifffile>=2019.7.26 in c:\\programdata\\anaconda3\\lib\\site-packages (from scikit-image) (2021.7.2)\n",
      "Requirement already satisfied: numpy>=1.17.0 in c:\\users\\admin\\appdata\\roaming\\python\\python39\\site-packages (from scikit-image) (1.21.6)\n",
      "Requirement already satisfied: scipy>=1.4.1 in c:\\users\\admin\\appdata\\roaming\\python\\python39\\site-packages (from scikit-image) (1.7.3)\n",
      "Requirement already satisfied: packaging>=20.0 in c:\\programdata\\anaconda3\\lib\\site-packages (from scikit-image) (21.3)\n",
      "Requirement already satisfied: PyWavelets>=1.1.1 in c:\\programdata\\anaconda3\\lib\\site-packages (from scikit-image) (1.3.0)\n",
      "Requirement already satisfied: pyparsing!=3.0.5,>=2.0.2 in c:\\programdata\\anaconda3\\lib\\site-packages (from packaging>=20.0->scikit-image) (3.0.4)\n",
      "Defaulting to user installation because normal site-packages is not writeable\n",
      "Requirement already satisfied: shopee_crawler in c:\\users\\admin\\appdata\\roaming\\python\\python39\\site-packages (0.2.2)\n",
      "Defaulting to user installation because normal site-packages is not writeable\n",
      "Requirement already satisfied: torchvision in c:\\users\\admin\\appdata\\roaming\\python\\python39\\site-packages (0.13.1)\n",
      "Requirement already satisfied: typing-extensions in c:\\programdata\\anaconda3\\lib\\site-packages (from torchvision) (4.1.1)\n",
      "Requirement already satisfied: requests in c:\\programdata\\anaconda3\\lib\\site-packages (from torchvision) (2.27.1)\n",
      "Requirement already satisfied: numpy in c:\\users\\admin\\appdata\\roaming\\python\\python39\\site-packages (from torchvision) (1.21.6)\n",
      "Collecting torch==1.12.1\n",
      "  Using cached torch-1.12.1-cp39-cp39-win_amd64.whl (161.8 MB)\n",
      "Requirement already satisfied: pillow!=8.3.*,>=5.3.0 in c:\\users\\admin\\appdata\\roaming\\python\\python39\\site-packages (from torchvision) (9.2.0)\n",
      "Requirement already satisfied: certifi>=2017.4.17 in c:\\programdata\\anaconda3\\lib\\site-packages (from requests->torchvision) (2021.10.8)\n",
      "Requirement already satisfied: charset-normalizer~=2.0.0 in c:\\programdata\\anaconda3\\lib\\site-packages (from requests->torchvision) (2.0.4)\n",
      "Requirement already satisfied: idna<4,>=2.5 in c:\\programdata\\anaconda3\\lib\\site-packages (from requests->torchvision) (3.3)\n",
      "Requirement already satisfied: urllib3<1.27,>=1.21.1 in c:\\programdata\\anaconda3\\lib\\site-packages (from requests->torchvision) (1.26.9)\n",
      "Installing collected packages: torch\n",
      "  Attempting uninstall: torch\n",
      "    Found existing installation: torch 1.13.0\n",
      "    Uninstalling torch-1.13.0:\n",
      "      Successfully uninstalled torch-1.13.0\n",
      "Successfully installed torch-1.12.1\n"
     ]
    },
    {
     "name": "stderr",
     "output_type": "stream",
     "text": [
      "ERROR: pip's dependency resolver does not currently take into account all the packages that are installed. This behaviour is the source of the following dependency conflicts.\n",
      "torchtext 0.14.0 requires torch==1.13.0, but you have torch 1.12.1 which is incompatible.\n"
     ]
    },
    {
     "name": "stdout",
     "output_type": "stream",
     "text": [
      "Defaulting to user installation because normal site-packages is not writeable\n",
      "Requirement already satisfied: opencv-python in c:\\users\\admin\\appdata\\roaming\\python\\python39\\site-packages (4.6.0.66)\n",
      "Requirement already satisfied: numpy>=1.19.3 in c:\\users\\admin\\appdata\\roaming\\python\\python39\\site-packages (from opencv-python) (1.21.6)\n"
     ]
    }
   ],
   "source": [
    "!pip install scikit-image\n",
    "#!pip install shopee_crawler\n",
    "!pip install torchvision\n",
    "!pip install opencv-python\n",
    "!pip install torchtext --user\n",
    "!pip install --quiet --pre torchvision --user\n",
    "!pip install imagehash"
   ]
  },
  {
   "cell_type": "code",
   "execution_count": 1,
   "id": "7320f4d2",
   "metadata": {},
   "outputs": [],
   "source": [
    "# System\n",
    "import importlib\n",
    "\n",
    "import torch\n",
    "import torch.nn as nn\n",
    "import matplotlib.pyplot as plt\n",
    "import ipywidgets as widgets\n",
    "import imagehash\n",
    "from PIL import Image\n",
    "import pandas as pd\n",
    "import cv2\n"
   ]
  },
  {
   "cell_type": "markdown",
   "id": "b887334e",
   "metadata": {},
   "source": [
    "## Import Image Dataset"
   ]
  },
  {
   "cell_type": "code",
   "execution_count": 4,
   "id": "d7a686c7",
   "metadata": {},
   "outputs": [],
   "source": [
    "from model.text import dataset\n",
    "from model.dataset import all_categories\n",
    "from scripts.crawler import product_category_and_names\n",
    "\n",
    "_, product_names = product_category_and_names('data')\n",
    "\n",
    "data = dataset.DataSet(product_names, max_num_img=6000, categories=all_categories)"
   ]
  },
  {
   "cell_type": "code",
   "execution_count": 3,
   "id": "9564e7c4",
   "metadata": {},
   "outputs": [],
   "source": [
    "image_dir = 'data/images/'"
   ]
  },
  {
   "cell_type": "code",
   "execution_count": 56,
   "id": "712aabfd",
   "metadata": {},
   "outputs": [
    {
     "name": "stderr",
     "output_type": "stream",
     "text": [
      "100%|██████████| 200/200 [00:00<00:00, 219.90it/s]\n",
      "100%|██████████| 200/200 [00:01<00:00, 175.23it/s]\n",
      "100%|██████████| 200/200 [00:01<00:00, 182.75it/s]\n",
      "100%|██████████| 200/200 [00:01<00:00, 199.52it/s]\n",
      "100%|██████████| 200/200 [00:01<00:00, 133.32it/s]\n",
      "100%|██████████| 200/200 [00:01<00:00, 188.97it/s]\n",
      "100%|██████████| 200/200 [00:01<00:00, 166.90it/s]\n",
      "100%|██████████| 200/200 [00:02<00:00, 69.44it/s] \n",
      "100%|██████████| 200/200 [00:00<00:00, 219.66it/s]\n",
      "100%|██████████| 200/200 [00:00<00:00, 210.43it/s]\n",
      "100%|██████████| 200/200 [00:00<00:00, 203.58it/s]\n",
      "100%|██████████| 200/200 [00:00<00:00, 217.28it/s]\n",
      "100%|██████████| 200/200 [00:00<00:00, 221.37it/s]\n",
      "100%|██████████| 200/200 [00:01<00:00, 197.16it/s]\n",
      "100%|██████████| 200/200 [00:00<00:00, 222.10it/s]\n",
      "100%|██████████| 200/200 [00:00<00:00, 201.93it/s]\n",
      "100%|██████████| 200/200 [00:00<00:00, 202.75it/s]\n",
      "100%|██████████| 200/200 [00:00<00:00, 205.46it/s]\n",
      "100%|██████████| 200/200 [00:01<00:00, 179.15it/s]\n",
      "100%|██████████| 200/200 [00:00<00:00, 206.94it/s]\n",
      "100%|██████████| 200/200 [00:00<00:00, 212.44it/s]\n",
      "100%|██████████| 200/200 [00:00<00:00, 221.37it/s]\n",
      "100%|██████████| 200/200 [00:00<00:00, 217.75it/s]\n",
      "100%|██████████| 200/200 [00:00<00:00, 218.94it/s]\n"
     ]
    }
   ],
   "source": [
    "data.load_all()"
   ]
  },
  {
   "cell_type": "code",
   "execution_count": 57,
   "id": "955774e6",
   "metadata": {},
   "outputs": [
    {
     "data": {
      "text/plain": [
       "4800"
      ]
     },
     "execution_count": 57,
     "metadata": {},
     "output_type": "execute_result"
    }
   ],
   "source": [
    "len(data.labels)"
   ]
  },
  {
   "cell_type": "code",
   "execution_count": 60,
   "id": "09b31160",
   "metadata": {},
   "outputs": [],
   "source": [
    "img_labels = list(data.labels.values())\n",
    "img_files = list(data.labels)"
   ]
  },
  {
   "cell_type": "markdown",
   "id": "cffad8f2",
   "metadata": {},
   "source": [
    "# Data Exploration\n",
    "## Category labels and number of images\n",
    "Generally around 3000 images for each of the 24 categories"
   ]
  },
  {
   "cell_type": "code",
   "execution_count": 58,
   "id": "a615b03b",
   "metadata": {},
   "outputs": [
    {
     "data": {
      "text/plain": [
       "<BarContainer object of 24 artists>"
      ]
     },
     "execution_count": 58,
     "metadata": {},
     "output_type": "execute_result"
    },
    {
     "data": {
      "image/png": "[encoded data removed]",
      "text/plain": [
       "<Figure size 360x576 with 1 Axes>"
      ]
     },
     "metadata": {
      "needs_background": "light"
     },
     "output_type": "display_data"
    }
   ],
   "source": [
    "cats, items = zip(*data.image_count_per_category().items())\n",
    "fig, ax = plt.subplots(figsize=(5, 8))\n",
    "ax.barh(cats, items)"
   ]
  },
  {
   "cell_type": "markdown",
   "id": "dbf28cfe",
   "metadata": {},
   "source": [
    "## Explore image samples in each category"
   ]
  },
  {
   "cell_type": "code",
   "execution_count": 59,
   "id": "fdb89654",
   "metadata": {},
   "outputs": [
    {
     "data": {
      "application/vnd.jupyter.widget-view+json": {
       "model_id": "147f5a145a8f462bb3d6aa996da22719",
       "version_major": 2,
       "version_minor": 0
      },
      "text/plain": [
       "interactive(children=(Dropdown(description='category', options=(\"Men's-Bags\", 'Jewellery-Accessories', 'Automo…"
      ]
     },
     "metadata": {},
     "output_type": "display_data"
    }
   ],
   "source": [
    "all_categories = data.categories\n",
    "widgets.interact_manual.opts['manual_name'] = 'Show samples'\n",
    "im = widgets.interact_manual(lambda category: data.plot_samples(category), category=all_categories)"
   ]
  },
  {
   "cell_type": "markdown",
   "id": "78af8f94",
   "metadata": {},
   "source": [
    "## Repeated images"
   ]
  },
  {
   "cell_type": "code",
   "execution_count": 63,
   "id": "49e93be6",
   "metadata": {},
   "outputs": [
    {
     "data": {
      "text/plain": [
       "<matplotlib.image.AxesImage at 0x1f8180de340>"
      ]
     },
     "execution_count": 63,
     "metadata": {},
     "output_type": "execute_result"
    },
    {
     "data": {
      "image/png": "[encoded data removed]",
      "text/plain": [
       "<Figure size 432x288 with 1 Axes>"
      ]
     },
     "metadata": {
      "needs_background": "light"
     },
     "output_type": "display_data"
    }
   ],
   "source": [
    "img = cv2.imread(image_dir + '/Watches-cat\\\\2494323104.png')\n",
    "plt.imshow(img)"
   ]
  },
  {
   "cell_type": "code",
   "execution_count": 64,
   "id": "464f8603",
   "metadata": {
    "scrolled": true
   },
   "outputs": [
    {
     "data": {
      "text/plain": [
       "<matplotlib.image.AxesImage at 0x1f8184a6ee0>"
      ]
     },
     "execution_count": 64,
     "metadata": {},
     "output_type": "execute_result"
    },
    {
     "data": {
      "image/png": "[encoded data removed]",
      "text/plain": [
       "<Figure size 432x288 with 1 Axes>"
      ]
     },
     "metadata": {
      "needs_background": "light"
     },
     "output_type": "display_data"
    }
   ],
   "source": [
    "img2 = cv2.imread(image_dir + '/Watches-cat\\\\2494323109.png')\n",
    "plt.imshow(img2)"
   ]
  },
  {
   "cell_type": "markdown",
   "id": "77b00793",
   "metadata": {},
   "source": [
    "## Image similarity of consecutive images within category"
   ]
  },
  {
   "cell_type": "code",
   "execution_count": null,
   "id": "d9cb2cd3",
   "metadata": {},
   "outputs": [],
   "source": [
    "data = dataset.DataSet(product_names, max_num_img=3000, categories=all_categories)"
   ]
  },
  {
   "cell_type": "code",
   "execution_count": 66,
   "id": "b1103b12",
   "metadata": {},
   "outputs": [
    {
     "data": {
      "text/html": [
       "<div>\n",
       "<style scoped>\n",
       "    .dataframe tbody tr th:only-of-type {\n",
       "        vertical-align: middle;\n",
       "    }\n",
       "\n",
       "    .dataframe tbody tr th {\n",
       "        vertical-align: top;\n",
       "    }\n",
       "\n",
       "    .dataframe thead th {\n",
       "        text-align: right;\n",
       "    }\n",
       "</style>\n",
       "<table border=\"1\" class=\"dataframe\">\n",
       "  <thead>\n",
       "    <tr style=\"text-align: right;\">\n",
       "      <th></th>\n",
       "      <th>img_file</th>\n",
       "      <th>img_label</th>\n",
       "      <th>img_hash</th>\n",
       "      <th>prev_file</th>\n",
       "      <th>prev_label</th>\n",
       "      <th>prev_hash</th>\n",
       "      <th>diff</th>\n",
       "    </tr>\n",
       "  </thead>\n",
       "  <tbody>\n",
       "  </tbody>\n",
       "</table>\n",
       "</div>"
      ],
      "text/plain": [
       "Empty DataFrame\n",
       "Columns: [img_file, img_label, img_hash, prev_file, prev_label, prev_hash, diff]\n",
       "Index: []"
      ]
     },
     "execution_count": 66,
     "metadata": {},
     "output_type": "execute_result"
    }
   ],
   "source": [
    "temp_columns = ['img_file', 'img_label', 'img_hash', 'prev_file','prev_label', 'prev_hash', 'diff']\n",
    "img_hash_df = pd.DataFrame(columns = temp_columns)"
   ]
  },
  {
   "cell_type": "code",
   "execution_count": 67,
   "id": "a8e1f42d",
   "metadata": {},
   "outputs": [
    {
     "data": {
      "text/html": [
       "<div>\n",
       "<style scoped>\n",
       "    .dataframe tbody tr th:only-of-type {\n",
       "        vertical-align: middle;\n",
       "    }\n",
       "\n",
       "    .dataframe tbody tr th {\n",
       "        vertical-align: top;\n",
       "    }\n",
       "\n",
       "    .dataframe thead th {\n",
       "        text-align: right;\n",
       "    }\n",
       "</style>\n",
       "<table border=\"1\" class=\"dataframe\">\n",
       "  <thead>\n",
       "    <tr style=\"text-align: right;\">\n",
       "      <th></th>\n",
       "      <th>img_file</th>\n",
       "      <th>img_label</th>\n",
       "      <th>img_hash</th>\n",
       "      <th>prev_file</th>\n",
       "      <th>prev_label</th>\n",
       "      <th>prev_hash</th>\n",
       "      <th>diff</th>\n",
       "    </tr>\n",
       "  </thead>\n",
       "  <tbody>\n",
       "    <tr>\n",
       "      <th>0</th>\n",
       "      <td>data/images\\Men's-Bags-cat\\10000470611.png</td>\n",
       "      <td>0</td>\n",
       "      <td>fbe1c0000183470f</td>\n",
       "      <td>data/images\\Men's-Bags-cat\\10000470611.png</td>\n",
       "      <td>0</td>\n",
       "      <td>fbe1c0000183470f</td>\n",
       "      <td>-1</td>\n",
       "    </tr>\n",
       "    <tr>\n",
       "      <th>1</th>\n",
       "      <td>data/images\\Men's-Bags-cat\\10005722417.png</td>\n",
       "      <td>0</td>\n",
       "      <td>ffdf9110110001ff</td>\n",
       "      <td>data/images\\Men's-Bags-cat\\10000470611.png</td>\n",
       "      <td>0</td>\n",
       "      <td>fbe1c0000183470f</td>\n",
       "      <td>21</td>\n",
       "    </tr>\n",
       "    <tr>\n",
       "      <th>2</th>\n",
       "      <td>data/images\\Men's-Bags-cat\\10013979365.png</td>\n",
       "      <td>0</td>\n",
       "      <td>ffef8f8103c180f3</td>\n",
       "      <td>data/images\\Men's-Bags-cat\\10005722417.png</td>\n",
       "      <td>0</td>\n",
       "      <td>ffdf9110110001ff</td>\n",
       "      <td>18</td>\n",
       "    </tr>\n",
       "    <tr>\n",
       "      <th>3</th>\n",
       "      <td>data/images\\Men's-Bags-cat\\10022976986.png</td>\n",
       "      <td>0</td>\n",
       "      <td>ffff0000000000ff</td>\n",
       "      <td>data/images\\Men's-Bags-cat\\10013979365.png</td>\n",
       "      <td>0</td>\n",
       "      <td>ffef8f8103c180f3</td>\n",
       "      <td>16</td>\n",
       "    </tr>\n",
       "    <tr>\n",
       "      <th>4</th>\n",
       "      <td>data/images\\Men's-Bags-cat\\10026709904.png</td>\n",
       "      <td>0</td>\n",
       "      <td>fff0f3838344a4fc</td>\n",
       "      <td>data/images\\Men's-Bags-cat\\10022976986.png</td>\n",
       "      <td>0</td>\n",
       "      <td>ffff0000000000ff</td>\n",
       "      <td>23</td>\n",
       "    </tr>\n",
       "    <tr>\n",
       "      <th>...</th>\n",
       "      <td>...</td>\n",
       "      <td>...</td>\n",
       "      <td>...</td>\n",
       "      <td>...</td>\n",
       "      <td>...</td>\n",
       "      <td>...</td>\n",
       "      <td>...</td>\n",
       "    </tr>\n",
       "    <tr>\n",
       "      <th>4795</th>\n",
       "      <td>data/images\\Women's-Shoes-cat\\1212509371.png</td>\n",
       "      <td>23</td>\n",
       "      <td>c39f1f0f33393800</td>\n",
       "      <td>data/images\\Women's-Shoes-cat\\12101669285.png</td>\n",
       "      <td>23</td>\n",
       "      <td>fff78311c1c18101</td>\n",
       "      <td>31</td>\n",
       "    </tr>\n",
       "    <tr>\n",
       "      <th>4796</th>\n",
       "      <td>data/images\\Women's-Shoes-cat\\12137477152.png</td>\n",
       "      <td>23</td>\n",
       "      <td>ffffff0b0081fdff</td>\n",
       "      <td>data/images\\Women's-Shoes-cat\\1212509371.png</td>\n",
       "      <td>23</td>\n",
       "      <td>c39f1f0f33393800</td>\n",
       "      <td>30</td>\n",
       "    </tr>\n",
       "    <tr>\n",
       "      <th>4797</th>\n",
       "      <td>data/images\\Women's-Shoes-cat\\1214944213.png</td>\n",
       "      <td>23</td>\n",
       "      <td>f70093ff800091ff</td>\n",
       "      <td>data/images\\Women's-Shoes-cat\\12137477152.png</td>\n",
       "      <td>23</td>\n",
       "      <td>ffffff0b0081fdff</td>\n",
       "      <td>25</td>\n",
       "    </tr>\n",
       "    <tr>\n",
       "      <th>4798</th>\n",
       "      <td>data/images\\Women's-Shoes-cat\\1220771118.png</td>\n",
       "      <td>23</td>\n",
       "      <td>0307072797cf7f07</td>\n",
       "      <td>data/images\\Women's-Shoes-cat\\1214944213.png</td>\n",
       "      <td>23</td>\n",
       "      <td>f70093ff800091ff</td>\n",
       "      <td>36</td>\n",
       "    </tr>\n",
       "    <tr>\n",
       "      <th>4799</th>\n",
       "      <td>data/images\\Women's-Shoes-cat\\12223688318.png</td>\n",
       "      <td>23</td>\n",
       "      <td>c18195838181c3c3</td>\n",
       "      <td>data/images\\Women's-Shoes-cat\\1220771118.png</td>\n",
       "      <td>23</td>\n",
       "      <td>0307072797cf7f07</td>\n",
       "      <td>27</td>\n",
       "    </tr>\n",
       "  </tbody>\n",
       "</table>\n",
       "<p>4800 rows × 7 columns</p>\n",
       "</div>"
      ],
      "text/plain": [
       "                                           img_file  img_label  \\\n",
       "0        data/images\\Men's-Bags-cat\\10000470611.png          0   \n",
       "1        data/images\\Men's-Bags-cat\\10005722417.png          0   \n",
       "2        data/images\\Men's-Bags-cat\\10013979365.png          0   \n",
       "3        data/images\\Men's-Bags-cat\\10022976986.png          0   \n",
       "4        data/images\\Men's-Bags-cat\\10026709904.png          0   \n",
       "...                                             ...        ...   \n",
       "4795   data/images\\Women's-Shoes-cat\\1212509371.png         23   \n",
       "4796  data/images\\Women's-Shoes-cat\\12137477152.png         23   \n",
       "4797   data/images\\Women's-Shoes-cat\\1214944213.png         23   \n",
       "4798   data/images\\Women's-Shoes-cat\\1220771118.png         23   \n",
       "4799  data/images\\Women's-Shoes-cat\\12223688318.png         23   \n",
       "\n",
       "              img_hash                                      prev_file  \\\n",
       "0     fbe1c0000183470f     data/images\\Men's-Bags-cat\\10000470611.png   \n",
       "1     ffdf9110110001ff     data/images\\Men's-Bags-cat\\10000470611.png   \n",
       "2     ffef8f8103c180f3     data/images\\Men's-Bags-cat\\10005722417.png   \n",
       "3     ffff0000000000ff     data/images\\Men's-Bags-cat\\10013979365.png   \n",
       "4     fff0f3838344a4fc     data/images\\Men's-Bags-cat\\10022976986.png   \n",
       "...                ...                                            ...   \n",
       "4795  c39f1f0f33393800  data/images\\Women's-Shoes-cat\\12101669285.png   \n",
       "4796  ffffff0b0081fdff   data/images\\Women's-Shoes-cat\\1212509371.png   \n",
       "4797  f70093ff800091ff  data/images\\Women's-Shoes-cat\\12137477152.png   \n",
       "4798  0307072797cf7f07   data/images\\Women's-Shoes-cat\\1214944213.png   \n",
       "4799  c18195838181c3c3   data/images\\Women's-Shoes-cat\\1220771118.png   \n",
       "\n",
       "      prev_label         prev_hash  diff  \n",
       "0              0  fbe1c0000183470f    -1  \n",
       "1              0  fbe1c0000183470f    21  \n",
       "2              0  ffdf9110110001ff    18  \n",
       "3              0  ffef8f8103c180f3    16  \n",
       "4              0  ffff0000000000ff    23  \n",
       "...          ...               ...   ...  \n",
       "4795          23  fff78311c1c18101    31  \n",
       "4796          23  c39f1f0f33393800    30  \n",
       "4797          23  ffffff0b0081fdff    25  \n",
       "4798          23  f70093ff800091ff    36  \n",
       "4799          23  0307072797cf7f07    27  \n",
       "\n",
       "[4800 rows x 7 columns]"
      ]
     },
     "execution_count": 67,
     "metadata": {},
     "output_type": "execute_result"
    }
   ],
   "source": [
    "for i in range(len(img_labels)):\n",
    "    file = img_files[i]\n",
    "    label = img_labels[i]\n",
    "    curr_hash =imagehash.average_hash(Image.open(file))\n",
    "    \n",
    "\n",
    "    if (i == 0 | prev_label != label):\n",
    "        prev_file = file\n",
    "        prev_hash = curr_hash\n",
    "        prev_label = label\n",
    "        diff = -1\n",
    "        \n",
    "    else:\n",
    "        #calculate the difference in image hash between current image and previous image\n",
    "        diff = prev_hash - curr_hash\n",
    "    \n",
    "    img_hash_df.loc[len(img_hash_df)] = [file, label, curr_hash, prev_file, prev_label, prev_hash, diff]\n",
    "\n",
    "    prev_hash = curr_hash\n",
    "    prev_file = file\n",
    "    prev_label = label\n",
    "\n",
    "img_hash_df"
   ]
  },
  {
   "cell_type": "code",
   "execution_count": 70,
   "id": "f488ef32",
   "metadata": {},
   "outputs": [
    {
     "data": {
      "text/html": [
       "<div>\n",
       "<style scoped>\n",
       "    .dataframe tbody tr th:only-of-type {\n",
       "        vertical-align: middle;\n",
       "    }\n",
       "\n",
       "    .dataframe tbody tr th {\n",
       "        vertical-align: top;\n",
       "    }\n",
       "\n",
       "    .dataframe thead th {\n",
       "        text-align: right;\n",
       "    }\n",
       "</style>\n",
       "<table border=\"1\" class=\"dataframe\">\n",
       "  <thead>\n",
       "    <tr style=\"text-align: right;\">\n",
       "      <th></th>\n",
       "      <th>img_label</th>\n",
       "      <th>prev_label</th>\n",
       "      <th>diff</th>\n",
       "    </tr>\n",
       "  </thead>\n",
       "  <tbody>\n",
       "    <tr>\n",
       "      <th>count</th>\n",
       "      <td>4800.000000</td>\n",
       "      <td>4800.000000</td>\n",
       "      <td>4800.000000</td>\n",
       "    </tr>\n",
       "    <tr>\n",
       "      <th>mean</th>\n",
       "      <td>11.500000</td>\n",
       "      <td>11.495208</td>\n",
       "      <td>28.535417</td>\n",
       "    </tr>\n",
       "    <tr>\n",
       "      <th>std</th>\n",
       "      <td>6.922908</td>\n",
       "      <td>6.922906</td>\n",
       "      <td>8.102978</td>\n",
       "    </tr>\n",
       "    <tr>\n",
       "      <th>min</th>\n",
       "      <td>0.000000</td>\n",
       "      <td>0.000000</td>\n",
       "      <td>-1.000000</td>\n",
       "    </tr>\n",
       "    <tr>\n",
       "      <th>25%</th>\n",
       "      <td>5.750000</td>\n",
       "      <td>5.000000</td>\n",
       "      <td>24.000000</td>\n",
       "    </tr>\n",
       "    <tr>\n",
       "      <th>50%</th>\n",
       "      <td>11.500000</td>\n",
       "      <td>11.000000</td>\n",
       "      <td>29.000000</td>\n",
       "    </tr>\n",
       "    <tr>\n",
       "      <th>75%</th>\n",
       "      <td>17.250000</td>\n",
       "      <td>17.000000</td>\n",
       "      <td>34.000000</td>\n",
       "    </tr>\n",
       "    <tr>\n",
       "      <th>max</th>\n",
       "      <td>23.000000</td>\n",
       "      <td>23.000000</td>\n",
       "      <td>58.000000</td>\n",
       "    </tr>\n",
       "  </tbody>\n",
       "</table>\n",
       "</div>"
      ],
      "text/plain": [
       "         img_label   prev_label         diff\n",
       "count  4800.000000  4800.000000  4800.000000\n",
       "mean     11.500000    11.495208    28.535417\n",
       "std       6.922908     6.922906     8.102978\n",
       "min       0.000000     0.000000    -1.000000\n",
       "25%       5.750000     5.000000    24.000000\n",
       "50%      11.500000    11.000000    29.000000\n",
       "75%      17.250000    17.000000    34.000000\n",
       "max      23.000000    23.000000    58.000000"
      ]
     },
     "execution_count": 70,
     "metadata": {},
     "output_type": "execute_result"
    }
   ],
   "source": [
    "img_hash_df.describe()"
   ]
  },
  {
   "cell_type": "code",
   "execution_count": 74,
   "id": "f2eca2d4",
   "metadata": {},
   "outputs": [
    {
     "data": {
      "text/plain": [
       "img_label_name\n",
       "Men's-Bags               25.475\n",
       "Food-Beverages           26.195\n",
       "Video-Games              26.595\n",
       "Cameras-Drones           26.740\n",
       "Computers-Peripherals    27.050\n",
       "Hobbies-Books            27.785\n",
       "Health-Wellness          27.845\n",
       "Home-Appliances          28.195\n",
       "Men's-Wear               28.335\n",
       "Sports-Outdoors          28.350\n",
       "Beauty-Personal-Care     28.425\n",
       "Women's-Shoes            28.890\n",
       "Men's-Shoes              28.975\n",
       "Women's-Bags             29.025\n",
       "Kids-Fashion             29.125\n",
       "Watches                  29.305\n",
       "Mobile-Gadgets           29.330\n",
       "Automotive               29.390\n",
       "Travel-Luggage           29.445\n",
       "Toys-Kids-Babies         29.540\n",
       "Pet-Food-Supplies        29.700\n",
       "Jewellery-Accessories    30.265\n",
       "Home-Living              30.280\n",
       "Women's-Apparel          30.590\n",
       "Name: diff, dtype: float64"
      ]
     },
     "execution_count": 74,
     "metadata": {},
     "output_type": "execute_result"
    }
   ],
   "source": [
    "data.cat_reverse_map = dict([(value, key) for key, value in data.cat_map.items()])\n",
    "img_hash_df['img_label_name'] = img_hash_df['img_label'].map(data.cat_reverse_map)\n",
    "labelhashdiff = img_hash_df.groupby(['img_label_name'])['diff'].mean().sort_values()\n",
    "labelhashdiff"
   ]
  },
  {
   "cell_type": "markdown",
   "id": "cf21757f",
   "metadata": {},
   "source": [
    "The top 5 categories with highest image similarity for consecutive images in the dataset are:\n",
    "* Men's-Bags\n",
    "* Food-Beverages\n",
    "* Video-Games\n",
    "* Cameras-Drones\n",
    "* Computers-Peripherals\n",
    "\n",
    "The categories with lowest image similarity for consecutive images in the dataset are:\n",
    "* Women's-Apparel\n",
    "* Home-Living\n",
    "* Jewellery-Accessories\n",
    "* Pet-Food-Supplies\n",
    "* Toys-Kids-Babies\n",
    "\n",
    "Categories with low image similarity within a category may present challenges when training the model to predict the product category."
   ]
  },
  {
   "cell_type": "markdown",
   "id": "5aa70035",
   "metadata": {},
   "source": [
    "## Image similarity within and across categories"
   ]
  },
  {
   "cell_type": "code",
   "execution_count": 75,
   "id": "f6ed70b6",
   "metadata": {},
   "outputs": [
    {
     "data": {
      "text/html": [
       "<div>\n",
       "<style scoped>\n",
       "    .dataframe tbody tr th:only-of-type {\n",
       "        vertical-align: middle;\n",
       "    }\n",
       "\n",
       "    .dataframe tbody tr th {\n",
       "        vertical-align: top;\n",
       "    }\n",
       "\n",
       "    .dataframe thead th {\n",
       "        text-align: right;\n",
       "    }\n",
       "</style>\n",
       "<table border=\"1\" class=\"dataframe\">\n",
       "  <thead>\n",
       "    <tr style=\"text-align: right;\">\n",
       "      <th></th>\n",
       "      <th>label1</th>\n",
       "      <th>label2</th>\n",
       "      <th>hash1</th>\n",
       "      <th>hash2</th>\n",
       "      <th>diff</th>\n",
       "    </tr>\n",
       "  </thead>\n",
       "  <tbody>\n",
       "  </tbody>\n",
       "</table>\n",
       "</div>"
      ],
      "text/plain": [
       "Empty DataFrame\n",
       "Columns: [label1, label2, hash1, hash2, diff]\n",
       "Index: []"
      ]
     },
     "execution_count": 75,
     "metadata": {},
     "output_type": "execute_result"
    }
   ],
   "source": [
    "temp_columns = ['label1', 'label2', 'hash1', 'avg_diff']\n",
    "img_diff_df = pd.DataFrame(columns = temp_columns)\n",
    "img_diff_df"
   ]
  },
  {
   "cell_type": "code",
   "execution_count": null,
   "id": "f3bd4cc9",
   "metadata": {},
   "outputs": [],
   "source": [
    "i=0\n",
    "j=0\n",
    "for index1, row in img_hash_df.iterrows():\n",
    "    label1 = row['img_label']\n",
    "    curr_hash = row['img_hash']\n",
    "    curr_diff = 0\n",
    "    j = 0\n",
    "    prev_label = label1\n",
    "    for index2, row in img_hash_df.iterrows():\n",
    "\n",
    "        label2 = row['img_label']\n",
    "        hash2 = row['img_hash']\n",
    "        \n",
    "        if prev_label == label2 & index1 != index2:\n",
    "            #keep accumulating the differences in imagehash for other images with the same category label\n",
    "            curr_diff += curr_hash-hash2\n",
    "            j += 1\n",
    "\n",
    "        else: \n",
    "            #change in label, get the average of differences for the previous category label\n",
    "            avg_diff = curr_diff / j\n",
    "            #append \n",
    "            img_diff_df.loc[len(img_diff_df)] = [label1, prev_label, curr_hash, avg_diff]\n",
    "            #reset j and curr_diff\n",
    "            j = 0\n",
    "            curr_diff = curr_hash-hash2\n",
    "        prev_label = label2\n",
    "    #last image in last category\n",
    "    j += 1\n",
    "    avg_diff = curr_diff / j\n",
    "    img_diff_df.loc[len(img_diff_df)] = [label1, label2, curr_hash, avg_diff]\n"
   ]
  },
  {
   "cell_type": "code",
   "execution_count": null,
   "id": "ac1ef32f",
   "metadata": {},
   "outputs": [],
   "source": [
    "img_diff_df['label1_name'] = img_diff_df['label1'].map(data.cat_reverse_map)\n",
    "img_diff_df['label2_name'] = img_diff_df['label2'].map(data.cat_reverse_map)\n",
    "\n",
    "img_diff_df"
   ]
  },
  {
   "cell_type": "code",
   "execution_count": null,
   "id": "0118d690",
   "metadata": {},
   "outputs": [],
   "source": [
    "img_diff_df.describe()"
   ]
  },
  {
   "cell_type": "code",
   "execution_count": null,
   "id": "925931bb",
   "metadata": {},
   "outputs": [],
   "source": [
    "import numpy as np\n",
    "img_diff_df['same_label'] = np.where(img_diff_df['label1'] == img_diff_df['label2'], 1, 0)"
   ]
  },
  {
   "cell_type": "markdown",
   "id": "8f1e24d2",
   "metadata": {},
   "source": [
    "### Image similarity within the same category\n",
    "Categories which have high image similarity within its category are more likely to be have a better fit during training to produce a model which can better predict the correct product category."
   ]
  },
  {
   "cell_type": "code",
   "execution_count": null,
   "id": "c8571574",
   "metadata": {},
   "outputs": [],
   "source": [
    "same_label_df  = img_diff_df[img_diff_df['same_label']==1]\n",
    "samelabelhashdiff = same_label_df.groupby(['label1_name'])['avg_diff'].mean()\n"
   ]
  },
  {
   "cell_type": "code",
   "execution_count": null,
   "id": "55390408",
   "metadata": {},
   "outputs": [],
   "source": [
    "same_label_df.head()"
   ]
  },
  {
   "cell_type": "code",
   "execution_count": null,
   "id": "10af4eba",
   "metadata": {},
   "outputs": [],
   "source": [
    "samelabelhashdiff.sort_values()"
   ]
  },
  {
   "cell_type": "markdown",
   "id": "b2aa365e",
   "metadata": {},
   "source": [
    "### Image similarity for each category with other categories"
   ]
  },
  {
   "cell_type": "markdown",
   "id": "bdd507f2",
   "metadata": {},
   "source": [
    "Categories which have high image similarity with other categories may have more likely mix-up in the predicted product category."
   ]
  },
  {
   "cell_type": "code",
   "execution_count": null,
   "id": "2283a9f6",
   "metadata": {
    "scrolled": false
   },
   "outputs": [],
   "source": [
    "diff_label_df  = img_diff_df[img_diff_df['same_label']==0]\n",
    "difflabelhashdiff = diff_label_df.groupby(['label1_name','label2_name'])['avg_diff'].mean()\n",
    "difflabelhashdiff = difflabelhashdiff.reset_index()\n",
    "difflabelhashdiff.sort_values(by = 'avg_diff', ascending = False)"
   ]
  },
  {
   "cell_type": "code",
   "execution_count": 49,
   "id": "ffa978b6",
   "metadata": {},
   "outputs": [
    {
     "data": {
      "text/plain": [
       "label1_name\n",
       "Home-Living              28.247826\n",
       "Hobbies-Books            28.356522\n",
       "Toys-Kids-Babies         28.365217\n",
       "Women's-Apparel          28.373913\n",
       "Watches                  28.408696\n",
       "Kids-Fashion             28.421739\n",
       "Video-Games              28.439130\n",
       "Food-Beverages           28.465217\n",
       "Men's-Wear               28.469565\n",
       "Cameras-Drones           28.486957\n",
       "Mobile-Gadgets           28.491304\n",
       "Jewellery-Accessories    28.508696\n",
       "Men's-Shoes              28.530435\n",
       "Women's-Bags             28.534783\n",
       "Home-Appliances          28.547826\n",
       "Beauty-Personal-Care     28.552174\n",
       "Automotive               28.560870\n",
       "Travel-Luggage           28.565217\n",
       "Pet-Food-Supplies        28.569565\n",
       "Health-Wellness          28.578261\n",
       "Men's-Bags               28.604348\n",
       "Computers-Peripherals    28.608696\n",
       "Women's-Shoes            28.639130\n",
       "Sports-Outdoors          28.673913\n",
       "Name: diff, dtype: float64"
      ]
     },
     "execution_count": 49,
     "metadata": {},
     "output_type": "execute_result"
    }
   ],
   "source": [
    "labelallhashdiff = difflabelhashdiff.groupby(['label1_name'])['avg_diff'].mean()\n",
    "labelallhashdiff.sort_values()"
   ]
  },
  {
   "cell_type": "markdown",
   "id": "98460259",
   "metadata": {},
   "source": [
    "We select the following categories for their relatively low image similarity with each other, thus preventing model confusion:\n",
    "* Women's-Bags\n",
    "* Men's-Shoes\n",
    "* Kids-Fashion\n",
    "* Food-Beverages\n",
    "* Watches\n",
    "* Video-Games\n",
    "* Cameras-Drones\n",
    "* Home-Appliances\n",
    "* Hobbies-Books"
   ]
  },
  {
   "cell_type": "markdown",
   "id": "4d192805",
   "metadata": {},
   "source": [
    "# Data Pre-Processing"
   ]
  },
  {
   "cell_type": "code",
   "execution_count": null,
   "id": "a2b2c146",
   "metadata": {},
   "outputs": [],
   "source": [
    "from scripts.image_clean import get_duplicate_images, remove_background"
   ]
  },
  {
   "cell_type": "code",
   "execution_count": null,
   "id": "6f5e1383",
   "metadata": {},
   "outputs": [],
   "source": [
    "dir = 'data\\images'\n",
    "out_dir = 'data\\seleected-images'"
   ]
  },
  {
   "cell_type": "markdown",
   "id": "5567cce4",
   "metadata": {},
   "source": [
    "## Remove duplicates\n",
    "We remove the duplicates to prevent information leakage from train dataset to validation or test dataset. "
   ]
  },
  {
   "cell_type": "code",
   "execution_count": null,
   "id": "7e3ef77b",
   "metadata": {},
   "outputs": [],
   "source": []
  },
  {
   "cell_type": "markdown",
   "id": "1a09269f",
   "metadata": {},
   "source": [
    "## Sample each category equally"
   ]
  },
  {
   "cell_type": "code",
   "execution_count": null,
   "id": "f17039c7",
   "metadata": {},
   "outputs": [],
   "source": [
    "num_img_to_use = 500"
   ]
  },
  {
   "cell_type": "code",
   "execution_count": null,
   "id": "cb849cf0",
   "metadata": {},
   "outputs": [],
   "source": [
    "data = dataset.DataSet(product_names, max_num_img= num_img_to_use, categories=all_categories)"
   ]
  },
  {
   "cell_type": "code",
   "execution_count": 61,
   "id": "a226f68a",
   "metadata": {},
   "outputs": [
    {
     "name": "stderr",
     "output_type": "stream",
     "text": [
      "C:\\ProgramData\\Anaconda3\\lib\\site-packages\\seaborn\\_decorators.py:36: FutureWarning: Pass the following variable as a keyword arg: x. From version 0.12, the only valid positional argument will be `data`, and passing other arguments without an explicit keyword will result in an error or misinterpretation.\n",
      "  warnings.warn(\n"
     ]
    },
    {
     "data": {
      "text/plain": [
       "<AxesSubplot:ylabel='count'>"
      ]
     },
     "execution_count": 61,
     "metadata": {},
     "output_type": "execute_result"
    },
    {
     "data": {
      "image/png": "[encoded data removed]",
      "text/plain": [
       "<Figure size 576x288 with 1 Axes>"
      ]
     },
     "metadata": {
      "needs_background": "light"
     },
     "output_type": "display_data"
    }
   ],
   "source": [
    "import seaborn as sns\n",
    "plt.figure(figsize=(8,4))\n",
    "sns.countplot(img_labels)"
   ]
  },
  {
   "cell_type": "markdown",
   "id": "f03d7792",
   "metadata": {},
   "source": [
    "## Data Normalization\n",
    "--> not sure if this is done later on during import?"
   ]
  },
  {
   "cell_type": "code",
   "execution_count": null,
   "id": "9a674992",
   "metadata": {},
   "outputs": [],
   "source": []
  },
  {
   "cell_type": "markdown",
   "id": "9bcb2acc",
   "metadata": {},
   "source": [
    "## Background Removal\n",
    "We remove the background of the images to reduce the impact of noise on the training of our model."
   ]
  },
  {
   "cell_type": "code",
   "execution_count": null,
   "id": "d89ba372",
   "metadata": {},
   "outputs": [],
   "source": []
  },
  {
   "cell_type": "markdown",
   "id": "dc1bec61",
   "metadata": {},
   "source": [
    "## Text Removal\n",
    "We remove the text in the images as these may be brand names or generic text such as 'Sale' which may occur across categories."
   ]
  },
  {
   "cell_type": "code",
   "execution_count": null,
   "id": "8865dfb9",
   "metadata": {},
   "outputs": [],
   "source": []
  },
  {
   "cell_type": "markdown",
   "id": "091f5b32",
   "metadata": {},
   "source": [
    "# Conclusion for Data Exploration and Pre-Processing"
   ]
  },
  {
   "cell_type": "markdown",
   "id": "e75cf798",
   "metadata": {},
   "source": [
    "### Data Exploration:\n",
    "* Number of images sampled per category\n",
    "* Image Size\n",
    "* Image similarity within categories\n",
    "* Image similarity across categories\n",
    "\n",
    "### Data Pre-processing:\n",
    "* Remove duplicates\n",
    "* Sample each category equally\n",
    "* Data Normalization - resize images to 224 by 224, normalize pixel values\n",
    "* Background Removal\n",
    "* Text Removal\n",
    "* Data Augmentation for train dataset will be done in the train dataloader."
   ]
  }
 ],
 "metadata": {
  "kernelspec": {
   "display_name": "Python 3 (ipykernel)",
   "language": "python",
   "name": "python3"
  },
  "language_info": {
   "codemirror_mode": {
    "name": "ipython",
    "version": 3
   },
   "file_extension": ".py",
   "mimetype": "text/x-python",
   "name": "python",
   "nbconvert_exporter": "python",
   "pygments_lexer": "ipython3",
   "version": "3.9.12"
  },
  "vscode": {
   "interpreter": {
    "hash": "d88d51e5feeef7cdbc38f54879bc8b14b595db7785db4e3b195d2593607adbb2"
   }
  }
 },
 "nbformat": 4,
 "nbformat_minor": 5
}
