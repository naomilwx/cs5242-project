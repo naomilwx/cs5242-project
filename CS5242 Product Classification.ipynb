{
 "cells": [
  {
   "cell_type": "markdown",
   "id": "c53e22fb",
   "metadata": {},
   "source": [
    "# Shopee Product Classification "
   ]
  },
  {
   "cell_type": "markdown",
   "id": "e00b4f80",
   "metadata": {},
   "source": [
    "Notebook to experiment over several Neural Networks over the product dataset obtained from Shopee and evaluate results."
   ]
  },
  {
   "cell_type": "markdown",
   "id": "ceaa5624",
   "metadata": {},
   "source": [
    "The following models are evaluated as part of this notebook:\n",
    "\n",
    "Baseline 1: CNN <br>\n",
    "Baseline 2: CNN with augmented layers <br>\n",
    "Improvement 1: Adding ANN <br>\n",
    "Improvement 2: Adding RNN <br>"
   ]
  },
  {
   "cell_type": "markdown",
   "id": "70e52a97",
   "metadata": {},
   "source": [
    "## Imports and Config"
   ]
  },
  {
   "cell_type": "code",
   "execution_count": 1,
   "id": "97c7e4bf",
   "metadata": {
    "scrolled": false
   },
   "outputs": [
    {
     "name": "stdout",
     "output_type": "stream",
     "text": [
      "Collecting scikit-image\n",
      "  Using cached scikit_image-0.19.3-cp39-cp39-macosx_12_0_arm64.whl (12.5 MB)\n",
      "Collecting PyWavelets>=1.1.1\n",
      "  Using cached PyWavelets-1.4.1-cp39-cp39-macosx_11_0_arm64.whl (4.3 MB)\n",
      "Requirement already satisfied: numpy>=1.17.0 in /opt/homebrew/anaconda3/envs/cs5242-proj/lib/python3.9/site-packages (from scikit-image) (1.23.1)\n",
      "Collecting tifffile>=2019.7.26\n",
      "  Using cached tifffile-2022.10.10-py3-none-any.whl (210 kB)\n",
      "Requirement already satisfied: packaging>=20.0 in /opt/homebrew/anaconda3/envs/cs5242-proj/lib/python3.9/site-packages (from scikit-image) (21.3)\n",
      "Requirement already satisfied: pillow!=7.1.0,!=7.1.1,!=8.3.0,>=6.1.0 in /opt/homebrew/anaconda3/envs/cs5242-proj/lib/python3.9/site-packages (from scikit-image) (9.2.0)\n",
      "Collecting imageio>=2.4.1\n",
      "  Using cached imageio-2.22.2-py3-none-any.whl (3.4 MB)\n",
      "Collecting networkx>=2.2\n",
      "  Using cached networkx-2.8.7-py3-none-any.whl (2.0 MB)\n",
      "Collecting scipy>=1.4.1\n",
      "  Using cached scipy-1.9.3-cp39-cp39-macosx_12_0_arm64.whl (28.6 MB)\n",
      "Requirement already satisfied: pyparsing!=3.0.5,>=2.0.2 in /opt/homebrew/anaconda3/envs/cs5242-proj/lib/python3.9/site-packages (from packaging>=20.0->scikit-image) (3.0.9)\n",
      "Installing collected packages: tifffile, scipy, PyWavelets, networkx, imageio, scikit-image\n",
      "Successfully installed PyWavelets-1.4.1 imageio-2.22.2 networkx-2.8.7 scikit-image-0.19.3 scipy-1.9.3 tifffile-2022.10.10\n",
      "Requirement already satisfied: shopee_crawler in /opt/homebrew/anaconda3/envs/cs5242-proj/lib/python3.9/site-packages (0.2.2)\n",
      "Requirement already satisfied: torchvision in /opt/homebrew/anaconda3/envs/cs5242-proj/lib/python3.9/site-packages (0.13.1)\n",
      "Requirement already satisfied: pillow!=8.3.*,>=5.3.0 in /opt/homebrew/anaconda3/envs/cs5242-proj/lib/python3.9/site-packages (from torchvision) (9.2.0)\n",
      "Requirement already satisfied: requests in /opt/homebrew/anaconda3/envs/cs5242-proj/lib/python3.9/site-packages (from torchvision) (2.28.1)\n",
      "Requirement already satisfied: typing-extensions in /opt/homebrew/anaconda3/envs/cs5242-proj/lib/python3.9/site-packages (from torchvision) (4.3.0)\n",
      "Requirement already satisfied: numpy in /opt/homebrew/anaconda3/envs/cs5242-proj/lib/python3.9/site-packages (from torchvision) (1.23.1)\n",
      "Requirement already satisfied: torch in /opt/homebrew/anaconda3/envs/cs5242-proj/lib/python3.9/site-packages (from torchvision) (1.12.1)\n",
      "Requirement already satisfied: idna<4,>=2.5 in /opt/homebrew/anaconda3/envs/cs5242-proj/lib/python3.9/site-packages (from requests->torchvision) (3.3)\n",
      "Requirement already satisfied: urllib3<1.27,>=1.21.1 in /opt/homebrew/anaconda3/envs/cs5242-proj/lib/python3.9/site-packages (from requests->torchvision) (1.26.11)\n",
      "Requirement already satisfied: charset-normalizer<3,>=2 in /opt/homebrew/anaconda3/envs/cs5242-proj/lib/python3.9/site-packages (from requests->torchvision) (2.0.4)\n",
      "Requirement already satisfied: certifi>=2017.4.17 in /opt/homebrew/anaconda3/envs/cs5242-proj/lib/python3.9/site-packages (from requests->torchvision) (2022.6.15)\n",
      "Collecting opencv-python\n",
      "  Using cached opencv_python-4.6.0.66-cp37-abi3-macosx_11_0_arm64.whl (30.0 MB)\n",
      "Requirement already satisfied: numpy>=1.19.3 in /opt/homebrew/anaconda3/envs/cs5242-proj/lib/python3.9/site-packages (from opencv-python) (1.23.1)\n",
      "Installing collected packages: opencv-python\n",
      "Successfully installed opencv-python-4.6.0.66\n"
     ]
    }
   ],
   "source": [
    "!pip install scikit-image\n",
    "!pip install shopee_crawler\n",
    "!pip install torchvision\n",
    "!pip install opencv-python"
   ]
  },
  {
   "cell_type": "code",
   "execution_count": 10,
   "id": "7320f4d2",
   "metadata": {},
   "outputs": [],
   "source": [
    "import os\n",
    "import sys\n",
    "import json\n",
    "import importlib\n",
    "from tqdm import tqdm\n",
    "\n",
    "import numpy as np\n",
    "import pandas as pd\n",
    "\n",
    "import matplotlib.pyplot as plt\n",
    "\n",
    "from utils import file_utils, dataset\n",
    "from scripts import crawler\n",
    "\n",
    "import ipywidgets as widgets\n",
    "\n",
    "import cv2\n",
    "import torch\n",
    "import torch.nn as nn\n",
    "from sklearn.model_selection import KFold, train_test_split, GridSearchCV, cross_val_score\n",
    "from torchvision import transforms, models, datasets\n"
   ]
  },
  {
   "cell_type": "code",
   "execution_count": 67,
   "id": "ca8b6095",
   "metadata": {},
   "outputs": [
    {
     "data": {
      "text/plain": [
       "<module 'scripts.crawler' from 'C:\\\\Users\\\\admin\\\\Documents\\\\GitHub\\\\cs5242-project\\\\scripts\\\\crawler.py'>"
      ]
     },
     "execution_count": 67,
     "metadata": {},
     "output_type": "execute_result"
    }
   ],
   "source": [
    "crawler"
   ]
  },
  {
   "cell_type": "code",
   "execution_count": 135,
   "id": "77543529",
   "metadata": {},
   "outputs": [
    {
     "data": {
      "text/plain": [
       "<module 'utils.dataset' from 'C:\\\\Users\\\\admin\\\\Documents\\\\GitHub\\\\cs5242-project\\\\utils\\\\dataset.py'>"
      ]
     },
     "execution_count": 135,
     "metadata": {},
     "output_type": "execute_result"
    }
   ],
   "source": [
    "# Can use this to reload file when editing for faster changes\n",
    "importlib.reload(dataset)"
   ]
  },
  {
   "cell_type": "markdown",
   "id": "778b26a1",
   "metadata": {},
   "source": [
    "## Data Load"
   ]
  },
  {
   "cell_type": "code",
   "execution_count": 3,
   "id": "2f858a5f",
   "metadata": {},
   "outputs": [],
   "source": [
    "image_dir = 'data/images'"
   ]
  },
  {
   "cell_type": "code",
   "execution_count": 115,
   "id": "c924a8a6",
   "metadata": {},
   "outputs": [
    {
     "name": "stdout",
     "output_type": "stream",
     "text": [
      "Images already exist at: data/images\n"
     ]
    }
   ],
   "source": [
    "if(file_utils.check_images_dir()):\n",
    "    print(f'Images already exist at: {file_utils.images}')\n",
    "elif(file_utils.check_tar_exists()):\n",
    "    print(f'Images not yet extracted')\n",
    "    print(f'Image zip exists at: {file_utils.images_zip}')\n",
    "    file_utils.extract_tar()\n",
    "else:\n",
    "    print(f'Images need to be downloaded')\n",
    "    for c in category_urls:\n",
    "        get_category_data('data', c)\n",
    "    download_images('data')"
   ]
  },
  {
   "cell_type": "markdown",
   "id": "467a865f",
   "metadata": {},
   "source": [
    "## Note: To be in accordance with other folders, changes to make:\n",
    "- Add \"-cat\" to Women's Apparel directory after unzipping (Maybe we handle when we're zipping itself? Otherwise we can add a condition for this in the dataloader too)"
   ]
  },
  {
   "cell_type": "markdown",
   "id": "b887334e",
   "metadata": {},
   "source": [
    "## Dataset"
   ]
  },
  {
   "cell_type": "code",
   "execution_count": 7,
   "id": "d7a686c7",
   "metadata": {},
   "outputs": [],
   "source": [
    "data = dataset.DataSet()"
   ]
  },
  {
   "cell_type": "code",
   "execution_count": null,
   "id": "627604f6",
   "metadata": {},
   "outputs": [],
   "source": []
  },
  {
   "cell_type": "code",
   "execution_count": 8,
   "id": "aa395e78",
   "metadata": {
    "scrolled": true
   },
   "outputs": [
    {
     "data": {
      "text/plain": [
       "<BarContainer object of 25 artists>"
      ]
     },
     "execution_count": 8,
     "metadata": {},
     "output_type": "execute_result"
    },
    {
     "data": {
      "image/png": "[encoded data removed]",
      "text/plain": [
       "<Figure size 500x800 with 1 Axes>"
      ]
     },
     "metadata": {},
     "output_type": "display_data"
    }
   ],
   "source": [
    "cats, items = zip(*data.image_count_per_category().items())\n",
    "fig, ax = plt.subplots(figsize=(5, 8))\n",
    "ax.barh(cats, items)"
   ]
  },
  {
   "cell_type": "code",
   "execution_count": 137,
   "id": "712aabfd",
   "metadata": {},
   "outputs": [
    {
     "name": "stderr",
     "output_type": "stream",
     "text": [
      "100%|██████████| 100/100 [00:00<00:00, 221.37it/s]\n",
      "100%|██████████| 100/100 [00:00<00:00, 216.57it/s]\n",
      "100%|██████████| 100/100 [00:00<00:00, 211.54it/s]\n",
      "100%|██████████| 100/100 [00:00<00:00, 225.86it/s]\n",
      "100%|██████████| 100/100 [00:00<00:00, 216.57it/s]\n",
      "100%|██████████| 100/100 [00:00<00:00, 222.84it/s]\n",
      "100%|██████████| 100/100 [00:00<00:00, 223.84it/s]\n",
      "100%|██████████| 100/100 [00:00<00:00, 202.55it/s]\n",
      "100%|██████████| 100/100 [00:00<00:00, 231.61it/s]\n",
      "100%|██████████| 100/100 [00:00<00:00, 228.44it/s]\n",
      "100%|██████████| 100/100 [00:00<00:00, 215.18it/s]\n",
      "100%|██████████| 100/100 [00:00<00:00, 213.34it/s]\n",
      "100%|██████████| 100/100 [00:00<00:00, 232.69it/s]\n",
      "100%|██████████| 100/100 [00:00<00:00, 271.89it/s]\n",
      "100%|██████████| 100/100 [00:00<00:00, 266.82it/s]\n",
      "0it [00:00, ?it/s]\n",
      "100%|██████████| 100/100 [00:00<00:00, 231.08it/s]\n",
      "100%|██████████| 100/100 [00:00<00:00, 223.34it/s]\n",
      "0it [00:00, ?it/s]\n",
      "100%|██████████| 100/100 [00:00<00:00, 226.89it/s]\n",
      "100%|██████████| 100/100 [00:00<00:00, 178.67it/s]\n",
      "100%|██████████| 100/100 [00:00<00:00, 195.04it/s]\n",
      "100%|██████████| 100/100 [00:00<00:00, 219.91it/s]\n",
      "100%|██████████| 100/100 [00:00<00:00, 219.91it/s]\n",
      "100%|██████████| 100/100 [00:00<00:00, 226.37it/s]\n",
      "100%|██████████| 100/100 [00:00<00:00, 211.99it/s]\n",
      "100%|██████████| 100/100 [00:00<00:00, 209.32it/s]\n"
     ]
    }
   ],
   "source": [
    "data.load_all()"
   ]
  },
  {
   "cell_type": "code",
   "execution_count": 10,
   "id": "e05704bd",
   "metadata": {},
   "outputs": [
    {
     "data": {
      "application/vnd.jupyter.widget-view+json": {
       "model_id": "03c19fa4c21c40bf921e5e823073e8dd",
       "version_major": 2,
       "version_minor": 0
      },
      "text/plain": [
       "interactive(children=(Dropdown(description='category', options=('Automotive', 'Beauty-Personal-Care', 'Cameras…"
      ]
     },
     "metadata": {},
     "output_type": "display_data"
    }
   ],
   "source": [
    "all_categories = data.categories\n",
    "widgets.interact_manual.opts['manual_name'] = 'Show samples'\n",
    "im = widgets.interact_manual(lambda category: data.plot_samples(category), category=all_categories)"
   ]
  },
  {
   "cell_type": "code",
   "execution_count": 18,
   "id": "3b5a3af4",
   "metadata": {},
   "outputs": [
    {
     "data": {
      "text/plain": [
       "['Automotive',\n",
       " 'Beauty-Personal-Care',\n",
       " 'Cameras-Drones',\n",
       " 'Computers-Peripherals',\n",
       " 'Dining-Travel-Services',\n",
       " 'Food-Beverages',\n",
       " 'Health-Wellness',\n",
       " 'Hobbies-Books',\n",
       " 'Home-Appliances',\n",
       " 'Home-Living',\n",
       " 'Jewellery-Accessories',\n",
       " 'Kids-Fashion',\n",
       " \"Men's-Bags\",\n",
       " \"Men's-Shoes\",\n",
       " \"Men's-Wear\",\n",
       " 'Miscellaneous',\n",
       " 'Mobile-Gadgets',\n",
       " 'Pet-Food-Supplies',\n",
       " 'ShopeePay-Near-Me',\n",
       " 'Sports-Outdoors',\n",
       " 'Toys-Kids-Babies',\n",
       " 'Travel-Luggage',\n",
       " 'Video-Games',\n",
       " 'Watches',\n",
       " \"Women's-Apparel\",\n",
       " \"Women's-Bags\",\n",
       " \"Women's-Shoes\"]"
      ]
     },
     "execution_count": 18,
     "metadata": {},
     "output_type": "execute_result"
    }
   ],
   "source": [
    "#TODO: Check if need to normalize data or convert shapes\n",
    "all_categories"
   ]
  },
  {
   "cell_type": "code",
   "execution_count": null,
   "id": "49c1d6de",
   "metadata": {},
   "outputs": [],
   "source": [
    "cat_map = dict(zip(all_categories, range(0, len(all_categories))))\n",
    "cat_map"
   ]
  },
  {
   "cell_type": "markdown",
   "id": "bc80f86f",
   "metadata": {},
   "source": [
    "# Prepare Train and Test Dataset"
   ]
  },
  {
   "cell_type": "code",
   "execution_count": 140,
   "id": "4ce0bb4c",
   "metadata": {},
   "outputs": [],
   "source": [
    "all_data=[]\n",
    "for i in range(len(data.images)):\n",
    "   all_data.append([data.images[i], data.labels[i]])"
   ]
  },
  {
   "cell_type": "code",
   "execution_count": 142,
   "id": "849481b4",
   "metadata": {},
   "outputs": [
    {
     "name": "stdout",
     "output_type": "stream",
     "text": [
      "2000\n",
      "500\n"
     ]
    }
   ],
   "source": [
    "#Splitting on indices to get the set of images and labels\n",
    "indices = np.arange(len(data.images))\n",
    "train_data, test_data = train_test_split(all_data, test_size=0.2, random_state = 42)\n",
    "print(len(train_data))\n",
    "print(len(test_data))\n"
   ]
  },
  {
   "cell_type": "code",
   "execution_count": 143,
   "id": "5f28643f",
   "metadata": {},
   "outputs": [],
   "source": [
    "trainloader = torch.utils.data.DataLoader(train_data, shuffle=True, batch_size=batch_size)\n",
    "testloader = torch.utils.data.DataLoader(test_data, shuffle=True, batch_size=batch_size)"
   ]
  },
  {
   "cell_type": "markdown",
   "id": "4d192805",
   "metadata": {},
   "source": [
    "# CNN Baseline Model"
   ]
  },
  {
   "cell_type": "code",
   "execution_count": 144,
   "id": "22440497",
   "metadata": {},
   "outputs": [],
   "source": [
    "num_epoch = 20\n",
    "batch_size = 32"
   ]
  },
  {
   "cell_type": "code",
   "execution_count": 145,
   "id": "7e3ef77b",
   "metadata": {},
   "outputs": [],
   "source": [
    "model = models.resnet18(pretrained=True)\n",
    "model.classifier = nn.Sequential()\n",
    "#for param in model.parameters():\n",
    "#    param.requires_grad = False\n",
    "device = torch.device('cuda:0' if torch.cuda.is_available() else 'cpu')\n",
    "model.eval().to(device)\n",
    "criterion = nn.CrossEntropyLoss()\n",
    "optimizer = torch.optim.Adam(model.parameters(), lr=0.0005)"
   ]
  },
  {
   "cell_type": "code",
   "execution_count": 146,
   "id": "ef24cb3e",
   "metadata": {},
   "outputs": [
    {
     "name": "stdout",
     "output_type": "stream",
     "text": [
      "Finished Training\n"
     ]
    }
   ],
   "source": [
    "for epoch in range(num_epoch):\n",
    "\n",
    "    running_loss = 0.0\n",
    "    for i, data in enumerate(trainloader, 0):\n",
    "\n",
    "        inputs, labels = data[0].to(device), data[1].to(device)\n",
    "        optimizer.zero_grad()\n",
    "        y_pred = model.forward(inputs)\n",
    "        loss = criterion(y_pred, labels)\n",
    "        loss.backward()\n",
    "        optimizer.step()\n",
    "\n",
    "        running_loss += loss.item()\n",
    "        if (i + 1) % 100 == 0:\n",
    "            print('epoch {:3d} | {:5d} batches loss: {:.4f}'.format(epoch, i + 1, running_loss/100))\n",
    "            running_loss = 0.0\n",
    "\n",
    "print('Finished Training')"
   ]
  },
  {
   "cell_type": "code",
   "execution_count": 147,
   "id": "518ac748",
   "metadata": {},
   "outputs": [],
   "source": [
    "dataiter = iter(testloader)\n",
    "images, labels = dataiter.next()"
   ]
  },
  {
   "cell_type": "code",
   "execution_count": 148,
   "id": "bdfb13f5",
   "metadata": {},
   "outputs": [
    {
     "name": "stdout",
     "output_type": "stream",
     "text": [
      "Accuracy of the network on the test images: 7 %\n"
     ]
    }
   ],
   "source": [
    "correct = 0\n",
    "total = 0\n",
    "with torch.no_grad():\n",
    "    for data in testloader:\n",
    "        #images, labels = data\n",
    "        images, labels = data[0].to(device), data[1].to(device)\n",
    "        outputs = model(images)\n",
    "        _, predicted = torch.max(outputs.data, 1)\n",
    "        total += labels.size(0)\n",
    "        correct += (predicted == labels).sum().item()\n",
    "\n",
    "print(f'Accuracy of the network on the test images: {100 * correct // total} %')"
   ]
  },
  {
   "cell_type": "code",
   "execution_count": null,
   "id": "7f2e68ef",
   "metadata": {},
   "outputs": [],
   "source": []
  }
 ],
 "metadata": {
  "kernelspec": {
   "display_name": "Python 3.9.12 ('cs5242-proj')",
   "language": "python",
   "name": "python3"
  },
  "language_info": {
   "codemirror_mode": {
    "name": "ipython",
    "version": 3
   },
   "file_extension": ".py",
   "mimetype": "text/x-python",
   "name": "python",
   "nbconvert_exporter": "python",
   "pygments_lexer": "ipython3",
   "version": "3.9.12"
  },
  "vscode": {
   "interpreter": {
    "hash": "d88d51e5feeef7cdbc38f54879bc8b14b595db7785db4e3b195d2593607adbb2"
   }
  }
 },
 "nbformat": 4,
 "nbformat_minor": 5
}
