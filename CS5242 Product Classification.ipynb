{
 "cells": [
  {
   "cell_type": "markdown",
   "id": "c53e22fb",
   "metadata": {},
   "source": [
    "# Shopee Product Classification "
   ]
  },
  {
   "cell_type": "markdown",
   "id": "e00b4f80",
   "metadata": {},
   "source": [
    "Notebook to experiment over several Neural Networks over the product dataset obtained from Shopee and evaluate results."
   ]
  },
  {
   "cell_type": "markdown",
   "id": "ceaa5624",
   "metadata": {},
   "source": [
    "The following models are evaluated as part of this notebook:\n",
    "\n",
    "Baseline 1: CNN <br>\n",
    "Baseline 2: CNN with augmented layers <br>\n",
    "Improvement 1: Adding RNN <br>\n",
    "Improvement 2: Adding attention"
   ]
  },
  {
   "cell_type": "markdown",
   "id": "70e52a97",
   "metadata": {},
   "source": [
    "## Imports and Config"
   ]
  },
  {
   "cell_type": "code",
   "execution_count": null,
   "id": "97c7e4bf",
   "metadata": {
    "scrolled": true
   },
   "outputs": [],
   "source": [
    "!pip install scikit-image\n",
    "!pip install shopee_crawler\n",
    "!pip install torchvision\n",
    "!pip install opencv-python"
   ]
  },
  {
   "cell_type": "code",
   "execution_count": 2,
   "id": "7320f4d2",
   "metadata": {},
   "outputs": [
    {
     "data": {
      "text/plain": [
       "<torch._C.Generator at 0x120701130>"
      ]
     },
     "execution_count": 2,
     "metadata": {},
     "output_type": "execute_result"
    }
   ],
   "source": [
    "# System\n",
    "import importlib\n",
    "\n",
    "# Visualization\n",
    "import ipywidgets as widgets\n",
    "import matplotlib.pyplot as plt\n",
    "\n",
    "# Custom Modules\n",
    "from model import trainer, dataset, baseline_cnn_1\n",
    "\n",
    "\n",
    "import torch\n",
    "import torch.nn as nn\n",
    "\n",
    "torch.manual_seed(42)"
   ]
  },
  {
   "cell_type": "markdown",
   "id": "b887334e",
   "metadata": {},
   "source": [
    "## Dataset"
   ]
  },
  {
   "cell_type": "code",
   "execution_count": 3,
   "id": "d7a686c7",
   "metadata": {},
   "outputs": [],
   "source": [
    "data = dataset.DataSet(max_num_img=3000, crop=0.75, path='data/selected_images/')"
   ]
  },
  {
   "cell_type": "code",
   "execution_count": 4,
   "id": "712aabfd",
   "metadata": {},
   "outputs": [
    {
     "name": "stderr",
     "output_type": "stream",
     "text": [
      "100%|██████████| 500/500 [00:01<00:00, 325.40it/s]\n",
      "100%|██████████| 500/500 [00:01<00:00, 332.37it/s]\n",
      "100%|██████████| 500/500 [00:01<00:00, 333.32it/s]\n",
      "100%|██████████| 500/500 [00:01<00:00, 337.76it/s]\n",
      "100%|██████████| 500/500 [00:01<00:00, 294.62it/s]\n",
      "100%|██████████| 500/500 [00:01<00:00, 282.81it/s]\n",
      "100%|██████████| 500/500 [00:01<00:00, 321.33it/s]\n",
      "100%|██████████| 501/501 [00:01<00:00, 370.24it/s]\n",
      "100%|██████████| 500/500 [00:01<00:00, 273.76it/s]\n"
     ]
    }
   ],
   "source": [
    "data.load_all()"
   ]
  },
  {
   "cell_type": "markdown",
   "id": "4d192805",
   "metadata": {},
   "source": [
    "## CNN Baseline Model"
   ]
  },
  {
   "cell_type": "code",
   "execution_count": 20,
   "id": "7e3ef77b",
   "metadata": {},
   "outputs": [],
   "source": [
    "batch_size = 32\n",
    "num_epoch = 30\n",
    "\n",
    "baseline_cnn_1_model = baseline_cnn_1.BaselineCNN1(len(data.categories))\n",
    "\n",
    "criterion = nn.CrossEntropyLoss()\n",
    "optimizer = torch.optim.Adam(baseline_cnn_1_model.parameters(), lr=5e-4)"
   ]
  },
  {
   "cell_type": "code",
   "execution_count": 21,
   "id": "d89ba372",
   "metadata": {},
   "outputs": [
    {
     "name": "stdout",
     "output_type": "stream",
     "text": [
      "[Epoch   0]: Training loss: 1.749399 | Accuracy: 0.373651\n",
      "[Epoch   0]: Validation loss: 1.753244 | Accuracy: 0.368889 | Within 3: 0.697778\n",
      "[Epoch   1]: Training loss: 1.580246 | Accuracy: 0.446032\n",
      "[Epoch   1]: Validation loss: 1.652975 | Accuracy: 0.402222 | Within 3: 0.784444\n",
      "[Epoch   2]: Training loss: 1.458521 | Accuracy: 0.501905\n",
      "[Epoch   2]: Validation loss: 1.654066 | Accuracy: 0.444444 | Within 3: 0.777778\n",
      "[Epoch   3]: Training loss: 1.409372 | Accuracy: 0.515556\n",
      "[Epoch   3]: Validation loss: 1.477753 | Accuracy: 0.471111 | Within 3: 0.797778\n",
      "[Epoch   4]: Training loss: 1.325175 | Accuracy: 0.555873\n",
      "[Epoch   4]: Validation loss: 1.599549 | Accuracy: 0.453333 | Within 3: 0.746667\n",
      "[Epoch   5]: Training loss: 1.271877 | Accuracy: 0.572063\n",
      "[Epoch   5]: Validation loss: 2.488706 | Accuracy: 0.293333 | Within 3: 0.597778\n",
      "[Epoch   6]: Training loss: 1.236835 | Accuracy: 0.581587\n",
      "[Epoch   6]: Validation loss: 1.580380 | Accuracy: 0.453333 | Within 3: 0.773333\n",
      "[Epoch   7]: Training loss: 1.191168 | Accuracy: 0.598413\n",
      "[Epoch   7]: Validation loss: 1.644247 | Accuracy: 0.444444 | Within 3: 0.786667\n",
      "[Epoch   8]: Training loss: 1.120629 | Accuracy: 0.615556\n",
      "[Epoch   8]: Validation loss: 1.355564 | Accuracy: 0.548889 | Within 3: 0.804444\n",
      "[Epoch   9]: Training loss: 1.070594 | Accuracy: 0.635873\n",
      "[Epoch   9]: Validation loss: 1.312525 | Accuracy: 0.553333 | Within 3: 0.851111\n",
      "[Epoch  10]: Training loss: 1.045686 | Accuracy: 0.647937\n",
      "[Epoch  10]: Validation loss: 1.477170 | Accuracy: 0.562222 | Within 3: 0.837778\n",
      "[Epoch  11]: Training loss: 0.994833 | Accuracy: 0.661270\n",
      "[Epoch  11]: Validation loss: 1.381732 | Accuracy: 0.497778 | Within 3: 0.795556\n",
      "[Epoch  12]: Training loss: 0.922809 | Accuracy: 0.690794\n",
      "[Epoch  12]: Validation loss: 1.251162 | Accuracy: 0.597778 | Within 3: 0.848889\n",
      "[Epoch  13]: Training loss: 0.902132 | Accuracy: 0.705714\n",
      "[Epoch  13]: Validation loss: 1.395734 | Accuracy: 0.597778 | Within 3: 0.860000\n",
      "[Epoch  14]: Training loss: 0.846952 | Accuracy: 0.709841\n",
      "[Epoch  14]: Validation loss: 1.431061 | Accuracy: 0.524444 | Within 3: 0.786667\n",
      "[Epoch  15]: Training loss: 0.773392 | Accuracy: 0.741905\n",
      "[Epoch  15]: Validation loss: 1.488806 | Accuracy: 0.517778 | Within 3: 0.822222\n",
      "[Epoch  16]: Training loss: 0.751521 | Accuracy: 0.743492\n",
      "[Epoch  16]: Validation loss: 1.179104 | Accuracy: 0.588889 | Within 3: 0.831111\n",
      "[Epoch  17]: Training loss: 0.657665 | Accuracy: 0.781587\n",
      "[Epoch  17]: Validation loss: 1.149574 | Accuracy: 0.617778 | Within 3: 0.851111\n",
      "[Epoch  18]: Training loss: 0.620087 | Accuracy: 0.796825\n",
      "[Epoch  18]: Validation loss: 1.505000 | Accuracy: 0.500000 | Within 3: 0.822222\n",
      "[Epoch  19]: Training loss: 0.561633 | Accuracy: 0.811746\n",
      "[Epoch  19]: Validation loss: 1.475761 | Accuracy: 0.580000 | Within 3: 0.848889\n",
      "[Epoch  20]: Training loss: 0.511673 | Accuracy: 0.839683\n",
      "[Epoch  20]: Validation loss: 1.145322 | Accuracy: 0.626667 | Within 3: 0.877778\n",
      "[Epoch  21]: Training loss: 0.438490 | Accuracy: 0.873016\n",
      "[Epoch  21]: Validation loss: 1.362438 | Accuracy: 0.613333 | Within 3: 0.842222\n",
      "[Epoch  22]: Training loss: 0.390613 | Accuracy: 0.885397\n",
      "[Epoch  22]: Validation loss: 1.317078 | Accuracy: 0.620000 | Within 3: 0.888889\n",
      "[Epoch  23]: Training loss: 0.338527 | Accuracy: 0.907302\n",
      "[Epoch  23]: Validation loss: 1.316308 | Accuracy: 0.633333 | Within 3: 0.873333\n",
      "[Epoch  24]: Training loss: 0.279832 | Accuracy: 0.928254\n",
      "[Epoch  24]: Validation loss: 1.354197 | Accuracy: 0.633333 | Within 3: 0.866667\n",
      "[Epoch  25]: Training loss: 0.230588 | Accuracy: 0.942222\n",
      "[Epoch  25]: Validation loss: 1.430572 | Accuracy: 0.624444 | Within 3: 0.857778\n",
      "[Epoch  26]: Training loss: 0.198394 | Accuracy: 0.950794\n",
      "[Epoch  26]: Validation loss: 1.406457 | Accuracy: 0.622222 | Within 3: 0.860000\n",
      "[Epoch  27]: Training loss: 0.152834 | Accuracy: 0.967937\n",
      "[Epoch  27]: Validation loss: 1.135522 | Accuracy: 0.635556 | Within 3: 0.877778\n",
      "[Epoch  28]: Training loss: 0.112630 | Accuracy: 0.983175\n",
      "[Epoch  28]: Validation loss: 1.472578 | Accuracy: 0.613333 | Within 3: 0.857778\n",
      "[Epoch  29]: Training loss: 0.140940 | Accuracy: 0.969206\n",
      "[Epoch  29]: Validation loss: 1.333245 | Accuracy: 0.626667 | Within 3: 0.864444\n",
      "Best epoch:  27\n"
     ]
    }
   ],
   "source": [
    "mtrainer = trainer.Trainer(baseline_cnn_1_model, optimizer, criterion, data, batch_size)\n",
    "mtrainer.run_train(30)"
   ]
  },
  {
   "cell_type": "code",
   "execution_count": 44,
   "id": "d8c903eb",
   "metadata": {},
   "outputs": [
    {
     "name": "stderr",
     "output_type": "stream",
     "text": [
      "/Users/naomileow/Documents/school/CS5242/project/model/trainer.py:113: UserWarning: The operator 'aten::nonzero' is not currently supported on the MPS backend and will fall back to run on the CPU. This may have performance implications. (Triggered internally at  /Users/runner/work/pytorch/pytorch/pytorch/aten/src/ATen/mps/MPSFallback.mm:11.)\n",
      "  idxes = (predicted[:, 0] != labels).nonzero().flatten()\n"
     ]
    },
    {
     "name": "stdout",
     "output_type": "stream",
     "text": [
      "Accuracy of the network on the test images: 64.59489456159822 %\n"
     ]
    }
   ],
   "source": [
    "test_loss, test_acc, top_k, incorect_stats = mtrainer.run_test(mtrainer.testloader, 3, True)\n",
    "print(f'Accuracy of the network on the test images: {test_acc*100} %')\n",
    "# print(f'Accuracy within top 3 results: {top_k*100} %')\n",
    "\n",
    "# from collections import Counter\n",
    "\n",
    "# counts = Counter(incorect_stats).most_common(25)\n",
    "# for k, v in counts:\n",
    "#     print(f\"({data.categories[k[0]]}, {data.categories[k[1]]}): {v}\")"
   ]
  },
  {
   "cell_type": "markdown",
   "id": "e8e4bfec",
   "metadata": {},
   "source": [
    "## CCN Model with additional convolutional block"
   ]
  },
  {
   "cell_type": "code",
   "execution_count": 96,
   "id": "9b9a6c31",
   "metadata": {},
   "outputs": [
    {
     "data": {
      "text/plain": [
       "<module 'model.deeper_cnn' from '/Users/naomileow/Documents/school/CS5242/project/model/deeper_cnn.py'>"
      ]
     },
     "execution_count": 96,
     "metadata": {},
     "output_type": "execute_result"
    }
   ],
   "source": [
    "importlib.reload(deeper_cnn)"
   ]
  },
  {
   "cell_type": "code",
   "execution_count": 97,
   "id": "860fe74c",
   "metadata": {},
   "outputs": [],
   "source": [
    "from model import deeper_cnn\n",
    "\n",
    "deeper_model = deeper_cnn.DeeperCNN(len(data.categories))\n",
    "\n",
    "criterion = nn.CrossEntropyLoss()\n",
    "optimizer = torch.optim.Adam(deeper_model.parameters(), lr=5e-4)"
   ]
  },
  {
   "cell_type": "code",
   "execution_count": 98,
   "id": "22bec256",
   "metadata": {},
   "outputs": [
    {
     "name": "stdout",
     "output_type": "stream",
     "text": [
      "[Epoch   0]: Training loss: 1.749542 | Accuracy: 0.375873\n",
      "[Epoch   0]: Validation loss: 1.652791 | Accuracy: 0.437778 | Within 3: 0.751111\n",
      "[Epoch   1]: Training loss: 1.510620 | Accuracy: 0.473016\n",
      "[Epoch   1]: Validation loss: 1.593568 | Accuracy: 0.444444 | Within 3: 0.762222\n",
      "[Epoch   2]: Training loss: 1.383407 | Accuracy: 0.522857\n",
      "[Epoch   2]: Validation loss: 1.529960 | Accuracy: 0.468889 | Within 3: 0.782222\n",
      "[Epoch   3]: Training loss: 1.302175 | Accuracy: 0.548254\n",
      "[Epoch   3]: Validation loss: 1.525819 | Accuracy: 0.482222 | Within 3: 0.784444\n",
      "[Epoch   4]: Training loss: 1.205695 | Accuracy: 0.572063\n",
      "[Epoch   4]: Validation loss: 1.615896 | Accuracy: 0.431111 | Within 3: 0.757778\n",
      "[Epoch   5]: Training loss: 1.160441 | Accuracy: 0.594921\n",
      "[Epoch   5]: Validation loss: 1.337535 | Accuracy: 0.546667 | Within 3: 0.813333\n",
      "[Epoch   6]: Training loss: 1.090815 | Accuracy: 0.624444\n",
      "[Epoch   6]: Validation loss: 1.896076 | Accuracy: 0.397778 | Within 3: 0.742222\n",
      "[Epoch   7]: Training loss: 1.021008 | Accuracy: 0.643175\n",
      "[Epoch   7]: Validation loss: 1.539364 | Accuracy: 0.537778 | Within 3: 0.793333\n",
      "[Epoch   8]: Training loss: 0.926868 | Accuracy: 0.691746\n",
      "[Epoch   8]: Validation loss: 1.352353 | Accuracy: 0.548889 | Within 3: 0.837778\n",
      "[Epoch   9]: Training loss: 0.882601 | Accuracy: 0.701587\n",
      "[Epoch   9]: Validation loss: 1.371569 | Accuracy: 0.540000 | Within 3: 0.848889\n",
      "[Epoch  10]: Training loss: 0.781461 | Accuracy: 0.729524\n",
      "[Epoch  10]: Validation loss: 1.429419 | Accuracy: 0.548889 | Within 3: 0.811111\n",
      "[Epoch  11]: Training loss: 0.708601 | Accuracy: 0.755873\n",
      "[Epoch  11]: Validation loss: 1.498005 | Accuracy: 0.524444 | Within 3: 0.815556\n",
      "[Epoch  12]: Training loss: 0.678010 | Accuracy: 0.763492\n",
      "[Epoch  12]: Validation loss: 1.190798 | Accuracy: 0.622222 | Within 3: 0.866667\n",
      "[Epoch  13]: Training loss: 0.561620 | Accuracy: 0.813333\n",
      "[Epoch  13]: Validation loss: 1.244411 | Accuracy: 0.584444 | Within 3: 0.840000\n",
      "[Epoch  14]: Training loss: 0.449255 | Accuracy: 0.852381\n",
      "[Epoch  14]: Validation loss: 1.964750 | Accuracy: 0.493333 | Within 3: 0.837778\n",
      "[Epoch  15]: Training loss: 0.385289 | Accuracy: 0.875556\n",
      "[Epoch  15]: Validation loss: 1.231755 | Accuracy: 0.624444 | Within 3: 0.864444\n",
      "[Epoch  16]: Training loss: 0.293976 | Accuracy: 0.913333\n",
      "[Epoch  16]: Validation loss: 1.414652 | Accuracy: 0.622222 | Within 3: 0.857778\n",
      "[Epoch  17]: Training loss: 0.232601 | Accuracy: 0.940000\n",
      "[Epoch  17]: Validation loss: 1.174139 | Accuracy: 0.673333 | Within 3: 0.900000\n",
      "[Epoch  18]: Training loss: 0.178349 | Accuracy: 0.952063\n",
      "[Epoch  18]: Validation loss: 1.130193 | Accuracy: 0.657778 | Within 3: 0.891111\n",
      "[Epoch  19]: Training loss: 0.142494 | Accuracy: 0.965714\n",
      "[Epoch  19]: Validation loss: 1.169968 | Accuracy: 0.648889 | Within 3: 0.891111\n",
      "[Epoch  20]: Training loss: 0.117170 | Accuracy: 0.971746\n",
      "[Epoch  20]: Validation loss: 1.669130 | Accuracy: 0.637778 | Within 3: 0.880000\n",
      "[Epoch  21]: Training loss: 0.093296 | Accuracy: 0.979048\n",
      "[Epoch  21]: Validation loss: 1.329520 | Accuracy: 0.662222 | Within 3: 0.864444\n",
      "[Epoch  22]: Training loss: 0.060524 | Accuracy: 0.988254\n",
      "[Epoch  22]: Validation loss: 1.317495 | Accuracy: 0.673333 | Within 3: 0.888889\n",
      "[Epoch  23]: Training loss: 0.040748 | Accuracy: 0.993968\n",
      "[Epoch  23]: Validation loss: 1.143214 | Accuracy: 0.702222 | Within 3: 0.888889\n",
      "[Epoch  24]: Training loss: 0.047580 | Accuracy: 0.991746\n",
      "[Epoch  24]: Validation loss: 1.249977 | Accuracy: 0.668889 | Within 3: 0.895556\n",
      "[Epoch  25]: Training loss: 0.029823 | Accuracy: 0.995873\n",
      "[Epoch  25]: Validation loss: 1.121211 | Accuracy: 0.704444 | Within 3: 0.904444\n",
      "[Epoch  26]: Training loss: 0.023595 | Accuracy: 0.997143\n",
      "[Epoch  26]: Validation loss: 1.373673 | Accuracy: 0.691111 | Within 3: 0.900000\n",
      "[Epoch  27]: Training loss: 0.012716 | Accuracy: 0.999048\n",
      "[Epoch  27]: Validation loss: 1.371045 | Accuracy: 0.686667 | Within 3: 0.882222\n",
      "[Epoch  28]: Training loss: 0.057391 | Accuracy: 0.984127\n",
      "[Epoch  28]: Validation loss: 1.467316 | Accuracy: 0.651111 | Within 3: 0.882222\n",
      "[Epoch  29]: Training loss: 0.106315 | Accuracy: 0.968571\n",
      "[Epoch  29]: Validation loss: 1.808584 | Accuracy: 0.588889 | Within 3: 0.842222\n",
      "Best epoch:  25\n"
     ]
    }
   ],
   "source": [
    "batch_size = 32\n",
    "mtrainer = trainer.Trainer(deeper_model, optimizer, criterion, data, batch_size)\n",
    "mtrainer.run_train(30)"
   ]
  },
  {
   "cell_type": "code",
   "execution_count": 100,
   "id": "e0a86a27",
   "metadata": {},
   "outputs": [
    {
     "name": "stdout",
     "output_type": "stream",
     "text": [
      "Accuracy of the network on the test images: 69.14539400665927 %\n"
     ]
    }
   ],
   "source": [
    "test_loss, test_acc, top_k = mtrainer.run_test(mtrainer.testloader)\n",
    "print(f'Accuracy of the network on the test images: {test_acc*100} %')"
   ]
  },
  {
   "cell_type": "markdown",
   "id": "ae836900",
   "metadata": {},
   "source": [
    "## CNN Model with additional convolutional block and skip connections"
   ]
  },
  {
   "cell_type": "code",
   "execution_count": 87,
   "id": "e0e89ff2",
   "metadata": {},
   "outputs": [],
   "source": [
    "from model import baseline_cnn_2\n",
    "\n",
    "cnn_model_2 = baseline_cnn_2.BaselineCNN2(len(data.categories))\n",
    "\n",
    "criterion = nn.CrossEntropyLoss()\n",
    "optimizer = torch.optim.Adam(cnn_model_2.parameters(), lr=5e-4)"
   ]
  },
  {
   "cell_type": "code",
   "execution_count": 88,
   "id": "5266ba1f",
   "metadata": {},
   "outputs": [
    {
     "name": "stdout",
     "output_type": "stream",
     "text": [
      "[Epoch   0]: Training loss: 1.764447 | Accuracy: 0.366032\n",
      "[Epoch   0]: Validation loss: 1.856244 | Accuracy: 0.346667 | Within 3: 0.702222\n",
      "[Epoch   1]: Training loss: 1.592605 | Accuracy: 0.438730\n",
      "[Epoch   1]: Validation loss: 1.585183 | Accuracy: 0.426667 | Within 3: 0.777778\n",
      "[Epoch   2]: Training loss: 1.437768 | Accuracy: 0.502222\n",
      "[Epoch   2]: Validation loss: 1.569322 | Accuracy: 0.448889 | Within 3: 0.773333\n",
      "[Epoch   3]: Training loss: 1.375024 | Accuracy: 0.526032\n",
      "[Epoch   3]: Validation loss: 1.538624 | Accuracy: 0.466667 | Within 3: 0.804444\n",
      "[Epoch   4]: Training loss: 1.285507 | Accuracy: 0.549841\n",
      "[Epoch   4]: Validation loss: 1.871614 | Accuracy: 0.364444 | Within 3: 0.733333\n",
      "[Epoch   5]: Training loss: 1.252900 | Accuracy: 0.563175\n",
      "[Epoch   5]: Validation loss: 2.208791 | Accuracy: 0.308889 | Within 3: 0.693333\n",
      "[Epoch   6]: Training loss: 1.186153 | Accuracy: 0.586984\n",
      "[Epoch   6]: Validation loss: 1.395670 | Accuracy: 0.546667 | Within 3: 0.822222\n",
      "[Epoch   7]: Training loss: 1.133759 | Accuracy: 0.615873\n",
      "[Epoch   7]: Validation loss: 1.343177 | Accuracy: 0.562222 | Within 3: 0.831111\n",
      "[Epoch   8]: Training loss: 1.096403 | Accuracy: 0.608571\n",
      "[Epoch   8]: Validation loss: 1.385845 | Accuracy: 0.560000 | Within 3: 0.840000\n",
      "[Epoch   9]: Training loss: 1.025210 | Accuracy: 0.649524\n",
      "[Epoch   9]: Validation loss: 2.005714 | Accuracy: 0.422222 | Within 3: 0.673333\n",
      "[Epoch  10]: Training loss: 0.995263 | Accuracy: 0.648254\n",
      "[Epoch  10]: Validation loss: 1.264545 | Accuracy: 0.584444 | Within 3: 0.826667\n",
      "[Epoch  11]: Training loss: 0.945773 | Accuracy: 0.678413\n",
      "[Epoch  11]: Validation loss: 1.540493 | Accuracy: 0.540000 | Within 3: 0.791111\n",
      "[Epoch  12]: Training loss: 0.856101 | Accuracy: 0.715873\n",
      "[Epoch  12]: Validation loss: 1.354237 | Accuracy: 0.568889 | Within 3: 0.851111\n",
      "[Epoch  13]: Training loss: 0.835194 | Accuracy: 0.711746\n",
      "[Epoch  13]: Validation loss: 1.150411 | Accuracy: 0.604444 | Within 3: 0.862222\n",
      "[Epoch  14]: Training loss: 0.746018 | Accuracy: 0.750476\n",
      "[Epoch  14]: Validation loss: 1.411203 | Accuracy: 0.564444 | Within 3: 0.853333\n",
      "[Epoch  15]: Training loss: 0.707143 | Accuracy: 0.757143\n",
      "[Epoch  15]: Validation loss: 1.327670 | Accuracy: 0.586667 | Within 3: 0.828889\n",
      "[Epoch  16]: Training loss: 0.623620 | Accuracy: 0.797143\n",
      "[Epoch  16]: Validation loss: 1.498393 | Accuracy: 0.560000 | Within 3: 0.857778\n",
      "[Epoch  17]: Training loss: 0.568962 | Accuracy: 0.814286\n",
      "[Epoch  17]: Validation loss: 1.884527 | Accuracy: 0.484444 | Within 3: 0.786667\n",
      "[Epoch  18]: Training loss: 0.502397 | Accuracy: 0.839048\n",
      "[Epoch  18]: Validation loss: 1.350808 | Accuracy: 0.591111 | Within 3: 0.853333\n",
      "[Epoch  19]: Training loss: 0.437520 | Accuracy: 0.863175\n",
      "[Epoch  19]: Validation loss: 1.377175 | Accuracy: 0.617778 | Within 3: 0.835556\n",
      "[Epoch  20]: Training loss: 0.369049 | Accuracy: 0.880952\n",
      "[Epoch  20]: Validation loss: 1.138978 | Accuracy: 0.631111 | Within 3: 0.866667\n",
      "[Epoch  21]: Training loss: 0.310158 | Accuracy: 0.909841\n",
      "[Epoch  21]: Validation loss: 1.343833 | Accuracy: 0.617778 | Within 3: 0.866667\n",
      "[Epoch  22]: Training loss: 0.270868 | Accuracy: 0.923810\n",
      "[Epoch  22]: Validation loss: 1.496997 | Accuracy: 0.640000 | Within 3: 0.868889\n",
      "[Epoch  23]: Training loss: 0.269121 | Accuracy: 0.922540\n",
      "[Epoch  23]: Validation loss: 1.444019 | Accuracy: 0.588889 | Within 3: 0.837778\n",
      "[Epoch  24]: Training loss: 0.232547 | Accuracy: 0.936825\n",
      "[Epoch  24]: Validation loss: 1.405123 | Accuracy: 0.608889 | Within 3: 0.842222\n",
      "[Epoch  25]: Training loss: 0.203261 | Accuracy: 0.941905\n",
      "[Epoch  25]: Validation loss: 1.544552 | Accuracy: 0.582222 | Within 3: 0.853333\n",
      "[Epoch  26]: Training loss: 0.160432 | Accuracy: 0.959365\n",
      "[Epoch  26]: Validation loss: 1.553475 | Accuracy: 0.626667 | Within 3: 0.873333\n",
      "[Epoch  27]: Training loss: 0.111969 | Accuracy: 0.975873\n",
      "[Epoch  27]: Validation loss: 1.390335 | Accuracy: 0.644444 | Within 3: 0.884444\n",
      "[Epoch  28]: Training loss: 0.089793 | Accuracy: 0.982222\n",
      "[Epoch  28]: Validation loss: 1.245198 | Accuracy: 0.651111 | Within 3: 0.877778\n",
      "[Epoch  29]: Training loss: 0.068944 | Accuracy: 0.988571\n",
      "[Epoch  29]: Validation loss: 1.272905 | Accuracy: 0.662222 | Within 3: 0.904444\n",
      "Best epoch:  29\n"
     ]
    }
   ],
   "source": [
    "batch_size = 32\n",
    "mtrainer = trainer.Trainer(cnn_model_2, optimizer, criterion, data, batch_size)\n",
    "mtrainer.run_train(30)"
   ]
  },
  {
   "cell_type": "code",
   "execution_count": 89,
   "id": "25345e54",
   "metadata": {},
   "outputs": [
    {
     "name": "stdout",
     "output_type": "stream",
     "text": [
      "Accuracy of the network on the test images: 67.03662597114317 %\n"
     ]
    }
   ],
   "source": [
    "test_loss, test_acc, top_k = mtrainer.run_test(mtrainer.testloader)\n",
    "print(f'Accuracy of the network on the test images: {test_acc*100} %')"
   ]
  }
 ],
 "metadata": {
  "kernelspec": {
   "display_name": "Python 3 (ipykernel)",
   "language": "python",
   "name": "python3"
  },
  "language_info": {
   "codemirror_mode": {
    "name": "ipython",
    "version": 3
   },
   "file_extension": ".py",
   "mimetype": "text/x-python",
   "name": "python",
   "nbconvert_exporter": "python",
   "pygments_lexer": "ipython3",
   "version": "3.9.12"
  },
  "vscode": {
   "interpreter": {
    "hash": "d88d51e5feeef7cdbc38f54879bc8b14b595db7785db4e3b195d2593607adbb2"
   }
  }
 },
 "nbformat": 4,
 "nbformat_minor": 5
}
