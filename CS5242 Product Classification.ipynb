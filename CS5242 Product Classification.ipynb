{
 "cells": [
  {
   "cell_type": "markdown",
   "id": "c53e22fb",
   "metadata": {},
   "source": [
    "# Shopee Product Classification "
   ]
  },
  {
   "cell_type": "markdown",
   "id": "e00b4f80",
   "metadata": {},
   "source": [
    "Notebook to experiment over several Neural Networks over the product dataset obtained from Shopee and evaluate results."
   ]
  },
  {
   "cell_type": "markdown",
   "id": "ceaa5624",
   "metadata": {},
   "source": [
    "The following models are evaluated as part of this notebook:\n",
    "\n",
    "Baseline 1: CNN <br>\n",
    "Baseline 2: CNN with augmented layers <br>\n",
    "Improvement 1: Adding ANN <br>\n",
    "Improvement 2: Adding RNN <br>"
   ]
  },
  {
   "cell_type": "markdown",
   "id": "70e52a97",
   "metadata": {},
   "source": [
    "## Imports and Config"
   ]
  },
  {
   "cell_type": "code",
   "execution_count": 1,
   "id": "97c7e4bf",
   "metadata": {
    "scrolled": false
   },
   "outputs": [
    {
     "name": "stdout",
     "output_type": "stream",
     "text": [
      "Collecting scikit-image\n",
      "  Using cached scikit_image-0.19.3-cp39-cp39-macosx_12_0_arm64.whl (12.5 MB)\n",
      "Collecting PyWavelets>=1.1.1\n",
      "  Using cached PyWavelets-1.4.1-cp39-cp39-macosx_11_0_arm64.whl (4.3 MB)\n",
      "Requirement already satisfied: numpy>=1.17.0 in /opt/homebrew/anaconda3/envs/cs5242-proj/lib/python3.9/site-packages (from scikit-image) (1.23.1)\n",
      "Collecting tifffile>=2019.7.26\n",
      "  Using cached tifffile-2022.10.10-py3-none-any.whl (210 kB)\n",
      "Requirement already satisfied: packaging>=20.0 in /opt/homebrew/anaconda3/envs/cs5242-proj/lib/python3.9/site-packages (from scikit-image) (21.3)\n",
      "Requirement already satisfied: pillow!=7.1.0,!=7.1.1,!=8.3.0,>=6.1.0 in /opt/homebrew/anaconda3/envs/cs5242-proj/lib/python3.9/site-packages (from scikit-image) (9.2.0)\n",
      "Collecting imageio>=2.4.1\n",
      "  Using cached imageio-2.22.2-py3-none-any.whl (3.4 MB)\n",
      "Collecting networkx>=2.2\n",
      "  Using cached networkx-2.8.7-py3-none-any.whl (2.0 MB)\n",
      "Collecting scipy>=1.4.1\n",
      "  Using cached scipy-1.9.3-cp39-cp39-macosx_12_0_arm64.whl (28.6 MB)\n",
      "Requirement already satisfied: pyparsing!=3.0.5,>=2.0.2 in /opt/homebrew/anaconda3/envs/cs5242-proj/lib/python3.9/site-packages (from packaging>=20.0->scikit-image) (3.0.9)\n",
      "Installing collected packages: tifffile, scipy, PyWavelets, networkx, imageio, scikit-image\n",
      "Successfully installed PyWavelets-1.4.1 imageio-2.22.2 networkx-2.8.7 scikit-image-0.19.3 scipy-1.9.3 tifffile-2022.10.10\n",
      "Requirement already satisfied: shopee_crawler in /opt/homebrew/anaconda3/envs/cs5242-proj/lib/python3.9/site-packages (0.2.2)\n",
      "Requirement already satisfied: torchvision in /opt/homebrew/anaconda3/envs/cs5242-proj/lib/python3.9/site-packages (0.13.1)\n",
      "Requirement already satisfied: pillow!=8.3.*,>=5.3.0 in /opt/homebrew/anaconda3/envs/cs5242-proj/lib/python3.9/site-packages (from torchvision) (9.2.0)\n",
      "Requirement already satisfied: requests in /opt/homebrew/anaconda3/envs/cs5242-proj/lib/python3.9/site-packages (from torchvision) (2.28.1)\n",
      "Requirement already satisfied: typing-extensions in /opt/homebrew/anaconda3/envs/cs5242-proj/lib/python3.9/site-packages (from torchvision) (4.3.0)\n",
      "Requirement already satisfied: numpy in /opt/homebrew/anaconda3/envs/cs5242-proj/lib/python3.9/site-packages (from torchvision) (1.23.1)\n",
      "Requirement already satisfied: torch in /opt/homebrew/anaconda3/envs/cs5242-proj/lib/python3.9/site-packages (from torchvision) (1.12.1)\n",
      "Requirement already satisfied: idna<4,>=2.5 in /opt/homebrew/anaconda3/envs/cs5242-proj/lib/python3.9/site-packages (from requests->torchvision) (3.3)\n",
      "Requirement already satisfied: urllib3<1.27,>=1.21.1 in /opt/homebrew/anaconda3/envs/cs5242-proj/lib/python3.9/site-packages (from requests->torchvision) (1.26.11)\n",
      "Requirement already satisfied: charset-normalizer<3,>=2 in /opt/homebrew/anaconda3/envs/cs5242-proj/lib/python3.9/site-packages (from requests->torchvision) (2.0.4)\n",
      "Requirement already satisfied: certifi>=2017.4.17 in /opt/homebrew/anaconda3/envs/cs5242-proj/lib/python3.9/site-packages (from requests->torchvision) (2022.6.15)\n",
      "Collecting opencv-python\n",
      "  Using cached opencv_python-4.6.0.66-cp37-abi3-macosx_11_0_arm64.whl (30.0 MB)\n",
      "Requirement already satisfied: numpy>=1.19.3 in /opt/homebrew/anaconda3/envs/cs5242-proj/lib/python3.9/site-packages (from opencv-python) (1.23.1)\n",
      "Installing collected packages: opencv-python\n",
      "Successfully installed opencv-python-4.6.0.66\n"
     ]
    }
   ],
   "source": [
    "!pip install scikit-image\n",
    "!pip install shopee_crawler\n",
    "!pip install torchvision\n",
    "!pip install opencv-python"
   ]
  },
  {
   "cell_type": "code",
   "execution_count": 1,
   "id": "7320f4d2",
   "metadata": {},
   "outputs": [],
   "source": [
    "import os\n",
    "import sys\n",
    "import json\n",
    "import importlib\n",
    "from tqdm import tqdm\n",
    "\n",
    "import numpy as np\n",
    "import pandas as pd\n",
    "\n",
    "import matplotlib.pyplot as plt\n",
    "\n",
    "from utils import file_utils, dataset\n",
    "from scripts import crawler\n",
    "\n",
    "import ipywidgets as widgets\n",
    "\n",
    "import cv2\n",
    "import torch\n",
    "import torch.nn as nn\n",
    "from sklearn.model_selection import KFold, train_test_split, GridSearchCV, cross_val_score\n",
    "from torchvision import transforms, models, datasets\n"
   ]
  },
  {
   "cell_type": "code",
   "execution_count": 67,
   "id": "ca8b6095",
   "metadata": {},
   "outputs": [
    {
     "data": {
      "text/plain": [
       "<module 'scripts.crawler' from 'C:\\\\Users\\\\admin\\\\Documents\\\\GitHub\\\\cs5242-project\\\\scripts\\\\crawler.py'>"
      ]
     },
     "execution_count": 67,
     "metadata": {},
     "output_type": "execute_result"
    }
   ],
   "source": [
    "crawler"
   ]
  },
  {
   "cell_type": "code",
   "execution_count": 38,
   "id": "77543529",
   "metadata": {},
   "outputs": [
    {
     "data": {
      "text/plain": [
       "<module 'utils.dataset' from '/Users/naomileow/Documents/school/CS5242/project/utils/dataset.py'>"
      ]
     },
     "execution_count": 38,
     "metadata": {},
     "output_type": "execute_result"
    }
   ],
   "source": [
    "# Can use this to reload file when editing for faster changes\n",
    "importlib.reload(dataset)"
   ]
  },
  {
   "cell_type": "markdown",
   "id": "778b26a1",
   "metadata": {},
   "source": [
    "## Data Load"
   ]
  },
  {
   "cell_type": "code",
   "execution_count": 2,
   "id": "2f858a5f",
   "metadata": {},
   "outputs": [],
   "source": [
    "image_dir = 'data/images'"
   ]
  },
  {
   "cell_type": "code",
   "execution_count": 115,
   "id": "c924a8a6",
   "metadata": {},
   "outputs": [
    {
     "name": "stdout",
     "output_type": "stream",
     "text": [
      "Images already exist at: data/images\n"
     ]
    }
   ],
   "source": [
    "if(file_utils.check_images_dir()):\n",
    "    print(f'Images already exist at: {file_utils.images}')\n",
    "elif(file_utils.check_tar_exists()):\n",
    "    print(f'Images not yet extracted')\n",
    "    print(f'Image zip exists at: {file_utils.images_zip}')\n",
    "    file_utils.extract_tar()\n",
    "else:\n",
    "    print(f'Images need to be downloaded')\n",
    "    for c in category_urls:\n",
    "        get_category_data('data', c)\n",
    "    download_images('data')"
   ]
  },
  {
   "cell_type": "markdown",
   "id": "467a865f",
   "metadata": {},
   "source": [
    "## Note: To be in accordance with other folders, changes to make:\n",
    "- Add \"-cat\" to Women's Apparel directory after unzipping (Maybe we handle when we're zipping itself? Otherwise we can add a condition for this in the dataloader too)"
   ]
  },
  {
   "cell_type": "markdown",
   "id": "b887334e",
   "metadata": {},
   "source": [
    "## Dataset"
   ]
  },
  {
   "cell_type": "code",
   "execution_count": 3,
   "id": "d7a686c7",
   "metadata": {},
   "outputs": [],
   "source": [
    "data = dataset.DataSet(max_num_img=300)"
   ]
  },
  {
   "cell_type": "code",
   "execution_count": 4,
   "id": "aa395e78",
   "metadata": {
    "scrolled": true
   },
   "outputs": [
    {
     "data": {
      "text/plain": [
       "<BarContainer object of 24 artists>"
      ]
     },
     "execution_count": 4,
     "metadata": {},
     "output_type": "execute_result"
    },
    {
     "data": {
      "image/png": "[encoded data removed]",
      "text/plain": [
       "<Figure size 500x800 with 1 Axes>"
      ]
     },
     "metadata": {},
     "output_type": "display_data"
    }
   ],
   "source": [
    "cats, items = zip(*data.image_count_per_category().items())\n",
    "fig, ax = plt.subplots(figsize=(5, 8))\n",
    "ax.barh(cats, items)"
   ]
  },
  {
   "cell_type": "code",
   "execution_count": 5,
   "id": "712aabfd",
   "metadata": {},
   "outputs": [
    {
     "name": "stderr",
     "output_type": "stream",
     "text": [
      "100%|██████████| 300/300 [00:00<00:00, 459.06it/s]\n",
      "100%|██████████| 300/300 [00:00<00:00, 435.09it/s]\n",
      "100%|██████████| 300/300 [00:00<00:00, 461.69it/s]\n",
      "100%|██████████| 300/300 [00:00<00:00, 495.91it/s]\n",
      "100%|██████████| 300/300 [00:00<00:00, 521.86it/s]\n",
      "100%|██████████| 300/300 [00:00<00:00, 501.77it/s]\n",
      "100%|██████████| 300/300 [00:00<00:00, 494.00it/s]\n",
      "100%|██████████| 300/300 [00:00<00:00, 512.41it/s]\n",
      "100%|██████████| 300/300 [00:00<00:00, 531.23it/s]\n",
      "100%|██████████| 300/300 [00:00<00:00, 462.60it/s]\n",
      "100%|██████████| 300/300 [00:00<00:00, 427.23it/s]\n",
      "100%|██████████| 300/300 [00:00<00:00, 476.49it/s]\n",
      "100%|██████████| 300/300 [00:00<00:00, 498.77it/s]\n",
      "100%|██████████| 300/300 [00:00<00:00, 429.89it/s]\n",
      "100%|██████████| 300/300 [00:00<00:00, 478.88it/s]\n",
      "100%|██████████| 300/300 [00:00<00:00, 454.36it/s]\n",
      "100%|██████████| 300/300 [00:00<00:00, 485.79it/s]\n",
      "100%|██████████| 300/300 [00:00<00:00, 510.36it/s]\n",
      "100%|██████████| 300/300 [00:00<00:00, 473.02it/s]\n",
      "100%|██████████| 300/300 [00:00<00:00, 456.88it/s]\n",
      "100%|██████████| 300/300 [00:00<00:00, 464.79it/s]\n",
      "100%|██████████| 300/300 [00:00<00:00, 510.55it/s]\n",
      "100%|██████████| 300/300 [00:00<00:00, 428.48it/s]\n",
      "100%|██████████| 300/300 [00:00<00:00, 441.49it/s]\n"
     ]
    }
   ],
   "source": [
    "data.load_all()"
   ]
  },
  {
   "cell_type": "code",
   "execution_count": 16,
   "id": "e05704bd",
   "metadata": {},
   "outputs": [
    {
     "data": {
      "application/vnd.jupyter.widget-view+json": {
       "model_id": "ce8b66978ae94cfca3e88da83627edc9",
       "version_major": 2,
       "version_minor": 0
      },
      "text/plain": [
       "interactive(children=(Dropdown(description='category', options=(\"Men's-Bags\", 'Jewellery-Accessories', 'Automo…"
      ]
     },
     "metadata": {},
     "output_type": "display_data"
    }
   ],
   "source": [
    "all_categories = data.categories\n",
    "widgets.interact_manual.opts['manual_name'] = 'Show samples'\n",
    "im = widgets.interact_manual(lambda category: data.plot_samples(category), category=all_categories)"
   ]
  },
  {
   "cell_type": "code",
   "execution_count": 17,
   "id": "3b5a3af4",
   "metadata": {},
   "outputs": [
    {
     "data": {
      "text/plain": [
       "[\"Men's-Bags\",\n",
       " 'Jewellery-Accessories',\n",
       " 'Automotive',\n",
       " \"Men's-Shoes\",\n",
       " 'Computers-Peripherals',\n",
       " 'Beauty-Personal-Care',\n",
       " 'Home-Appliances',\n",
       " 'Pet-Food-Supplies',\n",
       " 'Food-Beverages',\n",
       " \"Women's-Apparel\",\n",
       " 'Kids-Fashion',\n",
       " 'Video-Games',\n",
       " 'Mobile-Gadgets',\n",
       " 'Watches',\n",
       " 'Cameras-Drones',\n",
       " 'Travel-Luggage',\n",
       " 'Sports-Outdoors',\n",
       " 'Toys-Kids-Babies',\n",
       " 'Home-Living',\n",
       " 'Hobbies-Books',\n",
       " \"Men's-Wear\",\n",
       " 'Health-Wellness',\n",
       " \"Women's-Bags\",\n",
       " \"Women's-Shoes\"]"
      ]
     },
     "execution_count": 17,
     "metadata": {},
     "output_type": "execute_result"
    }
   ],
   "source": [
    "#TODO: Check if need to normalize data or convert shapes\n",
    "all_categories"
   ]
  },
  {
   "cell_type": "code",
   "execution_count": 23,
   "id": "49c1d6de",
   "metadata": {},
   "outputs": [
    {
     "data": {
      "text/plain": [
       "{\"Men's-Bags\": 0,\n",
       " 'Jewellery-Accessories': 1,\n",
       " 'Automotive': 2,\n",
       " \"Men's-Shoes\": 3,\n",
       " 'Computers-Peripherals': 4,\n",
       " 'Beauty-Personal-Care': 5,\n",
       " 'Home-Appliances': 6,\n",
       " 'Pet-Food-Supplies': 7,\n",
       " 'Food-Beverages': 8,\n",
       " \"Women's-Apparel\": 9,\n",
       " 'Kids-Fashion': 10,\n",
       " 'Video-Games': 11,\n",
       " 'Mobile-Gadgets': 12,\n",
       " 'Watches': 13,\n",
       " 'Cameras-Drones': 14,\n",
       " 'Travel-Luggage': 15,\n",
       " 'Sports-Outdoors': 16,\n",
       " 'Toys-Kids-Babies': 17,\n",
       " 'Home-Living': 18,\n",
       " 'Hobbies-Books': 19,\n",
       " \"Men's-Wear\": 20,\n",
       " 'Health-Wellness': 21,\n",
       " \"Women's-Bags\": 22,\n",
       " \"Women's-Shoes\": 23}"
      ]
     },
     "execution_count": 23,
     "metadata": {},
     "output_type": "execute_result"
    }
   ],
   "source": [
    "cat_map = dict(zip(all_categories, range(0, len(all_categories))))\n",
    "cat_map"
   ]
  },
  {
   "cell_type": "markdown",
   "id": "bc80f86f",
   "metadata": {},
   "source": [
    "# Prepare Train and Test Dataset"
   ]
  },
  {
   "cell_type": "code",
   "execution_count": 140,
   "id": "4ce0bb4c",
   "metadata": {},
   "outputs": [],
   "source": [
    "#Splitting on indices to get the set of images and labels\n",
    "# indices = np.arange(len(data.images))\n",
    "# train_data, test_data = train_test_split(all_data, test_size=0.2, random_state = 42)\n",
    "# print(len(train_data))\n",
    "# print(len(test_data))\n"
   ]
  },
  {
   "cell_type": "markdown",
   "id": "4d192805",
   "metadata": {},
   "source": [
    "# CNN Baseline Model"
   ]
  },
  {
   "cell_type": "code",
   "execution_count": null,
   "id": "7e3ef77b",
   "metadata": {},
   "outputs": [],
   "source": [
    "from utils.train_utils import Trainer, get_device\n",
    "\n",
    "model = models.resnet18(pretrained=True)\n",
    "# model.classifier = nn.Sequential()\n",
    "#for param in model.parameters():\n",
    "#    param.requires_grad = False\n",
    "device = get_device()\n",
    "model.to(device)\n",
    "# model.eval().to(device)\n",
    "criterion = nn.CrossEntropyLoss()\n",
    "optimizer = torch.optim.Adam(model.parameters(), lr=0.0005)"
   ]
  },
  {
   "cell_type": "code",
   "execution_count": 12,
   "id": "d89ba372",
   "metadata": {},
   "outputs": [],
   "source": [
    "batch_size=32\n",
    "trainer = Trainer(model, optimizer, criterion, data, batch_size)"
   ]
  },
  {
   "cell_type": "code",
   "execution_count": 13,
   "id": "7b65b12c",
   "metadata": {},
   "outputs": [
    {
     "name": "stdout",
     "output_type": "stream",
     "text": [
      "epoch   0 |   100 batches loss: 3.3738\n",
      "[Epoch   0]: Training loss: 3.040059 | Accuracy: 0.218452\n",
      "[Epoch   0]: Validation loss: 2.378174 | Accuracy: 0.301389\n",
      "epoch   1 |   100 batches loss: 1.9047\n",
      "[Epoch   1]: Training loss: 1.952146 | Accuracy: 0.428571\n",
      "[Epoch   1]: Validation loss: 2.402557 | Accuracy: 0.319444\n",
      "epoch   2 |   100 batches loss: 1.3410\n",
      "[Epoch   2]: Training loss: 1.442472 | Accuracy: 0.568056\n",
      "[Epoch   2]: Validation loss: 2.463995 | Accuracy: 0.345833\n",
      "epoch   3 |   100 batches loss: 0.8255\n",
      "[Epoch   3]: Training loss: 0.927367 | Accuracy: 0.719246\n",
      "[Epoch   3]: Validation loss: 2.843816 | Accuracy: 0.309722\n",
      "epoch   4 |   100 batches loss: 0.5097\n",
      "[Epoch   4]: Training loss: 0.557648 | Accuracy: 0.826786\n",
      "[Epoch   4]: Validation loss: 3.070482 | Accuracy: 0.334722\n",
      "epoch   5 |   100 batches loss: 0.3480\n",
      "[Epoch   5]: Training loss: 0.380898 | Accuracy: 0.883333\n",
      "[Epoch   5]: Validation loss: 3.331883 | Accuracy: 0.320833\n",
      "epoch   6 |   100 batches loss: 0.2365\n",
      "[Epoch   6]: Training loss: 0.252820 | Accuracy: 0.926190\n",
      "[Epoch   6]: Validation loss: 3.324103 | Accuracy: 0.334722\n",
      "epoch   7 |   100 batches loss: 0.1438\n",
      "[Epoch   7]: Training loss: 0.165092 | Accuracy: 0.951587\n",
      "[Epoch   7]: Validation loss: 3.655761 | Accuracy: 0.319444\n",
      "epoch   8 |   100 batches loss: 0.1321\n",
      "[Epoch   8]: Training loss: 0.139515 | Accuracy: 0.959524\n",
      "[Epoch   8]: Validation loss: 3.889990 | Accuracy: 0.326389\n",
      "epoch   9 |   100 batches loss: 0.1599\n",
      "[Epoch   9]: Training loss: 0.193327 | Accuracy: 0.940675\n",
      "[Epoch   9]: Validation loss: 3.919069 | Accuracy: 0.318056\n"
     ]
    }
   ],
   "source": [
    "num_epoch = 10\n",
    "trainer.run_train(num_epoch)"
   ]
  },
  {
   "cell_type": "code",
   "execution_count": 19,
   "id": "0a5bd004",
   "metadata": {},
   "outputs": [
    {
     "name": "stdout",
     "output_type": "stream",
     "text": [
      "Accuracy of the network on the test images: 29.65277777777778 %\n"
     ]
    }
   ],
   "source": [
    "test_loss, test_acc, incorect_stats = trainer.run_test(trainer.testloader, True)\n",
    "print(f'Accuracy of the network on the test images: {test_acc*100} %')"
   ]
  },
  {
   "cell_type": "code",
   "execution_count": 22,
   "id": "354af512",
   "metadata": {},
   "outputs": [
    {
     "name": "stdout",
     "output_type": "stream",
     "text": [
      "(Health-Wellness, Food-Beverages): 17\n",
      "(Women's-Bags, Men's-Bags): 10\n",
      "(Hobbies-Books, Food-Beverages): 10\n",
      "(Mobile-Gadgets, Computers-Peripherals): 9\n",
      "(Home-Living, Food-Beverages): 8\n",
      "(Toys-Kids-Babies, Kids-Fashion): 8\n",
      "(Women's-Apparel, Kids-Fashion): 8\n",
      "(Cameras-Drones, Home-Appliances): 7\n",
      "(Computers-Peripherals, Men's-Bags): 7\n",
      "(Health-Wellness, Pet-Food-Supplies): 7\n",
      "(Pet-Food-Supplies, Food-Beverages): 7\n",
      "(Automotive, Home-Appliances): 7\n",
      "(Beauty-Personal-Care, Health-Wellness): 7\n",
      "(Travel-Luggage, Women's-Bags): 7\n",
      "(Automotive, Women's-Bags): 7\n",
      "(Home-Appliances, Computers-Peripherals): 7\n",
      "(Home-Living, Computers-Peripherals): 7\n",
      "(Automotive, Home-Living): 7\n",
      "(Computers-Peripherals, Mobile-Gadgets): 7\n",
      "(Travel-Luggage, Men's-Bags): 6\n",
      "(Men's-Bags, Women's-Bags): 6\n",
      "(Jewellery-Accessories, Travel-Luggage): 6\n",
      "(Home-Living, Jewellery-Accessories): 6\n",
      "(Women's-Shoes, Watches): 6\n",
      "(Women's-Shoes, Men's-Shoes): 6\n"
     ]
    }
   ],
   "source": [
    "from collections import Counter\n",
    "\n",
    "counts = Counter(incorect_stats).most_common(25)\n",
    "for k, v in counts:\n",
    "    print(f\"({all_categories[k[0]]}, {all_categories[k[1]]}): {v}\")"
   ]
  }
 ],
 "metadata": {
  "kernelspec": {
   "display_name": "Python 3.9.12 ('cs5242-proj')",
   "language": "python",
   "name": "python3"
  },
  "language_info": {
   "codemirror_mode": {
    "name": "ipython",
    "version": 3
   },
   "file_extension": ".py",
   "mimetype": "text/x-python",
   "name": "python",
   "nbconvert_exporter": "python",
   "pygments_lexer": "ipython3",
   "version": "3.9.12"
  },
  "vscode": {
   "interpreter": {
    "hash": "d88d51e5feeef7cdbc38f54879bc8b14b595db7785db4e3b195d2593607adbb2"
   }
  }
 },
 "nbformat": 4,
 "nbformat_minor": 5
}
