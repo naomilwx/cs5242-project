{
 "cells": [
  {
   "cell_type": "markdown",
   "id": "c53e22fb",
   "metadata": {},
   "source": [
    "# Shopee Product Classification "
   ]
  },
  {
   "cell_type": "markdown",
   "id": "e00b4f80",
   "metadata": {},
   "source": [
    "Notebook to experiment over several Neural Networks over the product dataset obtained from Shopee and evaluate results."
   ]
  },
  {
   "cell_type": "markdown",
   "id": "ceaa5624",
   "metadata": {},
   "source": [
    "The following models are evaluated as part of this notebook:\n",
    "\n",
    "Baseline 1: CNN <br>\n",
    "Baseline 2: CNN with augmented layers <br>\n",
    "Improvement 1: Adding RNN <br>\n",
    "Improvement 2: Adding attention"
   ]
  },
  {
   "cell_type": "markdown",
   "id": "70e52a97",
   "metadata": {},
   "source": [
    "## Imports and Config"
   ]
  },
  {
   "cell_type": "code",
   "execution_count": 39,
   "id": "97c7e4bf",
   "metadata": {
    "scrolled": true
   },
   "outputs": [
    {
     "name": "stdout",
     "output_type": "stream",
     "text": [
      "Requirement already satisfied: scikit-image in c:\\users\\shubh\\.pyenv\\pyenv-win\\versions\\3.7.9\\lib\\site-packages (0.19.3)\n",
      "Requirement already satisfied: scipy>=1.4.1 in c:\\users\\shubh\\.pyenv\\pyenv-win\\versions\\3.7.9\\lib\\site-packages (from scikit-image) (1.7.1)\n",
      "Requirement already satisfied: networkx>=2.2 in c:\\users\\shubh\\.pyenv\\pyenv-win\\versions\\3.7.9\\lib\\site-packages (from scikit-image) (2.6.3)\n",
      "Requirement already satisfied: tifffile>=2019.7.26 in c:\\users\\shubh\\.pyenv\\pyenv-win\\versions\\3.7.9\\lib\\site-packages (from scikit-image) (2021.11.2)\n",
      "Requirement already satisfied: packaging>=20.0 in c:\\users\\shubh\\.pyenv\\pyenv-win\\versions\\3.7.9\\lib\\site-packages (from scikit-image) (21.0)\n",
      "Requirement already satisfied: numpy>=1.17.0 in c:\\users\\shubh\\.pyenv\\pyenv-win\\versions\\3.7.9\\lib\\site-packages (from scikit-image) (1.21.3)\n",
      "Requirement already satisfied: imageio>=2.4.1 in c:\\users\\shubh\\.pyenv\\pyenv-win\\versions\\3.7.9\\lib\\site-packages (from scikit-image) (2.22.2)\n",
      "Requirement already satisfied: pillow!=7.1.0,!=7.1.1,!=8.3.0,>=6.1.0 in c:\\users\\shubh\\.pyenv\\pyenv-win\\versions\\3.7.9\\lib\\site-packages (from scikit-image) (8.4.0)\n",
      "Requirement already satisfied: PyWavelets>=1.1.1 in c:\\users\\shubh\\.pyenv\\pyenv-win\\versions\\3.7.9\\lib\\site-packages (from scikit-image) (1.3.0)\n",
      "Requirement already satisfied: pyparsing>=2.0.2 in c:\\users\\shubh\\.pyenv\\pyenv-win\\versions\\3.7.9\\lib\\site-packages (from packaging>=20.0->scikit-image) (2.4.7)\n"
     ]
    },
    {
     "name": "stderr",
     "output_type": "stream",
     "text": [
      "WARNING: You are using pip version 21.3; however, version 22.3 is available.\n",
      "You should consider upgrading via the 'c:\\users\\shubh\\.pyenv\\pyenv-win\\versions\\3.7.9\\python.exe -m pip install --upgrade pip' command.\n"
     ]
    },
    {
     "name": "stdout",
     "output_type": "stream",
     "text": [
      "Requirement already satisfied: shopee_crawler in c:\\users\\shubh\\.pyenv\\pyenv-win\\versions\\3.7.9\\lib\\site-packages (0.2.2)\n"
     ]
    },
    {
     "name": "stderr",
     "output_type": "stream",
     "text": [
      "WARNING: You are using pip version 21.3; however, version 22.3 is available.\n",
      "You should consider upgrading via the 'c:\\users\\shubh\\.pyenv\\pyenv-win\\versions\\3.7.9\\python.exe -m pip install --upgrade pip' command.\n",
      "WARNING: You are using pip version 21.3; however, version 22.3 is available.\n",
      "You should consider upgrading via the 'c:\\users\\shubh\\.pyenv\\pyenv-win\\versions\\3.7.9\\python.exe -m pip install --upgrade pip' command.\n"
     ]
    },
    {
     "name": "stdout",
     "output_type": "stream",
     "text": [
      "Requirement already satisfied: torchvision in c:\\users\\shubh\\.pyenv\\pyenv-win\\versions\\3.7.9\\lib\\site-packages (0.13.1)\n",
      "Requirement already satisfied: typing-extensions in c:\\users\\shubh\\.pyenv\\pyenv-win\\versions\\3.7.9\\lib\\site-packages (from torchvision) (3.10.0.2)\n",
      "Requirement already satisfied: pillow!=8.3.*,>=5.3.0 in c:\\users\\shubh\\.pyenv\\pyenv-win\\versions\\3.7.9\\lib\\site-packages (from torchvision) (8.4.0)\n",
      "Requirement already satisfied: torch==1.12.1 in c:\\users\\shubh\\.pyenv\\pyenv-win\\versions\\3.7.9\\lib\\site-packages (from torchvision) (1.12.1)\n",
      "Requirement already satisfied: numpy in c:\\users\\shubh\\.pyenv\\pyenv-win\\versions\\3.7.9\\lib\\site-packages (from torchvision) (1.21.3)\n",
      "Requirement already satisfied: requests in c:\\users\\shubh\\.pyenv\\pyenv-win\\versions\\3.7.9\\lib\\site-packages (from torchvision) (2.27.1)\n",
      "Requirement already satisfied: idna<4,>=2.5 in c:\\users\\shubh\\.pyenv\\pyenv-win\\versions\\3.7.9\\lib\\site-packages (from requests->torchvision) (3.3)\n",
      "Requirement already satisfied: certifi>=2017.4.17 in c:\\users\\shubh\\.pyenv\\pyenv-win\\versions\\3.7.9\\lib\\site-packages (from requests->torchvision) (2021.10.8)\n",
      "Requirement already satisfied: urllib3<1.27,>=1.21.1 in c:\\users\\shubh\\.pyenv\\pyenv-win\\versions\\3.7.9\\lib\\site-packages (from requests->torchvision) (1.26.7)\n",
      "Requirement already satisfied: charset-normalizer~=2.0.0 in c:\\users\\shubh\\.pyenv\\pyenv-win\\versions\\3.7.9\\lib\\site-packages (from requests->torchvision) (2.0.7)\n",
      "Requirement already satisfied: opencv-python in c:\\users\\shubh\\.pyenv\\pyenv-win\\versions\\3.7.9\\lib\\site-packages (4.6.0.66)\n"
     ]
    },
    {
     "name": "stderr",
     "output_type": "stream",
     "text": [
      "WARNING: You are using pip version 21.3; however, version 22.3 is available.\n",
      "You should consider upgrading via the 'c:\\users\\shubh\\.pyenv\\pyenv-win\\versions\\3.7.9\\python.exe -m pip install --upgrade pip' command.\n"
     ]
    },
    {
     "name": "stdout",
     "output_type": "stream",
     "text": [
      "Requirement already satisfied: numpy>=1.14.5 in c:\\users\\shubh\\.pyenv\\pyenv-win\\versions\\3.7.9\\lib\\site-packages (from opencv-python) (1.21.3)\n"
     ]
    }
   ],
   "source": [
    "!pip install scikit-image\n",
    "!pip install shopee_crawler\n",
    "!pip install torchvision\n",
    "!pip install opencv-python"
   ]
  },
  {
   "cell_type": "code",
   "execution_count": 51,
   "id": "7320f4d2",
   "metadata": {},
   "outputs": [],
   "source": [
    "# System\n",
    "import os\n",
    "import sys\n",
    "import json\n",
    "import importlib\n",
    "from tqdm import tqdm\n",
    "\n",
    "# Data\n",
    "import numpy as np\n",
    "import pandas as pd\n",
    "\n",
    "# Visualization\n",
    "import ipywidgets as widgets\n",
    "import matplotlib.pyplot as plt\n",
    "\n",
    "# Custom Modules\n",
    "from scripts import crawler\n",
    "from utils import file_utils, device_utils\n",
    "from model import trainer, dataset, baseline_cnn_1\n",
    "\n",
    "\n",
    "import cv2\n",
    "import torch\n",
    "import torch.nn as nn\n",
    "from torchvision.models import ResNet18_Weights\n",
    "from torchvision import transforms, models, datasets\n",
    "\n",
    "from sklearn.model_selection import KFold, train_test_split, GridSearchCV, cross_val_score"
   ]
  },
  {
   "cell_type": "code",
   "execution_count": 52,
   "id": "77543529",
   "metadata": {},
   "outputs": [
    {
     "data": {
      "text/plain": [
       "<module 'model.baseline_cnn_1' from 'C:\\\\Users\\\\shubh\\\\Desktop\\\\NUS\\\\Semester Two\\\\Neural Networks I\\\\cs5242-project\\\\model\\\\baseline_cnn_1.py'>"
      ]
     },
     "execution_count": 52,
     "metadata": {},
     "output_type": "execute_result"
    }
   ],
   "source": [
    "# Can use this to reload file when editing for faster changes (Will remove when finally submitting)\n",
    "importlib.reload(baseline_cnn_1)"
   ]
  },
  {
   "cell_type": "markdown",
   "id": "778b26a1",
   "metadata": {},
   "source": [
    "## Data Load"
   ]
  },
  {
   "cell_type": "code",
   "execution_count": 7,
   "id": "2f858a5f",
   "metadata": {},
   "outputs": [],
   "source": [
    "image_dir = 'data/images'"
   ]
  },
  {
   "cell_type": "code",
   "execution_count": 8,
   "id": "c924a8a6",
   "metadata": {},
   "outputs": [
    {
     "name": "stdout",
     "output_type": "stream",
     "text": [
      "Images already exist at: data/images\n"
     ]
    }
   ],
   "source": [
    "if(file_utils.check_images_dir()):\n",
    "    print(f'Images already exist at: {file_utils.images}')\n",
    "elif(file_utils.check_tar_exists()):\n",
    "    print(f'Images not yet extracted')\n",
    "    print(f'Image zip exists at: {file_utils.images_zip}')\n",
    "    file_utils.extract_tar()\n",
    "else:\n",
    "    print(f'Images need to be downloaded')\n",
    "    for c in category_urls:\n",
    "        get_category_data('data', c)\n",
    "    download_images('data')"
   ]
  },
  {
   "cell_type": "markdown",
   "id": "467a865f",
   "metadata": {},
   "source": [
    "## Note: To be in accordance with other folders, changes to make:\n",
    "- Add \"-cat\" to Women's Apparel directory after unzipping (Maybe we handle when we're zipping itself? Otherwise we can add a condition for this in the dataloader too)"
   ]
  },
  {
   "cell_type": "markdown",
   "id": "b887334e",
   "metadata": {},
   "source": [
    "## Dataset"
   ]
  },
  {
   "cell_type": "code",
   "execution_count": 9,
   "id": "d7a686c7",
   "metadata": {},
   "outputs": [],
   "source": [
    "data = dataset.DataSet(max_num_img=300)"
   ]
  },
  {
   "cell_type": "code",
   "execution_count": 10,
   "id": "aa395e78",
   "metadata": {
    "scrolled": false
   },
   "outputs": [
    {
     "data": {
      "text/plain": [
       "<BarContainer object of 24 artists>"
      ]
     },
     "execution_count": 10,
     "metadata": {},
     "output_type": "execute_result"
    },
    {
     "data": {
      "image/png": "[encoded data removed]",
      "text/plain": [
       "<Figure size 360x576 with 1 Axes>"
      ]
     },
     "metadata": {
      "needs_background": "light"
     },
     "output_type": "display_data"
    }
   ],
   "source": [
    "cats, items = zip(*data.image_count_per_category().items())\n",
    "fig, ax = plt.subplots(figsize=(5, 8))\n",
    "ax.barh(cats, items)"
   ]
  },
  {
   "cell_type": "code",
   "execution_count": 11,
   "id": "712aabfd",
   "metadata": {},
   "outputs": [
    {
     "name": "stderr",
     "output_type": "stream",
     "text": [
      "100%|████████████████████████████████████████████████████████████████████████████████████████████| 300/300 [00:00<00:00, 346.95it/s]\n",
      "100%|████████████████████████████████████████████████████████████████████████████████████████████| 300/300 [00:00<00:00, 359.06it/s]\n",
      "100%|████████████████████████████████████████████████████████████████████████████████████████████| 300/300 [00:00<00:00, 356.03it/s]\n",
      "100%|████████████████████████████████████████████████████████████████████████████████████████████| 300/300 [00:00<00:00, 331.45it/s]\n",
      "100%|████████████████████████████████████████████████████████████████████████████████████████████| 300/300 [00:00<00:00, 351.13it/s]\n",
      "100%|████████████████████████████████████████████████████████████████████████████████████████████| 300/300 [00:00<00:00, 343.95it/s]\n",
      "100%|████████████████████████████████████████████████████████████████████████████████████████████| 300/300 [00:00<00:00, 304.41it/s]\n",
      "100%|████████████████████████████████████████████████████████████████████████████████████████████| 300/300 [00:00<00:00, 342.02it/s]\n",
      "100%|████████████████████████████████████████████████████████████████████████████████████████████| 300/300 [00:00<00:00, 328.51it/s]\n",
      "100%|████████████████████████████████████████████████████████████████████████████████████████████| 300/300 [00:00<00:00, 315.10it/s]\n",
      "100%|████████████████████████████████████████████████████████████████████████████████████████████| 300/300 [00:00<00:00, 309.52it/s]\n",
      "100%|████████████████████████████████████████████████████████████████████████████████████████████| 300/300 [00:01<00:00, 293.77it/s]\n",
      "100%|████████████████████████████████████████████████████████████████████████████████████████████| 300/300 [00:00<00:00, 333.41it/s]\n",
      "100%|████████████████████████████████████████████████████████████████████████████████████████████| 300/300 [00:00<00:00, 300.81it/s]\n",
      "100%|████████████████████████████████████████████████████████████████████████████████████████████| 300/300 [00:00<00:00, 307.81it/s]\n",
      "100%|████████████████████████████████████████████████████████████████████████████████████████████| 300/300 [00:00<00:00, 319.15it/s]\n",
      "100%|████████████████████████████████████████████████████████████████████████████████████████████| 300/300 [00:01<00:00, 291.24it/s]\n",
      "100%|████████████████████████████████████████████████████████████████████████████████████████████| 300/300 [00:00<00:00, 314.63it/s]\n",
      "100%|████████████████████████████████████████████████████████████████████████████████████████████| 300/300 [00:00<00:00, 302.51it/s]\n",
      "100%|████████████████████████████████████████████████████████████████████████████████████████████| 300/300 [00:00<00:00, 320.93it/s]\n",
      "100%|████████████████████████████████████████████████████████████████████████████████████████████| 300/300 [00:00<00:00, 300.02it/s]\n",
      "100%|████████████████████████████████████████████████████████████████████████████████████████████| 300/300 [00:00<00:00, 314.12it/s]\n",
      "100%|████████████████████████████████████████████████████████████████████████████████████████████| 300/300 [00:00<00:00, 320.48it/s]\n",
      "100%|████████████████████████████████████████████████████████████████████████████████████████████| 300/300 [00:00<00:00, 304.40it/s]\n"
     ]
    }
   ],
   "source": [
    "data.load_all()"
   ]
  },
  {
   "cell_type": "code",
   "execution_count": 12,
   "id": "e05704bd",
   "metadata": {},
   "outputs": [
    {
     "data": {
      "application/vnd.jupyter.widget-view+json": {
       "model_id": "9219c27d3f67414a9343de58f165093e",
       "version_major": 2,
       "version_minor": 0
      },
      "text/plain": [
       "interactive(children=(Dropdown(description='category', options=('Automotive', 'Beauty-Personal-Care', 'Cameras…"
      ]
     },
     "metadata": {},
     "output_type": "display_data"
    }
   ],
   "source": [
    "all_categories = data.categories\n",
    "widgets.interact_manual.opts['manual_name'] = 'Show samples'\n",
    "im = widgets.interact_manual(lambda category: data.plot_samples(category), category=all_categories)"
   ]
  },
  {
   "cell_type": "markdown",
   "id": "bc80f86f",
   "metadata": {},
   "source": [
    "## Model Configurations"
   ]
  },
  {
   "cell_type": "code",
   "execution_count": 45,
   "id": "4ce0bb4c",
   "metadata": {},
   "outputs": [],
   "source": [
    "batch_size = 32\n",
    "num_epoch = 10\n",
    "\n",
    "device = device_utils.get_device()"
   ]
  },
  {
   "cell_type": "markdown",
   "id": "87a14aa7",
   "metadata": {},
   "source": [
    "## Pretrained Model"
   ]
  },
  {
   "cell_type": "code",
   "execution_count": 19,
   "id": "2ce805f5",
   "metadata": {},
   "outputs": [],
   "source": [
    "model = models.resnet18(weights=ResNet18_Weights.DEFAULT)\n",
    "model.to(device)\n",
    "\n",
    "criterion = nn.CrossEntropyLoss()\n",
    "optimizer = torch.optim.Adam(model.parameters(), lr=0.0005)"
   ]
  },
  {
   "cell_type": "code",
   "execution_count": 21,
   "id": "7b65b12c",
   "metadata": {},
   "outputs": [
    {
     "name": "stdout",
     "output_type": "stream",
     "text": [
      "epoch   0 |   100 batches loss: 4.2970\n",
      "epoch   0 |   200 batches loss: 2.9997\n"
     ]
    },
    {
     "ename": "KeyboardInterrupt",
     "evalue": "",
     "output_type": "error",
     "traceback": [
      "\u001b[1;31m---------------------------------------------------------------------------\u001b[0m",
      "\u001b[1;31mKeyboardInterrupt\u001b[0m                         Traceback (most recent call last)",
      "\u001b[1;32m~\\AppData\\Local\\Temp/ipykernel_9136/3058192080.py\u001b[0m in \u001b[0;36m<module>\u001b[1;34m\u001b[0m\n\u001b[0;32m      1\u001b[0m \u001b[0mtrainer\u001b[0m \u001b[1;33m=\u001b[0m \u001b[0mtrainer\u001b[0m\u001b[1;33m.\u001b[0m\u001b[0mTrainer\u001b[0m\u001b[1;33m(\u001b[0m\u001b[0mmodel\u001b[0m\u001b[1;33m,\u001b[0m \u001b[0moptimizer\u001b[0m\u001b[1;33m,\u001b[0m \u001b[0mcriterion\u001b[0m\u001b[1;33m,\u001b[0m \u001b[0mdata\u001b[0m\u001b[1;33m,\u001b[0m \u001b[0mbatch_size\u001b[0m\u001b[1;33m)\u001b[0m\u001b[1;33m\u001b[0m\u001b[1;33m\u001b[0m\u001b[0m\n\u001b[1;32m----> 2\u001b[1;33m \u001b[0mtrainer\u001b[0m\u001b[1;33m.\u001b[0m\u001b[0mrun_train\u001b[0m\u001b[1;33m(\u001b[0m\u001b[0mnum_epoch\u001b[0m\u001b[1;33m)\u001b[0m\u001b[1;33m\u001b[0m\u001b[1;33m\u001b[0m\u001b[0m\n\u001b[0m",
      "\u001b[1;32m~\\Desktop\\NUS\\Semester Two\\Neural Networks I\\cs5242-project\\model\\trainer.py\u001b[0m in \u001b[0;36mrun_train\u001b[1;34m(self, num_epochs)\u001b[0m\n\u001b[0;32m     39\u001b[0m                 \u001b[0my_pred\u001b[0m \u001b[1;33m=\u001b[0m \u001b[0mself\u001b[0m\u001b[1;33m.\u001b[0m\u001b[0mmodel\u001b[0m\u001b[1;33m.\u001b[0m\u001b[0mforward\u001b[0m\u001b[1;33m(\u001b[0m\u001b[0minputs\u001b[0m\u001b[1;33m)\u001b[0m\u001b[1;33m\u001b[0m\u001b[1;33m\u001b[0m\u001b[0m\n\u001b[0;32m     40\u001b[0m                 \u001b[0mloss\u001b[0m \u001b[1;33m=\u001b[0m \u001b[0mself\u001b[0m\u001b[1;33m.\u001b[0m\u001b[0mcriterion\u001b[0m\u001b[1;33m(\u001b[0m\u001b[0my_pred\u001b[0m\u001b[1;33m,\u001b[0m \u001b[0mlabels\u001b[0m\u001b[1;33m)\u001b[0m\u001b[1;33m\u001b[0m\u001b[1;33m\u001b[0m\u001b[0m\n\u001b[1;32m---> 41\u001b[1;33m                 \u001b[0mloss\u001b[0m\u001b[1;33m.\u001b[0m\u001b[0mbackward\u001b[0m\u001b[1;33m(\u001b[0m\u001b[1;33m)\u001b[0m\u001b[1;33m\u001b[0m\u001b[1;33m\u001b[0m\u001b[0m\n\u001b[0m\u001b[0;32m     42\u001b[0m                 \u001b[0mself\u001b[0m\u001b[1;33m.\u001b[0m\u001b[0moptimizer\u001b[0m\u001b[1;33m.\u001b[0m\u001b[0mstep\u001b[0m\u001b[1;33m(\u001b[0m\u001b[1;33m)\u001b[0m\u001b[1;33m\u001b[0m\u001b[1;33m\u001b[0m\u001b[0m\n\u001b[0;32m     43\u001b[0m \u001b[1;33m\u001b[0m\u001b[0m\n",
      "\u001b[1;32mc:\\users\\shubh\\.pyenv\\pyenv-win\\versions\\3.7.9\\lib\\site-packages\\torch\\_tensor.py\u001b[0m in \u001b[0;36mbackward\u001b[1;34m(self, gradient, retain_graph, create_graph, inputs)\u001b[0m\n\u001b[0;32m    394\u001b[0m                 \u001b[0mcreate_graph\u001b[0m\u001b[1;33m=\u001b[0m\u001b[0mcreate_graph\u001b[0m\u001b[1;33m,\u001b[0m\u001b[1;33m\u001b[0m\u001b[1;33m\u001b[0m\u001b[0m\n\u001b[0;32m    395\u001b[0m                 inputs=inputs)\n\u001b[1;32m--> 396\u001b[1;33m         \u001b[0mtorch\u001b[0m\u001b[1;33m.\u001b[0m\u001b[0mautograd\u001b[0m\u001b[1;33m.\u001b[0m\u001b[0mbackward\u001b[0m\u001b[1;33m(\u001b[0m\u001b[0mself\u001b[0m\u001b[1;33m,\u001b[0m \u001b[0mgradient\u001b[0m\u001b[1;33m,\u001b[0m \u001b[0mretain_graph\u001b[0m\u001b[1;33m,\u001b[0m \u001b[0mcreate_graph\u001b[0m\u001b[1;33m,\u001b[0m \u001b[0minputs\u001b[0m\u001b[1;33m=\u001b[0m\u001b[0minputs\u001b[0m\u001b[1;33m)\u001b[0m\u001b[1;33m\u001b[0m\u001b[1;33m\u001b[0m\u001b[0m\n\u001b[0m\u001b[0;32m    397\u001b[0m \u001b[1;33m\u001b[0m\u001b[0m\n\u001b[0;32m    398\u001b[0m     \u001b[1;32mdef\u001b[0m \u001b[0mregister_hook\u001b[0m\u001b[1;33m(\u001b[0m\u001b[0mself\u001b[0m\u001b[1;33m,\u001b[0m \u001b[0mhook\u001b[0m\u001b[1;33m)\u001b[0m\u001b[1;33m:\u001b[0m\u001b[1;33m\u001b[0m\u001b[1;33m\u001b[0m\u001b[0m\n",
      "\u001b[1;32mc:\\users\\shubh\\.pyenv\\pyenv-win\\versions\\3.7.9\\lib\\site-packages\\torch\\autograd\\__init__.py\u001b[0m in \u001b[0;36mbackward\u001b[1;34m(tensors, grad_tensors, retain_graph, create_graph, grad_variables, inputs)\u001b[0m\n\u001b[0;32m    173\u001b[0m     Variable._execution_engine.run_backward(  # Calls into the C++ engine to run the backward pass\n\u001b[0;32m    174\u001b[0m         \u001b[0mtensors\u001b[0m\u001b[1;33m,\u001b[0m \u001b[0mgrad_tensors_\u001b[0m\u001b[1;33m,\u001b[0m \u001b[0mretain_graph\u001b[0m\u001b[1;33m,\u001b[0m \u001b[0mcreate_graph\u001b[0m\u001b[1;33m,\u001b[0m \u001b[0minputs\u001b[0m\u001b[1;33m,\u001b[0m\u001b[1;33m\u001b[0m\u001b[1;33m\u001b[0m\u001b[0m\n\u001b[1;32m--> 175\u001b[1;33m         allow_unreachable=True, accumulate_grad=True)  # Calls into the C++ engine to run the backward pass\n\u001b[0m\u001b[0;32m    176\u001b[0m \u001b[1;33m\u001b[0m\u001b[0m\n\u001b[0;32m    177\u001b[0m def grad(\n",
      "\u001b[1;31mKeyboardInterrupt\u001b[0m: "
     ]
    }
   ],
   "source": [
    "trainer = trainer.Trainer(model, optimizer, criterion, data, batch_size)\n",
    "trainer.run_train(num_epoch)"
   ]
  },
  {
   "cell_type": "code",
   "execution_count": 19,
   "id": "0a5bd004",
   "metadata": {},
   "outputs": [
    {
     "name": "stdout",
     "output_type": "stream",
     "text": [
      "Accuracy of the network on the test images: 29.65277777777778 %\n"
     ]
    }
   ],
   "source": [
    "test_loss, test_acc, incorect_stats = trainer.run_test(trainer.testloader, True)\n",
    "print(f'Accuracy of the network on the test images: {test_acc*100} %')"
   ]
  },
  {
   "cell_type": "code",
   "execution_count": 22,
   "id": "354af512",
   "metadata": {},
   "outputs": [
    {
     "name": "stdout",
     "output_type": "stream",
     "text": [
      "(Health-Wellness, Food-Beverages): 17\n",
      "(Women's-Bags, Men's-Bags): 10\n",
      "(Hobbies-Books, Food-Beverages): 10\n",
      "(Mobile-Gadgets, Computers-Peripherals): 9\n",
      "(Home-Living, Food-Beverages): 8\n",
      "(Toys-Kids-Babies, Kids-Fashion): 8\n",
      "(Women's-Apparel, Kids-Fashion): 8\n",
      "(Cameras-Drones, Home-Appliances): 7\n",
      "(Computers-Peripherals, Men's-Bags): 7\n",
      "(Health-Wellness, Pet-Food-Supplies): 7\n",
      "(Pet-Food-Supplies, Food-Beverages): 7\n",
      "(Automotive, Home-Appliances): 7\n",
      "(Beauty-Personal-Care, Health-Wellness): 7\n",
      "(Travel-Luggage, Women's-Bags): 7\n",
      "(Automotive, Women's-Bags): 7\n",
      "(Home-Appliances, Computers-Peripherals): 7\n",
      "(Home-Living, Computers-Peripherals): 7\n",
      "(Automotive, Home-Living): 7\n",
      "(Computers-Peripherals, Mobile-Gadgets): 7\n",
      "(Travel-Luggage, Men's-Bags): 6\n",
      "(Men's-Bags, Women's-Bags): 6\n",
      "(Jewellery-Accessories, Travel-Luggage): 6\n",
      "(Home-Living, Jewellery-Accessories): 6\n",
      "(Women's-Shoes, Watches): 6\n",
      "(Women's-Shoes, Men's-Shoes): 6\n"
     ]
    }
   ],
   "source": [
    "from collections import Counter\n",
    "\n",
    "counts = Counter(incorect_stats).most_common(25)\n",
    "for k, v in counts:\n",
    "    print(f\"({all_categories[k[0]]}, {all_categories[k[1]]}): {v}\")"
   ]
  },
  {
   "cell_type": "markdown",
   "id": "4d192805",
   "metadata": {},
   "source": [
    "## CNN Baseline Model"
   ]
  },
  {
   "cell_type": "code",
   "execution_count": 53,
   "id": "7e3ef77b",
   "metadata": {},
   "outputs": [],
   "source": [
    "baseline_cnn_1_model = baseline_cnn_1.BaselineCNN1(len(data.categories))\n",
    "baseline_cnn_1_model.to(device)\n",
    "\n",
    "criterion = nn.CrossEntropyLoss()\n",
    "optimizer = torch.optim.Adam(baseline_cnn_1_model.parameters(), lr=0.0005)"
   ]
  },
  {
   "cell_type": "code",
   "execution_count": 54,
   "id": "d89ba372",
   "metadata": {},
   "outputs": [
    {
     "name": "stdout",
     "output_type": "stream",
     "text": [
      "epoch   0 |   100 batches loss: 3.1785\n",
      "[Epoch   0]: Training loss: 3.162832 | Accuracy: 0.051587\n",
      "[Epoch   0]: Validation loss: 3.092077 | Accuracy: 0.072222\n",
      "epoch   1 |   100 batches loss: 3.0838\n",
      "[Epoch   1]: Training loss: 3.075775 | Accuracy: 0.072421\n",
      "[Epoch   1]: Validation loss: 3.064136 | Accuracy: 0.083333\n",
      "epoch   2 |   100 batches loss: 3.0609\n",
      "[Epoch   2]: Training loss: 3.061739 | Accuracy: 0.075794\n",
      "[Epoch   2]: Validation loss: 3.032888 | Accuracy: 0.075000\n",
      "epoch   3 |   100 batches loss: 3.0425\n",
      "[Epoch   3]: Training loss: 3.046361 | Accuracy: 0.082540\n",
      "[Epoch   3]: Validation loss: 3.041433 | Accuracy: 0.088889\n",
      "epoch   4 |   100 batches loss: 3.0328\n",
      "[Epoch   4]: Training loss: 3.033090 | Accuracy: 0.089683\n",
      "[Epoch   4]: Validation loss: 3.024935 | Accuracy: 0.104167\n",
      "epoch   5 |   100 batches loss: 3.0035\n",
      "[Epoch   5]: Training loss: 3.007412 | Accuracy: 0.098214\n",
      "[Epoch   5]: Validation loss: 3.003448 | Accuracy: 0.104167\n",
      "epoch   6 |   100 batches loss: 2.9621\n",
      "[Epoch   6]: Training loss: 2.956509 | Accuracy: 0.110516\n",
      "[Epoch   6]: Validation loss: 2.918033 | Accuracy: 0.130556\n"
     ]
    },
    {
     "ename": "KeyboardInterrupt",
     "evalue": "",
     "output_type": "error",
     "traceback": [
      "\u001b[1;31m---------------------------------------------------------------------------\u001b[0m",
      "\u001b[1;31mKeyboardInterrupt\u001b[0m                         Traceback (most recent call last)",
      "\u001b[1;32m~\\AppData\\Local\\Temp/ipykernel_9136/1919556595.py\u001b[0m in \u001b[0;36m<module>\u001b[1;34m\u001b[0m\n\u001b[0;32m      1\u001b[0m \u001b[0mtrainer\u001b[0m \u001b[1;33m=\u001b[0m \u001b[0mtrainer\u001b[0m\u001b[1;33m.\u001b[0m\u001b[0mTrainer\u001b[0m\u001b[1;33m(\u001b[0m\u001b[0mbaseline_cnn_1_model\u001b[0m\u001b[1;33m,\u001b[0m \u001b[0moptimizer\u001b[0m\u001b[1;33m,\u001b[0m \u001b[0mcriterion\u001b[0m\u001b[1;33m,\u001b[0m \u001b[0mdata\u001b[0m\u001b[1;33m,\u001b[0m \u001b[0mbatch_size\u001b[0m\u001b[1;33m)\u001b[0m\u001b[1;33m\u001b[0m\u001b[1;33m\u001b[0m\u001b[0m\n\u001b[1;32m----> 2\u001b[1;33m \u001b[0mtrainer\u001b[0m\u001b[1;33m.\u001b[0m\u001b[0mrun_train\u001b[0m\u001b[1;33m(\u001b[0m\u001b[0mnum_epoch\u001b[0m\u001b[1;33m)\u001b[0m\u001b[1;33m\u001b[0m\u001b[1;33m\u001b[0m\u001b[0m\n\u001b[0m",
      "\u001b[1;32m~\\Desktop\\NUS\\Semester Two\\Neural Networks I\\cs5242-project\\model\\trainer.py\u001b[0m in \u001b[0;36mrun_train\u001b[1;34m(self, num_epochs)\u001b[0m\n\u001b[0;32m     39\u001b[0m                 \u001b[0my_pred\u001b[0m \u001b[1;33m=\u001b[0m \u001b[0mself\u001b[0m\u001b[1;33m.\u001b[0m\u001b[0mmodel\u001b[0m\u001b[1;33m.\u001b[0m\u001b[0mforward\u001b[0m\u001b[1;33m(\u001b[0m\u001b[0minputs\u001b[0m\u001b[1;33m)\u001b[0m\u001b[1;33m\u001b[0m\u001b[1;33m\u001b[0m\u001b[0m\n\u001b[0;32m     40\u001b[0m                 \u001b[0mloss\u001b[0m \u001b[1;33m=\u001b[0m \u001b[0mself\u001b[0m\u001b[1;33m.\u001b[0m\u001b[0mcriterion\u001b[0m\u001b[1;33m(\u001b[0m\u001b[0my_pred\u001b[0m\u001b[1;33m,\u001b[0m \u001b[0mlabels\u001b[0m\u001b[1;33m)\u001b[0m\u001b[1;33m\u001b[0m\u001b[1;33m\u001b[0m\u001b[0m\n\u001b[1;32m---> 41\u001b[1;33m                 \u001b[0mloss\u001b[0m\u001b[1;33m.\u001b[0m\u001b[0mbackward\u001b[0m\u001b[1;33m(\u001b[0m\u001b[1;33m)\u001b[0m\u001b[1;33m\u001b[0m\u001b[1;33m\u001b[0m\u001b[0m\n\u001b[0m\u001b[0;32m     42\u001b[0m                 \u001b[0mself\u001b[0m\u001b[1;33m.\u001b[0m\u001b[0moptimizer\u001b[0m\u001b[1;33m.\u001b[0m\u001b[0mstep\u001b[0m\u001b[1;33m(\u001b[0m\u001b[1;33m)\u001b[0m\u001b[1;33m\u001b[0m\u001b[1;33m\u001b[0m\u001b[0m\n\u001b[0;32m     43\u001b[0m \u001b[1;33m\u001b[0m\u001b[0m\n",
      "\u001b[1;32mc:\\users\\shubh\\.pyenv\\pyenv-win\\versions\\3.7.9\\lib\\site-packages\\torch\\_tensor.py\u001b[0m in \u001b[0;36mbackward\u001b[1;34m(self, gradient, retain_graph, create_graph, inputs)\u001b[0m\n\u001b[0;32m    394\u001b[0m                 \u001b[0mcreate_graph\u001b[0m\u001b[1;33m=\u001b[0m\u001b[0mcreate_graph\u001b[0m\u001b[1;33m,\u001b[0m\u001b[1;33m\u001b[0m\u001b[1;33m\u001b[0m\u001b[0m\n\u001b[0;32m    395\u001b[0m                 inputs=inputs)\n\u001b[1;32m--> 396\u001b[1;33m         \u001b[0mtorch\u001b[0m\u001b[1;33m.\u001b[0m\u001b[0mautograd\u001b[0m\u001b[1;33m.\u001b[0m\u001b[0mbackward\u001b[0m\u001b[1;33m(\u001b[0m\u001b[0mself\u001b[0m\u001b[1;33m,\u001b[0m \u001b[0mgradient\u001b[0m\u001b[1;33m,\u001b[0m \u001b[0mretain_graph\u001b[0m\u001b[1;33m,\u001b[0m \u001b[0mcreate_graph\u001b[0m\u001b[1;33m,\u001b[0m \u001b[0minputs\u001b[0m\u001b[1;33m=\u001b[0m\u001b[0minputs\u001b[0m\u001b[1;33m)\u001b[0m\u001b[1;33m\u001b[0m\u001b[1;33m\u001b[0m\u001b[0m\n\u001b[0m\u001b[0;32m    397\u001b[0m \u001b[1;33m\u001b[0m\u001b[0m\n\u001b[0;32m    398\u001b[0m     \u001b[1;32mdef\u001b[0m \u001b[0mregister_hook\u001b[0m\u001b[1;33m(\u001b[0m\u001b[0mself\u001b[0m\u001b[1;33m,\u001b[0m \u001b[0mhook\u001b[0m\u001b[1;33m)\u001b[0m\u001b[1;33m:\u001b[0m\u001b[1;33m\u001b[0m\u001b[1;33m\u001b[0m\u001b[0m\n",
      "\u001b[1;32mc:\\users\\shubh\\.pyenv\\pyenv-win\\versions\\3.7.9\\lib\\site-packages\\torch\\autograd\\__init__.py\u001b[0m in \u001b[0;36mbackward\u001b[1;34m(tensors, grad_tensors, retain_graph, create_graph, grad_variables, inputs)\u001b[0m\n\u001b[0;32m    173\u001b[0m     Variable._execution_engine.run_backward(  # Calls into the C++ engine to run the backward pass\n\u001b[0;32m    174\u001b[0m         \u001b[0mtensors\u001b[0m\u001b[1;33m,\u001b[0m \u001b[0mgrad_tensors_\u001b[0m\u001b[1;33m,\u001b[0m \u001b[0mretain_graph\u001b[0m\u001b[1;33m,\u001b[0m \u001b[0mcreate_graph\u001b[0m\u001b[1;33m,\u001b[0m \u001b[0minputs\u001b[0m\u001b[1;33m,\u001b[0m\u001b[1;33m\u001b[0m\u001b[1;33m\u001b[0m\u001b[0m\n\u001b[1;32m--> 175\u001b[1;33m         allow_unreachable=True, accumulate_grad=True)  # Calls into the C++ engine to run the backward pass\n\u001b[0m\u001b[0;32m    176\u001b[0m \u001b[1;33m\u001b[0m\u001b[0m\n\u001b[0;32m    177\u001b[0m def grad(\n",
      "\u001b[1;31mKeyboardInterrupt\u001b[0m: "
     ]
    }
   ],
   "source": [
    "trainer = trainer.Trainer(baseline_cnn_1_model, optimizer, criterion, data, batch_size)\n",
    "trainer.run_train(num_epoch)"
   ]
  }
 ],
 "metadata": {
  "kernelspec": {
   "display_name": "Python 3 (ipykernel)",
   "language": "python",
   "name": "python3"
  },
  "language_info": {
   "codemirror_mode": {
    "name": "ipython",
    "version": 3
   },
   "file_extension": ".py",
   "mimetype": "text/x-python",
   "name": "python",
   "nbconvert_exporter": "python",
   "pygments_lexer": "ipython3",
   "version": "3.7.9"
  },
  "vscode": {
   "interpreter": {
    "hash": "d88d51e5feeef7cdbc38f54879bc8b14b595db7785db4e3b195d2593607adbb2"
   }
  }
 },
 "nbformat": 4,
 "nbformat_minor": 5
}
