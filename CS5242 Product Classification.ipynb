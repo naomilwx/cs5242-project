{
 "cells": [
  {
   "cell_type": "markdown",
   "id": "c53e22fb",
   "metadata": {},
   "source": [
    "# Shopee Product Classification "
   ]
  },
  {
   "cell_type": "markdown",
   "id": "e00b4f80",
   "metadata": {},
   "source": [
    "Notebook to experiment over several Neural Networks over the product dataset obtained from Shopee and evaluate results."
   ]
  },
  {
   "cell_type": "markdown",
   "id": "ceaa5624",
   "metadata": {},
   "source": [
    "The following models are evaluated as part of this notebook:\n",
    "\n",
    "Baseline 1: CNN <br>\n",
    "Baseline 2: CNN with augmented layers <br>\n",
    "Improvement 1: Adding RNN <br>\n",
    "Improvement 2: Adding attention"
   ]
  },
  {
   "cell_type": "markdown",
   "id": "70e52a97",
   "metadata": {},
   "source": [
    "## Imports and Config"
   ]
  },
  {
   "cell_type": "code",
   "execution_count": null,
   "id": "97c7e4bf",
   "metadata": {
    "scrolled": true
   },
   "outputs": [],
   "source": [
    "!pip install scikit-image\n",
    "!pip install shopee_crawler\n",
    "!pip install torchvision\n",
    "!pip install opencv-python"
   ]
  },
  {
   "cell_type": "code",
   "execution_count": 1,
   "id": "7320f4d2",
   "metadata": {},
   "outputs": [
    {
     "data": {
      "text/plain": [
       "<torch._C.Generator at 0x1147746b0>"
      ]
     },
     "execution_count": 1,
     "metadata": {},
     "output_type": "execute_result"
    }
   ],
   "source": [
    "# System\n",
    "import importlib\n",
    "\n",
    "# Visualization\n",
    "import ipywidgets as widgets\n",
    "import matplotlib.pyplot as plt\n",
    "\n",
    "# Custom Modules\n",
    "from model import trainer, dataset, baseline_cnn_1\n",
    "\n",
    "\n",
    "import torch\n",
    "import torch.nn as nn\n",
    "\n",
    "torch.manual_seed(42)"
   ]
  },
  {
   "cell_type": "markdown",
   "id": "b887334e",
   "metadata": {},
   "source": [
    "## Dataset"
   ]
  },
  {
   "cell_type": "code",
   "execution_count": 3,
   "id": "d7a686c7",
   "metadata": {},
   "outputs": [],
   "source": [
    "data = dataset.DataSet(max_num_img=3000, crop=0.75, path='data/selected_images/')"
   ]
  },
  {
   "cell_type": "code",
   "execution_count": 4,
   "id": "712aabfd",
   "metadata": {},
   "outputs": [
    {
     "name": "stderr",
     "output_type": "stream",
     "text": [
      "100%|██████████| 500/500 [00:02<00:00, 244.65it/s]\n",
      "100%|██████████| 500/500 [00:02<00:00, 219.94it/s]\n",
      "100%|██████████| 500/500 [00:02<00:00, 246.10it/s]\n",
      "100%|██████████| 500/500 [00:02<00:00, 240.50it/s]\n",
      "100%|██████████| 500/500 [00:02<00:00, 213.82it/s]\n",
      "100%|██████████| 500/500 [00:02<00:00, 225.39it/s]\n",
      "100%|██████████| 500/500 [00:02<00:00, 245.81it/s]\n",
      "100%|██████████| 501/501 [00:01<00:00, 260.31it/s]\n",
      "100%|██████████| 500/500 [00:02<00:00, 182.85it/s]\n"
     ]
    }
   ],
   "source": [
    "data.load_all()"
   ]
  },
  {
   "cell_type": "markdown",
   "id": "4d192805",
   "metadata": {},
   "source": [
    "## CNN Baseline Model"
   ]
  },
  {
   "cell_type": "code",
   "execution_count": 20,
   "id": "7e3ef77b",
   "metadata": {},
   "outputs": [],
   "source": [
    "batch_size = 32\n",
    "num_epoch = 30\n",
    "\n",
    "baseline_cnn_1_model = baseline_cnn_1.BaselineCNN1(len(data.categories))\n",
    "\n",
    "criterion = nn.CrossEntropyLoss()\n",
    "optimizer = torch.optim.Adam(baseline_cnn_1_model.parameters(), lr=5e-4)"
   ]
  },
  {
   "cell_type": "code",
   "execution_count": 21,
   "id": "d89ba372",
   "metadata": {},
   "outputs": [
    {
     "name": "stdout",
     "output_type": "stream",
     "text": [
      "[Epoch   0]: Training loss: 1.749399 | Accuracy: 0.373651\n",
      "[Epoch   0]: Validation loss: 1.753244 | Accuracy: 0.368889 | Within 3: 0.697778\n",
      "[Epoch   1]: Training loss: 1.580246 | Accuracy: 0.446032\n",
      "[Epoch   1]: Validation loss: 1.652975 | Accuracy: 0.402222 | Within 3: 0.784444\n",
      "[Epoch   2]: Training loss: 1.458521 | Accuracy: 0.501905\n",
      "[Epoch   2]: Validation loss: 1.654066 | Accuracy: 0.444444 | Within 3: 0.777778\n",
      "[Epoch   3]: Training loss: 1.409372 | Accuracy: 0.515556\n",
      "[Epoch   3]: Validation loss: 1.477753 | Accuracy: 0.471111 | Within 3: 0.797778\n",
      "[Epoch   4]: Training loss: 1.325175 | Accuracy: 0.555873\n",
      "[Epoch   4]: Validation loss: 1.599549 | Accuracy: 0.453333 | Within 3: 0.746667\n",
      "[Epoch   5]: Training loss: 1.271877 | Accuracy: 0.572063\n",
      "[Epoch   5]: Validation loss: 2.488706 | Accuracy: 0.293333 | Within 3: 0.597778\n",
      "[Epoch   6]: Training loss: 1.236835 | Accuracy: 0.581587\n",
      "[Epoch   6]: Validation loss: 1.580380 | Accuracy: 0.453333 | Within 3: 0.773333\n",
      "[Epoch   7]: Training loss: 1.191168 | Accuracy: 0.598413\n",
      "[Epoch   7]: Validation loss: 1.644247 | Accuracy: 0.444444 | Within 3: 0.786667\n",
      "[Epoch   8]: Training loss: 1.120629 | Accuracy: 0.615556\n",
      "[Epoch   8]: Validation loss: 1.355564 | Accuracy: 0.548889 | Within 3: 0.804444\n",
      "[Epoch   9]: Training loss: 1.070594 | Accuracy: 0.635873\n",
      "[Epoch   9]: Validation loss: 1.312525 | Accuracy: 0.553333 | Within 3: 0.851111\n",
      "[Epoch  10]: Training loss: 1.045686 | Accuracy: 0.647937\n",
      "[Epoch  10]: Validation loss: 1.477170 | Accuracy: 0.562222 | Within 3: 0.837778\n",
      "[Epoch  11]: Training loss: 0.994833 | Accuracy: 0.661270\n",
      "[Epoch  11]: Validation loss: 1.381732 | Accuracy: 0.497778 | Within 3: 0.795556\n",
      "[Epoch  12]: Training loss: 0.922809 | Accuracy: 0.690794\n",
      "[Epoch  12]: Validation loss: 1.251162 | Accuracy: 0.597778 | Within 3: 0.848889\n",
      "[Epoch  13]: Training loss: 0.902132 | Accuracy: 0.705714\n",
      "[Epoch  13]: Validation loss: 1.395734 | Accuracy: 0.597778 | Within 3: 0.860000\n",
      "[Epoch  14]: Training loss: 0.846952 | Accuracy: 0.709841\n",
      "[Epoch  14]: Validation loss: 1.431061 | Accuracy: 0.524444 | Within 3: 0.786667\n",
      "[Epoch  15]: Training loss: 0.773392 | Accuracy: 0.741905\n",
      "[Epoch  15]: Validation loss: 1.488806 | Accuracy: 0.517778 | Within 3: 0.822222\n",
      "[Epoch  16]: Training loss: 0.751521 | Accuracy: 0.743492\n",
      "[Epoch  16]: Validation loss: 1.179104 | Accuracy: 0.588889 | Within 3: 0.831111\n",
      "[Epoch  17]: Training loss: 0.657665 | Accuracy: 0.781587\n",
      "[Epoch  17]: Validation loss: 1.149574 | Accuracy: 0.617778 | Within 3: 0.851111\n",
      "[Epoch  18]: Training loss: 0.620087 | Accuracy: 0.796825\n",
      "[Epoch  18]: Validation loss: 1.505000 | Accuracy: 0.500000 | Within 3: 0.822222\n",
      "[Epoch  19]: Training loss: 0.561633 | Accuracy: 0.811746\n",
      "[Epoch  19]: Validation loss: 1.475761 | Accuracy: 0.580000 | Within 3: 0.848889\n",
      "[Epoch  20]: Training loss: 0.511673 | Accuracy: 0.839683\n",
      "[Epoch  20]: Validation loss: 1.145322 | Accuracy: 0.626667 | Within 3: 0.877778\n",
      "[Epoch  21]: Training loss: 0.438490 | Accuracy: 0.873016\n",
      "[Epoch  21]: Validation loss: 1.362438 | Accuracy: 0.613333 | Within 3: 0.842222\n",
      "[Epoch  22]: Training loss: 0.390613 | Accuracy: 0.885397\n",
      "[Epoch  22]: Validation loss: 1.317078 | Accuracy: 0.620000 | Within 3: 0.888889\n",
      "[Epoch  23]: Training loss: 0.338527 | Accuracy: 0.907302\n",
      "[Epoch  23]: Validation loss: 1.316308 | Accuracy: 0.633333 | Within 3: 0.873333\n",
      "[Epoch  24]: Training loss: 0.279832 | Accuracy: 0.928254\n",
      "[Epoch  24]: Validation loss: 1.354197 | Accuracy: 0.633333 | Within 3: 0.866667\n",
      "[Epoch  25]: Training loss: 0.230588 | Accuracy: 0.942222\n",
      "[Epoch  25]: Validation loss: 1.430572 | Accuracy: 0.624444 | Within 3: 0.857778\n",
      "[Epoch  26]: Training loss: 0.198394 | Accuracy: 0.950794\n",
      "[Epoch  26]: Validation loss: 1.406457 | Accuracy: 0.622222 | Within 3: 0.860000\n",
      "[Epoch  27]: Training loss: 0.152834 | Accuracy: 0.967937\n",
      "[Epoch  27]: Validation loss: 1.135522 | Accuracy: 0.635556 | Within 3: 0.877778\n",
      "[Epoch  28]: Training loss: 0.112630 | Accuracy: 0.983175\n",
      "[Epoch  28]: Validation loss: 1.472578 | Accuracy: 0.613333 | Within 3: 0.857778\n",
      "[Epoch  29]: Training loss: 0.140940 | Accuracy: 0.969206\n",
      "[Epoch  29]: Validation loss: 1.333245 | Accuracy: 0.626667 | Within 3: 0.864444\n",
      "Best epoch:  27\n"
     ]
    }
   ],
   "source": [
    "mtrainer = trainer.Trainer(baseline_cnn_1_model, optimizer, criterion, data, batch_size)\n",
    "mtrainer.run_train(30)"
   ]
  },
  {
   "cell_type": "code",
   "execution_count": 22,
   "id": "d8c903eb",
   "metadata": {},
   "outputs": [
    {
     "name": "stdout",
     "output_type": "stream",
     "text": [
      "Accuracy of the network on the test images: 65.8157602663707 %\n"
     ]
    }
   ],
   "source": [
    "test_loss, test_acc, top_k, incorect_stats = mtrainer.run_test(mtrainer.testloader, 3, True)\n",
    "print(f'Accuracy of the network on the test images: {test_acc*100} %')\n",
    "# print(f'Accuracy within top 3 results: {top_k*100} %')\n",
    "\n",
    "# from collections import Counter\n",
    "\n",
    "# counts = Counter(incorect_stats).most_common(25)\n",
    "# for k, v in counts:\n",
    "#     print(f\"({data.categories[k[0]]}, {data.categories[k[1]]}): {v}\")"
   ]
  },
  {
   "cell_type": "markdown",
   "id": "e8e4bfec",
   "metadata": {},
   "source": [
    "## CCN Model with additional convolutional block"
   ]
  },
  {
   "cell_type": "code",
   "execution_count": 23,
   "id": "860fe74c",
   "metadata": {},
   "outputs": [],
   "source": [
    "from model import deeper_cnn\n",
    "\n",
    "deeper_model = deeper_cnn.DeeperCNN(len(data.categories))\n",
    "\n",
    "criterion = nn.CrossEntropyLoss()\n",
    "optimizer = torch.optim.Adam(deeper_model.parameters(), lr=5e-4)"
   ]
  },
  {
   "cell_type": "code",
   "execution_count": 24,
   "id": "22bec256",
   "metadata": {},
   "outputs": [
    {
     "name": "stdout",
     "output_type": "stream",
     "text": [
      "[Epoch   0]: Training loss: 1.709312 | Accuracy: 0.401270\n",
      "[Epoch   0]: Validation loss: 1.825302 | Accuracy: 0.413333 | Within 3: 0.717778\n",
      "[Epoch   1]: Training loss: 1.469937 | Accuracy: 0.487937\n",
      "[Epoch   1]: Validation loss: 1.711448 | Accuracy: 0.435556 | Within 3: 0.751111\n",
      "[Epoch   2]: Training loss: 1.384629 | Accuracy: 0.521587\n",
      "[Epoch   2]: Validation loss: 1.603133 | Accuracy: 0.500000 | Within 3: 0.800000\n",
      "[Epoch   3]: Training loss: 1.272197 | Accuracy: 0.557778\n",
      "[Epoch   3]: Validation loss: 1.531367 | Accuracy: 0.448889 | Within 3: 0.775556\n",
      "[Epoch   4]: Training loss: 1.190783 | Accuracy: 0.587302\n",
      "[Epoch   4]: Validation loss: 1.737269 | Accuracy: 0.473333 | Within 3: 0.731111\n",
      "[Epoch   5]: Training loss: 1.131053 | Accuracy: 0.613651\n",
      "[Epoch   5]: Validation loss: 1.513844 | Accuracy: 0.544444 | Within 3: 0.835556\n",
      "[Epoch   6]: Training loss: 1.048434 | Accuracy: 0.638730\n",
      "[Epoch   6]: Validation loss: 1.435403 | Accuracy: 0.540000 | Within 3: 0.837778\n",
      "[Epoch   7]: Training loss: 0.955472 | Accuracy: 0.670159\n",
      "[Epoch   7]: Validation loss: 1.295692 | Accuracy: 0.597778 | Within 3: 0.851111\n",
      "[Epoch   8]: Training loss: 0.904848 | Accuracy: 0.694921\n",
      "[Epoch   8]: Validation loss: 1.488856 | Accuracy: 0.531111 | Within 3: 0.800000\n",
      "[Epoch   9]: Training loss: 0.831165 | Accuracy: 0.723810\n",
      "[Epoch   9]: Validation loss: 1.203128 | Accuracy: 0.575556 | Within 3: 0.880000\n",
      "[Epoch  10]: Training loss: 0.719765 | Accuracy: 0.763175\n",
      "[Epoch  10]: Validation loss: 1.344554 | Accuracy: 0.602222 | Within 3: 0.828889\n",
      "[Epoch  11]: Training loss: 0.639027 | Accuracy: 0.791429\n",
      "[Epoch  11]: Validation loss: 1.269948 | Accuracy: 0.622222 | Within 3: 0.864444\n",
      "[Epoch  12]: Training loss: 0.564667 | Accuracy: 0.816190\n",
      "[Epoch  12]: Validation loss: 1.351116 | Accuracy: 0.597778 | Within 3: 0.844444\n",
      "[Epoch  13]: Training loss: 0.447641 | Accuracy: 0.855238\n",
      "[Epoch  13]: Validation loss: 1.131784 | Accuracy: 0.622222 | Within 3: 0.873333\n",
      "[Epoch  14]: Training loss: 0.346741 | Accuracy: 0.896190\n",
      "[Epoch  14]: Validation loss: 1.269676 | Accuracy: 0.633333 | Within 3: 0.866667\n",
      "[Epoch  15]: Training loss: 0.278753 | Accuracy: 0.918730\n",
      "[Epoch  15]: Validation loss: 1.397990 | Accuracy: 0.606667 | Within 3: 0.862222\n",
      "[Epoch  16]: Training loss: 0.212868 | Accuracy: 0.944127\n",
      "[Epoch  16]: Validation loss: 1.356003 | Accuracy: 0.608889 | Within 3: 0.866667\n",
      "[Epoch  17]: Training loss: 0.156947 | Accuracy: 0.957460\n",
      "[Epoch  17]: Validation loss: 1.322990 | Accuracy: 0.644444 | Within 3: 0.848889\n",
      "[Epoch  18]: Training loss: 0.114814 | Accuracy: 0.973651\n",
      "[Epoch  18]: Validation loss: 1.326565 | Accuracy: 0.648889 | Within 3: 0.893333\n",
      "[Epoch  19]: Training loss: 0.077838 | Accuracy: 0.982222\n",
      "[Epoch  19]: Validation loss: 1.265296 | Accuracy: 0.631111 | Within 3: 0.866667\n",
      "[Epoch  20]: Training loss: 0.106315 | Accuracy: 0.972698\n",
      "[Epoch  20]: Validation loss: 1.317856 | Accuracy: 0.671111 | Within 3: 0.875556\n",
      "[Epoch  21]: Training loss: 0.094758 | Accuracy: 0.977778\n",
      "[Epoch  21]: Validation loss: 1.197609 | Accuracy: 0.675556 | Within 3: 0.897778\n",
      "[Epoch  22]: Training loss: 0.077800 | Accuracy: 0.980635\n",
      "[Epoch  22]: Validation loss: 1.556327 | Accuracy: 0.644444 | Within 3: 0.866667\n",
      "[Epoch  23]: Training loss: 0.061311 | Accuracy: 0.986667\n",
      "[Epoch  23]: Validation loss: 1.468232 | Accuracy: 0.682222 | Within 3: 0.875556\n",
      "[Epoch  24]: Training loss: 0.053832 | Accuracy: 0.987619\n",
      "[Epoch  24]: Validation loss: 1.258542 | Accuracy: 0.666667 | Within 3: 0.895556\n",
      "[Epoch  25]: Training loss: 0.075633 | Accuracy: 0.981587\n",
      "[Epoch  25]: Validation loss: 1.669806 | Accuracy: 0.626667 | Within 3: 0.844444\n",
      "[Epoch  26]: Training loss: 0.054946 | Accuracy: 0.988571\n",
      "[Epoch  26]: Validation loss: 1.255341 | Accuracy: 0.668889 | Within 3: 0.891111\n",
      "[Epoch  27]: Training loss: 0.028416 | Accuracy: 0.995238\n",
      "[Epoch  27]: Validation loss: 1.623777 | Accuracy: 0.668889 | Within 3: 0.895556\n",
      "[Epoch  28]: Training loss: 0.017600 | Accuracy: 0.997778\n",
      "[Epoch  28]: Validation loss: 1.389581 | Accuracy: 0.711111 | Within 3: 0.893333\n",
      "[Epoch  29]: Training loss: 0.016199 | Accuracy: 0.997143\n",
      "[Epoch  29]: Validation loss: 1.259341 | Accuracy: 0.671111 | Within 3: 0.888889\n",
      "Best epoch:  28\n"
     ]
    }
   ],
   "source": [
    "batch_size = 32\n",
    "mtrainer = trainer.Trainer(deeper_model, optimizer, criterion, data, batch_size)\n",
    "mtrainer.run_train(30)"
   ]
  },
  {
   "cell_type": "code",
   "execution_count": 25,
   "id": "e0a86a27",
   "metadata": {},
   "outputs": [
    {
     "name": "stdout",
     "output_type": "stream",
     "text": [
      "Accuracy of the network on the test images: 70.03329633740289 %\n"
     ]
    }
   ],
   "source": [
    "test_loss, test_acc, top_k = mtrainer.run_test(mtrainer.testloader)\n",
    "print(f'Accuracy of the network on the test images: {test_acc*100} %')"
   ]
  },
  {
   "cell_type": "markdown",
   "id": "ae836900",
   "metadata": {},
   "source": [
    "## CNN Model with additional convolutional block and skip connections"
   ]
  },
  {
   "cell_type": "code",
   "execution_count": 51,
   "id": "b44530e0",
   "metadata": {},
   "outputs": [],
   "source": [
    "from model import baseline_cnn_2\n",
    "\n",
    "cnn_model_2 = baseline_cnn_2.BaselineCNN2(len(data.categories))\n",
    "\n",
    "criterion = nn.CrossEntropyLoss()\n",
    "optimizer = torch.optim.Adam(cnn_model_2.parameters(), lr=5e-4)"
   ]
  },
  {
   "cell_type": "code",
   "execution_count": 52,
   "id": "fd8d7308",
   "metadata": {},
   "outputs": [
    {
     "name": "stdout",
     "output_type": "stream",
     "text": [
      "[Epoch   0]: Training loss: 1.794897 | Accuracy: 0.351746\n",
      "[Epoch   0]: Validation loss: 1.773898 | Accuracy: 0.371111 | Within 3: 0.708889\n",
      "[Epoch   1]: Training loss: 1.622753 | Accuracy: 0.426667\n",
      "[Epoch   1]: Validation loss: 1.651874 | Accuracy: 0.402222 | Within 3: 0.733333\n",
      "[Epoch   2]: Training loss: 1.512305 | Accuracy: 0.476190\n",
      "[Epoch   2]: Validation loss: 1.674292 | Accuracy: 0.386667 | Within 3: 0.717778\n",
      "[Epoch   3]: Training loss: 1.434505 | Accuracy: 0.507302\n",
      "[Epoch   3]: Validation loss: 1.642798 | Accuracy: 0.477778 | Within 3: 0.808889\n",
      "[Epoch   4]: Training loss: 1.372783 | Accuracy: 0.526349\n",
      "[Epoch   4]: Validation loss: 1.567974 | Accuracy: 0.477778 | Within 3: 0.782222\n",
      "[Epoch   5]: Training loss: 1.325570 | Accuracy: 0.538730\n",
      "[Epoch   5]: Validation loss: 1.582854 | Accuracy: 0.457778 | Within 3: 0.753333\n",
      "[Epoch   6]: Training loss: 1.265975 | Accuracy: 0.566984\n",
      "[Epoch   6]: Validation loss: 1.631676 | Accuracy: 0.448889 | Within 3: 0.773333\n",
      "[Epoch   7]: Training loss: 1.239230 | Accuracy: 0.574921\n",
      "[Epoch   7]: Validation loss: 1.933087 | Accuracy: 0.340000 | Within 3: 0.695556\n",
      "[Epoch   8]: Training loss: 1.176742 | Accuracy: 0.592698\n",
      "[Epoch   8]: Validation loss: 1.573534 | Accuracy: 0.495556 | Within 3: 0.748889\n",
      "[Epoch   9]: Training loss: 1.126208 | Accuracy: 0.607302\n",
      "[Epoch   9]: Validation loss: 1.422274 | Accuracy: 0.520000 | Within 3: 0.831111\n",
      "[Epoch  10]: Training loss: 1.112293 | Accuracy: 0.625714\n",
      "[Epoch  10]: Validation loss: 1.660520 | Accuracy: 0.462222 | Within 3: 0.773333\n",
      "[Epoch  11]: Training loss: 1.063127 | Accuracy: 0.641270\n",
      "[Epoch  11]: Validation loss: 1.223251 | Accuracy: 0.591111 | Within 3: 0.840000\n",
      "[Epoch  12]: Training loss: 1.014289 | Accuracy: 0.655873\n",
      "[Epoch  12]: Validation loss: 1.310896 | Accuracy: 0.535556 | Within 3: 0.804444\n",
      "[Epoch  13]: Training loss: 0.984102 | Accuracy: 0.668571\n",
      "[Epoch  13]: Validation loss: 1.761670 | Accuracy: 0.415556 | Within 3: 0.773333\n",
      "[Epoch  14]: Training loss: 0.951056 | Accuracy: 0.671429\n",
      "[Epoch  14]: Validation loss: 1.354086 | Accuracy: 0.557778 | Within 3: 0.820000\n",
      "[Epoch  15]: Training loss: 0.914590 | Accuracy: 0.692063\n",
      "[Epoch  15]: Validation loss: 1.272305 | Accuracy: 0.586667 | Within 3: 0.835556\n",
      "[Epoch  16]: Training loss: 0.892468 | Accuracy: 0.701587\n",
      "[Epoch  16]: Validation loss: 1.318438 | Accuracy: 0.580000 | Within 3: 0.804444\n",
      "[Epoch  17]: Training loss: 0.842989 | Accuracy: 0.720952\n",
      "[Epoch  17]: Validation loss: 1.417613 | Accuracy: 0.566667 | Within 3: 0.820000\n",
      "[Epoch  18]: Training loss: 0.844041 | Accuracy: 0.713333\n",
      "[Epoch  18]: Validation loss: 1.183446 | Accuracy: 0.582222 | Within 3: 0.853333\n",
      "[Epoch  19]: Training loss: 0.789588 | Accuracy: 0.735873\n",
      "[Epoch  19]: Validation loss: 1.160080 | Accuracy: 0.586667 | Within 3: 0.848889\n",
      "[Epoch  20]: Training loss: 0.741640 | Accuracy: 0.748571\n",
      "[Epoch  20]: Validation loss: 1.356260 | Accuracy: 0.591111 | Within 3: 0.844444\n",
      "[Epoch  21]: Training loss: 0.704637 | Accuracy: 0.768571\n",
      "[Epoch  21]: Validation loss: 1.084923 | Accuracy: 0.637778 | Within 3: 0.880000\n",
      "[Epoch  22]: Training loss: 0.644842 | Accuracy: 0.792381\n",
      "[Epoch  22]: Validation loss: 1.402808 | Accuracy: 0.548889 | Within 3: 0.817778\n",
      "[Epoch  23]: Training loss: 0.629638 | Accuracy: 0.796508\n",
      "[Epoch  23]: Validation loss: 1.329726 | Accuracy: 0.566667 | Within 3: 0.835556\n",
      "[Epoch  24]: Training loss: 0.614759 | Accuracy: 0.802222\n",
      "[Epoch  24]: Validation loss: 1.174800 | Accuracy: 0.606667 | Within 3: 0.853333\n",
      "[Epoch  25]: Training loss: 0.539148 | Accuracy: 0.831746\n",
      "[Epoch  25]: Validation loss: 1.187133 | Accuracy: 0.631111 | Within 3: 0.864444\n",
      "[Epoch  26]: Training loss: 0.527568 | Accuracy: 0.834286\n",
      "[Epoch  26]: Validation loss: 1.121823 | Accuracy: 0.644444 | Within 3: 0.862222\n",
      "[Epoch  27]: Training loss: 0.480455 | Accuracy: 0.850476\n",
      "[Epoch  27]: Validation loss: 1.375242 | Accuracy: 0.608889 | Within 3: 0.851111\n",
      "[Epoch  28]: Training loss: 0.456662 | Accuracy: 0.856190\n",
      "[Epoch  28]: Validation loss: 1.061754 | Accuracy: 0.651111 | Within 3: 0.875556\n",
      "[Epoch  29]: Training loss: 0.432634 | Accuracy: 0.863175\n",
      "[Epoch  29]: Validation loss: 1.151779 | Accuracy: 0.611111 | Within 3: 0.868889\n",
      "Best epoch:  28\n"
     ]
    }
   ],
   "source": [
    "batch_size = 32\n",
    "mtrainer = trainer.Trainer(cnn_model_2, optimizer, criterion, data, batch_size)\n",
    "mtrainer.run_train(30)"
   ]
  },
  {
   "cell_type": "code",
   "execution_count": 53,
   "id": "4d90f1da",
   "metadata": {},
   "outputs": [
    {
     "name": "stdout",
     "output_type": "stream",
     "text": [
      "Accuracy of the network on the test images: 67.25860155382908 %\n"
     ]
    }
   ],
   "source": [
    "test_loss, test_acc, top_k = mtrainer.run_test(mtrainer.testloader)\n",
    "print(f'Accuracy of the network on the test images: {test_acc*100} %')"
   ]
  }
 ],
 "metadata": {
  "kernelspec": {
   "display_name": "Python 3 (ipykernel)",
   "language": "python",
   "name": "python3"
  },
  "language_info": {
   "codemirror_mode": {
    "name": "ipython",
    "version": 3
   },
   "file_extension": ".py",
   "mimetype": "text/x-python",
   "name": "python",
   "nbconvert_exporter": "python",
   "pygments_lexer": "ipython3",
   "version": "3.9.12"
  },
  "vscode": {
   "interpreter": {
    "hash": "d88d51e5feeef7cdbc38f54879bc8b14b595db7785db4e3b195d2593607adbb2"
   }
  }
 },
 "nbformat": 4,
 "nbformat_minor": 5
}
