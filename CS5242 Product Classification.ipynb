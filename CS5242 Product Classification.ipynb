{
 "cells": [
  {
   "cell_type": "markdown",
   "id": "c53e22fb",
   "metadata": {},
   "source": [
    "# Shopee Product Classification "
   ]
  },
  {
   "cell_type": "markdown",
   "id": "e00b4f80",
   "metadata": {},
   "source": [
    "Notebook to experiment over several Neural Networks over the product dataset obtained from Shopee and evaluate results."
   ]
  },
  {
   "cell_type": "markdown",
   "id": "ceaa5624",
   "metadata": {},
   "source": [
    "The following models are evaluated as part of this notebook:\n",
    "\n",
    "Baseline 1: CNN <br>\n",
    "Baseline 2: CNN with augmented layers <br>\n",
    "Improvement 1: Adding RNN <br>\n",
    "Improvement 2: Adding attention"
   ]
  },
  {
   "cell_type": "markdown",
   "id": "70e52a97",
   "metadata": {},
   "source": [
    "## Imports and Config"
   ]
  },
  {
   "cell_type": "code",
   "execution_count": null,
   "id": "97c7e4bf",
   "metadata": {
    "scrolled": true
   },
   "outputs": [],
   "source": [
    "!pip install scikit-image\n",
    "!pip install shopee_crawler\n",
    "!pip install torchvision\n",
    "!pip install opencv-python"
   ]
  },
  {
   "cell_type": "code",
   "execution_count": 55,
   "id": "7320f4d2",
   "metadata": {},
   "outputs": [],
   "source": [
    "# System\n",
    "import importlib\n",
    "\n",
    "\n",
    "import torch\n",
    "import torch.nn as nn"
   ]
  },
  {
   "cell_type": "markdown",
   "id": "b887334e",
   "metadata": {},
   "source": [
    "## Dataset"
   ]
  },
  {
   "cell_type": "code",
   "execution_count": 29,
   "id": "d7a686c7",
   "metadata": {},
   "outputs": [],
   "source": [
    "from model import dataset\n",
    "\n",
    "data = dataset.DataSet(max_num_img=3000, crop=0.8, path='data/selected_images/')"
   ]
  },
  {
   "cell_type": "code",
   "execution_count": 30,
   "id": "712aabfd",
   "metadata": {},
   "outputs": [
    {
     "name": "stderr",
     "output_type": "stream",
     "text": [
      "100%|██████████| 500/500 [00:01<00:00, 327.40it/s]\n",
      "100%|██████████| 500/500 [00:01<00:00, 330.89it/s]\n",
      "100%|██████████| 500/500 [00:01<00:00, 311.64it/s]\n",
      "100%|██████████| 500/500 [00:01<00:00, 336.41it/s]\n",
      "100%|██████████| 500/500 [00:01<00:00, 263.49it/s]\n",
      "100%|██████████| 500/500 [00:01<00:00, 260.43it/s]\n",
      "100%|██████████| 500/500 [00:01<00:00, 262.13it/s]\n",
      "100%|██████████| 501/501 [00:01<00:00, 332.92it/s]\n",
      "100%|██████████| 500/500 [00:01<00:00, 258.68it/s]\n"
     ]
    }
   ],
   "source": [
    "data.load_all()"
   ]
  },
  {
   "cell_type": "markdown",
   "id": "4d192805",
   "metadata": {},
   "source": [
    "## CNN Baseline Model"
   ]
  },
  {
   "cell_type": "code",
   "execution_count": 31,
   "id": "7e3ef77b",
   "metadata": {},
   "outputs": [],
   "source": [
    "from model import trainer, baseline_cnn_1\n",
    "\n",
    "torch.manual_seed(42)\n",
    "\n",
    "batch_size = 32\n",
    "num_epoch = 30\n",
    "\n",
    "baseline_cnn_1_model = baseline_cnn_1.BaselineCNN1(len(data.categories))\n",
    "\n",
    "criterion = nn.CrossEntropyLoss()\n",
    "optimizer = torch.optim.Adam(baseline_cnn_1_model.parameters(), lr=4e-4)"
   ]
  },
  {
   "cell_type": "code",
   "execution_count": 32,
   "id": "d89ba372",
   "metadata": {},
   "outputs": [
    {
     "name": "stdout",
     "output_type": "stream",
     "text": [
      "[Epoch   0]: Training loss: 1.728545 | Accuracy: 0.381587\n",
      "[Epoch   0]: Validation loss: 1.658206 | Accuracy: 0.375556 | Within 3: 0.728889\n",
      "[Epoch   1]: Training loss: 1.555988 | Accuracy: 0.463810\n",
      "[Epoch   1]: Validation loss: 1.557984 | Accuracy: 0.422222 | Within 3: 0.762222\n",
      "[Epoch   2]: Training loss: 1.430644 | Accuracy: 0.520635\n",
      "[Epoch   2]: Validation loss: 2.494374 | Accuracy: 0.288889 | Within 3: 0.604444\n",
      "[Epoch   3]: Training loss: 1.376172 | Accuracy: 0.531746\n",
      "[Epoch   3]: Validation loss: 1.601417 | Accuracy: 0.433333 | Within 3: 0.771111\n",
      "[Epoch   4]: Training loss: 1.317127 | Accuracy: 0.549841\n",
      "[Epoch   4]: Validation loss: 1.724938 | Accuracy: 0.413333 | Within 3: 0.740000\n",
      "[Epoch   5]: Training loss: 1.252796 | Accuracy: 0.585079\n",
      "[Epoch   5]: Validation loss: 1.472554 | Accuracy: 0.511111 | Within 3: 0.791111\n",
      "[Epoch   6]: Training loss: 1.195902 | Accuracy: 0.594603\n",
      "[Epoch   6]: Validation loss: 1.524227 | Accuracy: 0.482222 | Within 3: 0.757778\n",
      "[Epoch   7]: Training loss: 1.160707 | Accuracy: 0.613016\n",
      "[Epoch   7]: Validation loss: 1.680416 | Accuracy: 0.437778 | Within 3: 0.775556\n",
      "[Epoch   8]: Training loss: 1.082640 | Accuracy: 0.640635\n",
      "[Epoch   8]: Validation loss: 1.354476 | Accuracy: 0.531111 | Within 3: 0.811111\n",
      "[Epoch   9]: Training loss: 1.044227 | Accuracy: 0.649206\n",
      "[Epoch   9]: Validation loss: 1.255351 | Accuracy: 0.573333 | Within 3: 0.844444\n",
      "[Epoch  10]: Training loss: 1.003828 | Accuracy: 0.666984\n",
      "[Epoch  10]: Validation loss: 1.501498 | Accuracy: 0.522222 | Within 3: 0.813333\n",
      "[Epoch  11]: Training loss: 0.937267 | Accuracy: 0.684762\n",
      "[Epoch  11]: Validation loss: 1.206665 | Accuracy: 0.606667 | Within 3: 0.846667\n",
      "[Epoch  12]: Training loss: 0.886928 | Accuracy: 0.705079\n",
      "[Epoch  12]: Validation loss: 1.296409 | Accuracy: 0.600000 | Within 3: 0.844444\n",
      "[Epoch  13]: Training loss: 0.861681 | Accuracy: 0.717778\n",
      "[Epoch  13]: Validation loss: 1.517638 | Accuracy: 0.571111 | Within 3: 0.828889\n",
      "[Epoch  14]: Training loss: 0.791811 | Accuracy: 0.736825\n",
      "[Epoch  14]: Validation loss: 1.164240 | Accuracy: 0.604444 | Within 3: 0.851111\n",
      "[Epoch  15]: Training loss: 0.714459 | Accuracy: 0.760635\n",
      "[Epoch  15]: Validation loss: 1.500920 | Accuracy: 0.520000 | Within 3: 0.806667\n",
      "[Epoch  16]: Training loss: 0.695592 | Accuracy: 0.770794\n",
      "[Epoch  16]: Validation loss: 1.381736 | Accuracy: 0.520000 | Within 3: 0.808889\n",
      "[Epoch  17]: Training loss: 0.601691 | Accuracy: 0.812381\n",
      "[Epoch  17]: Validation loss: 1.114772 | Accuracy: 0.611111 | Within 3: 0.871111\n",
      "[Epoch  18]: Training loss: 0.560768 | Accuracy: 0.826984\n",
      "[Epoch  18]: Validation loss: 1.254630 | Accuracy: 0.580000 | Within 3: 0.866667\n",
      "[Epoch  19]: Training loss: 0.490145 | Accuracy: 0.847619\n",
      "[Epoch  19]: Validation loss: 1.299507 | Accuracy: 0.573333 | Within 3: 0.848889\n",
      "[Epoch  20]: Training loss: 0.454009 | Accuracy: 0.863175\n",
      "[Epoch  20]: Validation loss: 1.173546 | Accuracy: 0.622222 | Within 3: 0.871111\n",
      "[Epoch  21]: Training loss: 0.392716 | Accuracy: 0.889206\n",
      "[Epoch  21]: Validation loss: 1.086892 | Accuracy: 0.644444 | Within 3: 0.884444\n",
      "[Epoch  22]: Training loss: 0.334680 | Accuracy: 0.908254\n",
      "[Epoch  22]: Validation loss: 1.357133 | Accuracy: 0.622222 | Within 3: 0.873333\n",
      "[Epoch  23]: Training loss: 0.279998 | Accuracy: 0.927302\n",
      "[Epoch  23]: Validation loss: 1.515999 | Accuracy: 0.604444 | Within 3: 0.848889\n",
      "[Epoch  24]: Training loss: 0.228175 | Accuracy: 0.951746\n",
      "[Epoch  24]: Validation loss: 1.061005 | Accuracy: 0.653333 | Within 3: 0.895556\n",
      "[Epoch  25]: Training loss: 0.186430 | Accuracy: 0.962857\n",
      "[Epoch  25]: Validation loss: 1.330234 | Accuracy: 0.631111 | Within 3: 0.860000\n",
      "[Epoch  26]: Training loss: 0.147493 | Accuracy: 0.973333\n",
      "[Epoch  26]: Validation loss: 1.225154 | Accuracy: 0.642222 | Within 3: 0.895556\n",
      "[Epoch  27]: Training loss: 0.121414 | Accuracy: 0.982857\n",
      "[Epoch  27]: Validation loss: 1.054942 | Accuracy: 0.666667 | Within 3: 0.897778\n",
      "[Epoch  28]: Training loss: 0.095767 | Accuracy: 0.987619\n",
      "[Epoch  28]: Validation loss: 1.335020 | Accuracy: 0.660000 | Within 3: 0.868889\n",
      "[Epoch  29]: Training loss: 0.092619 | Accuracy: 0.988889\n",
      "[Epoch  29]: Validation loss: 1.769915 | Accuracy: 0.535556 | Within 3: 0.831111\n",
      "Best epoch:  27\n"
     ]
    }
   ],
   "source": [
    "mtrainer = trainer.Trainer(baseline_cnn_1_model, optimizer, criterion, data, batch_size)\n",
    "mtrainer.run_train(30)"
   ]
  },
  {
   "cell_type": "code",
   "execution_count": 34,
   "id": "d8c903eb",
   "metadata": {},
   "outputs": [
    {
     "name": "stdout",
     "output_type": "stream",
     "text": [
      "Accuracy of the network on the test images: 67.48057713651498 %\n"
     ]
    }
   ],
   "source": [
    "test_loss, test_acc, top_k, incorect_stats = mtrainer.run_test(mtrainer.testloader, 3, True)\n",
    "print(f'Accuracy of the network on the test images: {test_acc*100} %')\n",
    "# print(f'Accuracy within top 3 results: {top_k*100} %')\n",
    "\n",
    "# from collections import Counter\n",
    "\n",
    "# counts = Counter(incorect_stats).most_common(25)\n",
    "# for k, v in counts:\n",
    "#     print(f\"({data.categories[k[0]]}, {data.categories[k[1]]}): {v}\")"
   ]
  },
  {
   "cell_type": "markdown",
   "id": "e8e4bfec",
   "metadata": {},
   "source": [
    "## CCN Model with additional convolutional block"
   ]
  },
  {
   "cell_type": "code",
   "execution_count": 53,
   "id": "9b9a6c31",
   "metadata": {},
   "outputs": [
    {
     "data": {
      "text/plain": [
       "<module 'model.deeper_cnn' from '/Users/naomileow/Documents/school/CS5242/project/model/deeper_cnn.py'>"
      ]
     },
     "execution_count": 53,
     "metadata": {},
     "output_type": "execute_result"
    }
   ],
   "source": [
    "importlib.reload(deeper_cnn)"
   ]
  },
  {
   "cell_type": "code",
   "execution_count": 36,
   "id": "860fe74c",
   "metadata": {},
   "outputs": [],
   "source": [
    "from model import deeper_cnn\n",
    "torch.manual_seed(42)\n",
    "\n",
    "deeper_model = deeper_cnn.DeeperCNN(len(data.categories))\n",
    "\n",
    "criterion = nn.CrossEntropyLoss()\n",
    "optimizer = torch.optim.Adam(deeper_model.parameters(), lr=4e-4)"
   ]
  },
  {
   "cell_type": "code",
   "execution_count": 37,
   "id": "22bec256",
   "metadata": {},
   "outputs": [
    {
     "name": "stdout",
     "output_type": "stream",
     "text": [
      "[Epoch   0]: Training loss: 1.753233 | Accuracy: 0.380317\n",
      "[Epoch   0]: Validation loss: 1.846293 | Accuracy: 0.346667 | Within 3: 0.682222\n",
      "[Epoch   1]: Training loss: 1.511827 | Accuracy: 0.478413\n",
      "[Epoch   1]: Validation loss: 2.050122 | Accuracy: 0.320000 | Within 3: 0.693333\n",
      "[Epoch   2]: Training loss: 1.388863 | Accuracy: 0.521270\n",
      "[Epoch   2]: Validation loss: 1.486442 | Accuracy: 0.504444 | Within 3: 0.793333\n",
      "[Epoch   3]: Training loss: 1.294602 | Accuracy: 0.548571\n",
      "[Epoch   3]: Validation loss: 1.602448 | Accuracy: 0.437778 | Within 3: 0.757778\n",
      "[Epoch   4]: Training loss: 1.185758 | Accuracy: 0.595238\n",
      "[Epoch   4]: Validation loss: 1.378949 | Accuracy: 0.513333 | Within 3: 0.811111\n",
      "[Epoch   5]: Training loss: 1.119060 | Accuracy: 0.619365\n",
      "[Epoch   5]: Validation loss: 1.441261 | Accuracy: 0.535556 | Within 3: 0.828889\n",
      "[Epoch   6]: Training loss: 1.053957 | Accuracy: 0.644762\n",
      "[Epoch   6]: Validation loss: 1.388480 | Accuracy: 0.537778 | Within 3: 0.828889\n",
      "[Epoch   7]: Training loss: 0.981271 | Accuracy: 0.665714\n",
      "[Epoch   7]: Validation loss: 1.537080 | Accuracy: 0.464444 | Within 3: 0.811111\n",
      "[Epoch   8]: Training loss: 0.900878 | Accuracy: 0.694286\n",
      "[Epoch   8]: Validation loss: 1.442569 | Accuracy: 0.511111 | Within 3: 0.811111\n",
      "[Epoch   9]: Training loss: 0.803381 | Accuracy: 0.742857\n",
      "[Epoch   9]: Validation loss: 1.330171 | Accuracy: 0.571111 | Within 3: 0.866667\n",
      "[Epoch  10]: Training loss: 0.701241 | Accuracy: 0.767302\n",
      "[Epoch  10]: Validation loss: 1.335201 | Accuracy: 0.571111 | Within 3: 0.837778\n",
      "[Epoch  11]: Training loss: 0.632967 | Accuracy: 0.794286\n",
      "[Epoch  11]: Validation loss: 1.447467 | Accuracy: 0.524444 | Within 3: 0.833333\n",
      "[Epoch  12]: Training loss: 0.545822 | Accuracy: 0.820317\n",
      "[Epoch  12]: Validation loss: 1.125897 | Accuracy: 0.648889 | Within 3: 0.873333\n",
      "[Epoch  13]: Training loss: 0.437460 | Accuracy: 0.864762\n",
      "[Epoch  13]: Validation loss: 1.841084 | Accuracy: 0.480000 | Within 3: 0.775556\n",
      "[Epoch  14]: Training loss: 0.365006 | Accuracy: 0.892063\n",
      "[Epoch  14]: Validation loss: 2.065615 | Accuracy: 0.468889 | Within 3: 0.753333\n",
      "[Epoch  15]: Training loss: 0.279887 | Accuracy: 0.921270\n",
      "[Epoch  15]: Validation loss: 1.137036 | Accuracy: 0.655556 | Within 3: 0.871111\n",
      "[Epoch  16]: Training loss: 0.233025 | Accuracy: 0.932063\n",
      "[Epoch  16]: Validation loss: 1.591738 | Accuracy: 0.588889 | Within 3: 0.857778\n",
      "[Epoch  17]: Training loss: 0.168049 | Accuracy: 0.958413\n",
      "[Epoch  17]: Validation loss: 1.306139 | Accuracy: 0.651111 | Within 3: 0.871111\n",
      "[Epoch  18]: Training loss: 0.104124 | Accuracy: 0.975873\n",
      "[Epoch  18]: Validation loss: 1.102033 | Accuracy: 0.680000 | Within 3: 0.882222\n",
      "[Epoch  19]: Training loss: 0.069865 | Accuracy: 0.987937\n",
      "[Epoch  19]: Validation loss: 1.190717 | Accuracy: 0.644444 | Within 3: 0.882222\n",
      "[Epoch  20]: Training loss: 0.055583 | Accuracy: 0.992381\n",
      "[Epoch  20]: Validation loss: 1.215150 | Accuracy: 0.677778 | Within 3: 0.897778\n",
      "[Epoch  21]: Training loss: 0.039480 | Accuracy: 0.994286\n",
      "[Epoch  21]: Validation loss: 1.140423 | Accuracy: 0.680000 | Within 3: 0.877778\n",
      "[Epoch  22]: Training loss: 0.036431 | Accuracy: 0.992698\n",
      "[Epoch  22]: Validation loss: 1.553587 | Accuracy: 0.653333 | Within 3: 0.882222\n",
      "[Epoch  23]: Training loss: 0.048296 | Accuracy: 0.989841\n",
      "[Epoch  23]: Validation loss: 1.358206 | Accuracy: 0.635556 | Within 3: 0.891111\n",
      "[Epoch  24]: Training loss: 0.080744 | Accuracy: 0.981270\n",
      "[Epoch  24]: Validation loss: 1.594733 | Accuracy: 0.628889 | Within 3: 0.840000\n",
      "[Epoch  25]: Training loss: 0.206705 | Accuracy: 0.933651\n",
      "[Epoch  25]: Validation loss: 1.665342 | Accuracy: 0.622222 | Within 3: 0.842222\n",
      "[Epoch  26]: Training loss: 0.156711 | Accuracy: 0.952381\n",
      "[Epoch  26]: Validation loss: 1.613622 | Accuracy: 0.577778 | Within 3: 0.844444\n",
      "[Epoch  27]: Training loss: 0.080960 | Accuracy: 0.980317\n",
      "[Epoch  27]: Validation loss: 1.158294 | Accuracy: 0.688889 | Within 3: 0.911111\n",
      "[Epoch  28]: Training loss: 0.023767 | Accuracy: 0.996825\n",
      "[Epoch  28]: Validation loss: 1.296723 | Accuracy: 0.682222 | Within 3: 0.893333\n",
      "[Epoch  29]: Training loss: 0.008685 | Accuracy: 1.000000\n",
      "[Epoch  29]: Validation loss: 1.155778 | Accuracy: 0.713333 | Within 3: 0.897778\n",
      "Best epoch:  29\n"
     ]
    }
   ],
   "source": [
    "batch_size = 32\n",
    "mtrainer = trainer.Trainer(deeper_model, optimizer, criterion, data, batch_size)\n",
    "mtrainer.run_train(30)"
   ]
  },
  {
   "cell_type": "code",
   "execution_count": 38,
   "id": "e0a86a27",
   "metadata": {},
   "outputs": [
    {
     "name": "stdout",
     "output_type": "stream",
     "text": [
      "Accuracy of the network on the test images: 70.14428412874584 %\n"
     ]
    }
   ],
   "source": [
    "test_loss, test_acc, top_k = mtrainer.run_test(mtrainer.testloader)\n",
    "print(f'Accuracy of the network on the test images: {test_acc*100} %')\n"
   ]
  },
  {
   "cell_type": "code",
   "execution_count": 67,
   "id": "cfffe11d",
   "metadata": {},
   "outputs": [],
   "source": [
    "from model import deeper_cnn\n",
    "torch.manual_seed(42)\n",
    "\n",
    "deeper_model = deeper_cnn.DeeperCNN2(len(data.categories))\n",
    "\n",
    "criterion = nn.CrossEntropyLoss()\n",
    "optimizer = torch.optim.Adam(deeper_model.parameters(), lr=3e-4)"
   ]
  },
  {
   "cell_type": "code",
   "execution_count": 68,
   "id": "9cf31b1a",
   "metadata": {},
   "outputs": [
    {
     "name": "stdout",
     "output_type": "stream",
     "text": [
      "[Epoch   0]: Training loss: 1.851337 | Accuracy: 0.340317\n",
      "[Epoch   0]: Validation loss: 1.985287 | Accuracy: 0.297778 | Within 3: 0.680000\n",
      "[Epoch   1]: Training loss: 1.670817 | Accuracy: 0.418413\n",
      "[Epoch   1]: Validation loss: 1.764408 | Accuracy: 0.393333 | Within 3: 0.717778\n",
      "[Epoch   2]: Training loss: 1.555972 | Accuracy: 0.462857\n",
      "[Epoch   2]: Validation loss: 1.629288 | Accuracy: 0.426667 | Within 3: 0.800000\n",
      "[Epoch   3]: Training loss: 1.460918 | Accuracy: 0.506984\n",
      "[Epoch   3]: Validation loss: 1.760022 | Accuracy: 0.435556 | Within 3: 0.777778\n",
      "[Epoch   4]: Training loss: 1.434107 | Accuracy: 0.506349\n",
      "[Epoch   4]: Validation loss: 1.510408 | Accuracy: 0.446667 | Within 3: 0.795556\n",
      "[Epoch   5]: Training loss: 1.342594 | Accuracy: 0.549206\n",
      "[Epoch   5]: Validation loss: 1.399178 | Accuracy: 0.540000 | Within 3: 0.808889\n",
      "[Epoch   6]: Training loss: 1.275160 | Accuracy: 0.570476\n",
      "[Epoch   6]: Validation loss: 1.473031 | Accuracy: 0.486667 | Within 3: 0.791111\n",
      "[Epoch   7]: Training loss: 1.216377 | Accuracy: 0.587619\n",
      "[Epoch   7]: Validation loss: 1.745462 | Accuracy: 0.448889 | Within 3: 0.746667\n",
      "[Epoch   8]: Training loss: 1.187339 | Accuracy: 0.594603\n",
      "[Epoch   8]: Validation loss: 1.581323 | Accuracy: 0.528889 | Within 3: 0.793333\n",
      "[Epoch   9]: Training loss: 1.131416 | Accuracy: 0.624762\n",
      "[Epoch   9]: Validation loss: 1.760136 | Accuracy: 0.502222 | Within 3: 0.782222\n",
      "[Epoch  10]: Training loss: 1.082227 | Accuracy: 0.639365\n",
      "[Epoch  10]: Validation loss: 1.408785 | Accuracy: 0.548889 | Within 3: 0.833333\n",
      "[Epoch  11]: Training loss: 1.036131 | Accuracy: 0.655556\n",
      "[Epoch  11]: Validation loss: 1.680014 | Accuracy: 0.466667 | Within 3: 0.780000\n",
      "[Epoch  12]: Training loss: 1.018567 | Accuracy: 0.669206\n",
      "[Epoch  12]: Validation loss: 1.803323 | Accuracy: 0.457778 | Within 3: 0.755556\n",
      "[Epoch  13]: Training loss: 0.951689 | Accuracy: 0.685714\n",
      "[Epoch  13]: Validation loss: 1.292071 | Accuracy: 0.537778 | Within 3: 0.815556\n",
      "[Epoch  14]: Training loss: 0.926513 | Accuracy: 0.700317\n",
      "[Epoch  14]: Validation loss: 1.362920 | Accuracy: 0.542222 | Within 3: 0.815556\n",
      "[Epoch  15]: Training loss: 0.872664 | Accuracy: 0.713651\n",
      "[Epoch  15]: Validation loss: 1.370237 | Accuracy: 0.595556 | Within 3: 0.848889\n",
      "[Epoch  16]: Training loss: 0.801956 | Accuracy: 0.738413\n",
      "[Epoch  16]: Validation loss: 1.147415 | Accuracy: 0.611111 | Within 3: 0.864444\n",
      "[Epoch  17]: Training loss: 0.769611 | Accuracy: 0.753651\n",
      "[Epoch  17]: Validation loss: 2.125964 | Accuracy: 0.422222 | Within 3: 0.740000\n",
      "[Epoch  18]: Training loss: 0.741092 | Accuracy: 0.756190\n",
      "[Epoch  18]: Validation loss: 1.533354 | Accuracy: 0.520000 | Within 3: 0.822222\n",
      "[Epoch  19]: Training loss: 0.724439 | Accuracy: 0.764444\n",
      "[Epoch  19]: Validation loss: 2.033026 | Accuracy: 0.482222 | Within 3: 0.735556\n",
      "[Epoch  20]: Training loss: 0.702619 | Accuracy: 0.768571\n",
      "[Epoch  20]: Validation loss: 1.324162 | Accuracy: 0.557778 | Within 3: 0.831111\n",
      "[Epoch  21]: Training loss: 0.626632 | Accuracy: 0.797460\n",
      "[Epoch  21]: Validation loss: 1.510920 | Accuracy: 0.546667 | Within 3: 0.855556\n",
      "[Epoch  22]: Training loss: 0.574844 | Accuracy: 0.824762\n",
      "[Epoch  22]: Validation loss: 1.345215 | Accuracy: 0.606667 | Within 3: 0.828889\n",
      "[Epoch  23]: Training loss: 0.532018 | Accuracy: 0.838095\n",
      "[Epoch  23]: Validation loss: 1.200557 | Accuracy: 0.628889 | Within 3: 0.884444\n",
      "[Epoch  24]: Training loss: 0.522621 | Accuracy: 0.841270\n",
      "[Epoch  24]: Validation loss: 1.649772 | Accuracy: 0.497778 | Within 3: 0.762222\n",
      "[Epoch  25]: Training loss: 0.480220 | Accuracy: 0.857143\n",
      "[Epoch  25]: Validation loss: 1.170354 | Accuracy: 0.637778 | Within 3: 0.860000\n",
      "[Epoch  26]: Training loss: 0.437506 | Accuracy: 0.863175\n",
      "[Epoch  26]: Validation loss: 1.390952 | Accuracy: 0.571111 | Within 3: 0.884444\n",
      "[Epoch  27]: Training loss: 0.359079 | Accuracy: 0.902540\n",
      "[Epoch  27]: Validation loss: 1.623826 | Accuracy: 0.546667 | Within 3: 0.806667\n",
      "[Epoch  28]: Training loss: 0.346228 | Accuracy: 0.904127\n",
      "[Epoch  28]: Validation loss: 1.513492 | Accuracy: 0.517778 | Within 3: 0.820000\n",
      "[Epoch  29]: Training loss: 0.318044 | Accuracy: 0.919048\n",
      "[Epoch  29]: Validation loss: 1.693381 | Accuracy: 0.546667 | Within 3: 0.824444\n",
      "Best epoch:  25\n"
     ]
    }
   ],
   "source": [
    "batch_size = 32\n",
    "mtrainer = trainer.Trainer(deeper_model, optimizer, criterion, data, batch_size)\n",
    "mtrainer.run_train(30)"
   ]
  },
  {
   "cell_type": "code",
   "execution_count": 69,
   "id": "c0109942",
   "metadata": {},
   "outputs": [
    {
     "name": "stdout",
     "output_type": "stream",
     "text": [
      "Accuracy of the network on the test images: 63.374028856825745 %\n"
     ]
    }
   ],
   "source": [
    "test_loss, test_acc, top_k = mtrainer.run_test(mtrainer.testloader)\n",
    "print(f'Accuracy of the network on the test images: {test_acc*100} %')"
   ]
  },
  {
   "cell_type": "markdown",
   "id": "ae836900",
   "metadata": {},
   "source": [
    "## CNN Model with additional convolutional block and skip connections"
   ]
  },
  {
   "cell_type": "code",
   "execution_count": 60,
   "id": "cdbc1579",
   "metadata": {},
   "outputs": [
    {
     "data": {
      "text/plain": [
       "<module 'model.baseline_cnn_2' from '/Users/naomileow/Documents/school/CS5242/project/model/baseline_cnn_2.py'>"
      ]
     },
     "execution_count": 60,
     "metadata": {},
     "output_type": "execute_result"
    }
   ],
   "source": [
    "importlib.reload(baseline_cnn_2)"
   ]
  },
  {
   "cell_type": "code",
   "execution_count": 61,
   "id": "e0e89ff2",
   "metadata": {},
   "outputs": [],
   "source": [
    "from model import baseline_cnn_2, trainer\n",
    "\n",
    "torch.manual_seed(42)\n",
    "cnn_model_2 = baseline_cnn_2.ResidualCNN(len(data.categories))\n",
    "\n",
    "criterion = nn.CrossEntropyLoss()\n",
    "optimizer = torch.optim.Adam(cnn_model_2.parameters(), lr=3e-4)"
   ]
  },
  {
   "cell_type": "code",
   "execution_count": 62,
   "id": "5266ba1f",
   "metadata": {},
   "outputs": [
    {
     "name": "stdout",
     "output_type": "stream",
     "text": [
      "[Epoch   0]: Training loss: 1.727069 | Accuracy: 0.389841\n",
      "[Epoch   0]: Validation loss: 1.778004 | Accuracy: 0.437778 | Within 3: 0.762222\n",
      "[Epoch   1]: Training loss: 1.492964 | Accuracy: 0.484444\n",
      "[Epoch   1]: Validation loss: 1.700370 | Accuracy: 0.420000 | Within 3: 0.762222\n",
      "[Epoch   2]: Training loss: 1.379663 | Accuracy: 0.529841\n",
      "[Epoch   2]: Validation loss: 1.576051 | Accuracy: 0.473333 | Within 3: 0.793333\n",
      "[Epoch   3]: Training loss: 1.309124 | Accuracy: 0.557460\n",
      "[Epoch   3]: Validation loss: 1.341210 | Accuracy: 0.540000 | Within 3: 0.797778\n",
      "[Epoch   4]: Training loss: 1.227667 | Accuracy: 0.584444\n",
      "[Epoch   4]: Validation loss: 1.604701 | Accuracy: 0.471111 | Within 3: 0.762222\n",
      "[Epoch   5]: Training loss: 1.177446 | Accuracy: 0.594603\n",
      "[Epoch   5]: Validation loss: 1.829640 | Accuracy: 0.453333 | Within 3: 0.760000\n",
      "[Epoch   6]: Training loss: 1.109520 | Accuracy: 0.622857\n",
      "[Epoch   6]: Validation loss: 1.507974 | Accuracy: 0.502222 | Within 3: 0.802222\n",
      "[Epoch   7]: Training loss: 1.059158 | Accuracy: 0.632381\n",
      "[Epoch   7]: Validation loss: 1.446889 | Accuracy: 0.504444 | Within 3: 0.782222\n",
      "[Epoch   8]: Training loss: 0.996329 | Accuracy: 0.659048\n",
      "[Epoch   8]: Validation loss: 1.618070 | Accuracy: 0.453333 | Within 3: 0.775556\n",
      "[Epoch   9]: Training loss: 0.930711 | Accuracy: 0.693333\n",
      "[Epoch   9]: Validation loss: 1.304644 | Accuracy: 0.544444 | Within 3: 0.833333\n",
      "[Epoch  10]: Training loss: 0.896868 | Accuracy: 0.693968\n",
      "[Epoch  10]: Validation loss: 1.420494 | Accuracy: 0.535556 | Within 3: 0.813333\n",
      "[Epoch  11]: Training loss: 0.835100 | Accuracy: 0.730794\n",
      "[Epoch  11]: Validation loss: 1.148321 | Accuracy: 0.586667 | Within 3: 0.860000\n",
      "[Epoch  12]: Training loss: 0.733057 | Accuracy: 0.761905\n",
      "[Epoch  12]: Validation loss: 1.208928 | Accuracy: 0.595556 | Within 3: 0.868889\n",
      "[Epoch  13]: Training loss: 0.655957 | Accuracy: 0.791746\n",
      "[Epoch  13]: Validation loss: 1.220775 | Accuracy: 0.597778 | Within 3: 0.864444\n",
      "[Epoch  14]: Training loss: 0.617771 | Accuracy: 0.796190\n",
      "[Epoch  14]: Validation loss: 1.111205 | Accuracy: 0.635556 | Within 3: 0.884444\n",
      "[Epoch  15]: Training loss: 0.559456 | Accuracy: 0.824444\n",
      "[Epoch  15]: Validation loss: 1.321048 | Accuracy: 0.553333 | Within 3: 0.846667\n",
      "[Epoch  16]: Training loss: 0.474522 | Accuracy: 0.857460\n",
      "[Epoch  16]: Validation loss: 1.244700 | Accuracy: 0.608889 | Within 3: 0.851111\n",
      "[Epoch  17]: Training loss: 0.448538 | Accuracy: 0.871111\n",
      "[Epoch  17]: Validation loss: 1.071935 | Accuracy: 0.637778 | Within 3: 0.880000\n",
      "[Epoch  18]: Training loss: 0.383344 | Accuracy: 0.886032\n",
      "[Epoch  18]: Validation loss: 1.135214 | Accuracy: 0.615556 | Within 3: 0.888889\n",
      "[Epoch  19]: Training loss: 0.300203 | Accuracy: 0.920635\n",
      "[Epoch  19]: Validation loss: 1.101754 | Accuracy: 0.653333 | Within 3: 0.895556\n",
      "[Epoch  20]: Training loss: 0.240627 | Accuracy: 0.943810\n",
      "[Epoch  20]: Validation loss: 1.385491 | Accuracy: 0.633333 | Within 3: 0.880000\n",
      "[Epoch  21]: Training loss: 0.229118 | Accuracy: 0.944762\n",
      "[Epoch  21]: Validation loss: 1.482415 | Accuracy: 0.568889 | Within 3: 0.835556\n",
      "[Epoch  22]: Training loss: 0.212278 | Accuracy: 0.949841\n",
      "[Epoch  22]: Validation loss: 1.355345 | Accuracy: 0.653333 | Within 3: 0.877778\n",
      "[Epoch  23]: Training loss: 0.144659 | Accuracy: 0.974286\n",
      "[Epoch  23]: Validation loss: 1.342687 | Accuracy: 0.617778 | Within 3: 0.877778\n",
      "[Epoch  24]: Training loss: 0.137721 | Accuracy: 0.973016\n",
      "[Epoch  24]: Validation loss: 1.489332 | Accuracy: 0.595556 | Within 3: 0.848889\n",
      "[Epoch  25]: Training loss: 0.120204 | Accuracy: 0.980000\n",
      "[Epoch  25]: Validation loss: 1.314031 | Accuracy: 0.631111 | Within 3: 0.875556\n",
      "[Epoch  26]: Training loss: 0.086624 | Accuracy: 0.988254\n",
      "[Epoch  26]: Validation loss: 1.251110 | Accuracy: 0.642222 | Within 3: 0.897778\n",
      "[Epoch  27]: Training loss: 0.055847 | Accuracy: 0.995238\n",
      "[Epoch  27]: Validation loss: 1.351245 | Accuracy: 0.628889 | Within 3: 0.871111\n",
      "[Epoch  28]: Training loss: 0.054215 | Accuracy: 0.992698\n",
      "[Epoch  28]: Validation loss: 1.244995 | Accuracy: 0.655556 | Within 3: 0.873333\n",
      "[Epoch  29]: Training loss: 0.086784 | Accuracy: 0.981587\n",
      "[Epoch  29]: Validation loss: 1.440095 | Accuracy: 0.635556 | Within 3: 0.862222\n",
      "Best epoch:  28\n"
     ]
    }
   ],
   "source": [
    "batch_size = 32\n",
    "mtrainer = trainer.Trainer(cnn_model_2, optimizer, criterion, data, batch_size)\n",
    "mtrainer.run_train(30)"
   ]
  },
  {
   "cell_type": "code",
   "execution_count": 63,
   "id": "25345e54",
   "metadata": {},
   "outputs": [
    {
     "name": "stdout",
     "output_type": "stream",
     "text": [
      "Accuracy of the network on the test images: 67.14761376248613 %\n"
     ]
    }
   ],
   "source": [
    "test_loss, test_acc, top_k = mtrainer.run_test(mtrainer.testloader)\n",
    "print(f'Accuracy of the network on the test images: {test_acc*100} %')"
   ]
  },
  {
   "cell_type": "code",
   "execution_count": 50,
   "id": "eeea29e7",
   "metadata": {},
   "outputs": [],
   "source": [
    "from model import baseline_cnn_2, trainer\n",
    "\n",
    "torch.manual_seed(42)\n",
    "cnn_model_2 = baseline_cnn_2.DeeperResidualCNN(len(data.categories))\n",
    "\n",
    "criterion = nn.CrossEntropyLoss()\n",
    "optimizer = torch.optim.Adam(cnn_model_2.parameters(), lr=4e-4)"
   ]
  },
  {
   "cell_type": "code",
   "execution_count": 51,
   "id": "91a345fe",
   "metadata": {},
   "outputs": [
    {
     "name": "stdout",
     "output_type": "stream",
     "text": [
      "[Epoch   0]: Training loss: 1.738965 | Accuracy: 0.390159\n",
      "[Epoch   0]: Validation loss: 2.836551 | Accuracy: 0.211111 | Within 3: 0.580000\n",
      "[Epoch   1]: Training loss: 1.461996 | Accuracy: 0.488571\n",
      "[Epoch   1]: Validation loss: 1.504579 | Accuracy: 0.473333 | Within 3: 0.755556\n",
      "[Epoch   2]: Training loss: 1.347466 | Accuracy: 0.531111\n",
      "[Epoch   2]: Validation loss: 1.666066 | Accuracy: 0.460000 | Within 3: 0.748889\n",
      "[Epoch   3]: Training loss: 1.249529 | Accuracy: 0.559048\n",
      "[Epoch   3]: Validation loss: 1.514517 | Accuracy: 0.515556 | Within 3: 0.802222\n",
      "[Epoch   4]: Training loss: 1.163504 | Accuracy: 0.601587\n",
      "[Epoch   4]: Validation loss: 1.521192 | Accuracy: 0.508889 | Within 3: 0.822222\n",
      "[Epoch   5]: Training loss: 1.055560 | Accuracy: 0.639365\n",
      "[Epoch   5]: Validation loss: 1.983051 | Accuracy: 0.455556 | Within 3: 0.726667\n",
      "[Epoch   6]: Training loss: 0.969718 | Accuracy: 0.660952\n",
      "[Epoch   6]: Validation loss: 2.031146 | Accuracy: 0.413333 | Within 3: 0.748889\n",
      "[Epoch   7]: Training loss: 0.911409 | Accuracy: 0.690476\n",
      "[Epoch   7]: Validation loss: 1.289100 | Accuracy: 0.542222 | Within 3: 0.848889\n",
      "[Epoch   8]: Training loss: 0.798758 | Accuracy: 0.720952\n",
      "[Epoch   8]: Validation loss: 1.586127 | Accuracy: 0.453333 | Within 3: 0.802222\n",
      "[Epoch   9]: Training loss: 0.693742 | Accuracy: 0.765079\n",
      "[Epoch   9]: Validation loss: 1.187264 | Accuracy: 0.635556 | Within 3: 0.868889\n",
      "[Epoch  10]: Training loss: 0.625004 | Accuracy: 0.786349\n",
      "[Epoch  10]: Validation loss: 1.693996 | Accuracy: 0.517778 | Within 3: 0.797778\n",
      "[Epoch  11]: Training loss: 0.517600 | Accuracy: 0.830476\n",
      "[Epoch  11]: Validation loss: 1.219962 | Accuracy: 0.637778 | Within 3: 0.857778\n",
      "[Epoch  12]: Training loss: 0.416664 | Accuracy: 0.866667\n",
      "[Epoch  12]: Validation loss: 1.237695 | Accuracy: 0.620000 | Within 3: 0.866667\n",
      "[Epoch  13]: Training loss: 0.320592 | Accuracy: 0.902540\n",
      "[Epoch  13]: Validation loss: 1.379832 | Accuracy: 0.642222 | Within 3: 0.864444\n",
      "[Epoch  14]: Training loss: 0.266450 | Accuracy: 0.913968\n",
      "[Epoch  14]: Validation loss: 1.358299 | Accuracy: 0.602222 | Within 3: 0.875556\n",
      "[Epoch  15]: Training loss: 0.258713 | Accuracy: 0.916508\n",
      "[Epoch  15]: Validation loss: 1.640058 | Accuracy: 0.546667 | Within 3: 0.835556\n",
      "[Epoch  16]: Training loss: 0.161386 | Accuracy: 0.957460\n",
      "[Epoch  16]: Validation loss: 1.388368 | Accuracy: 0.666667 | Within 3: 0.884444\n",
      "[Epoch  17]: Training loss: 0.113747 | Accuracy: 0.970794\n",
      "[Epoch  17]: Validation loss: 1.411412 | Accuracy: 0.635556 | Within 3: 0.882222\n",
      "[Epoch  18]: Training loss: 0.091941 | Accuracy: 0.976190\n",
      "[Epoch  18]: Validation loss: 1.541876 | Accuracy: 0.606667 | Within 3: 0.868889\n",
      "[Epoch  19]: Training loss: 0.104636 | Accuracy: 0.969206\n",
      "[Epoch  19]: Validation loss: 1.431765 | Accuracy: 0.666667 | Within 3: 0.893333\n",
      "[Epoch  20]: Training loss: 0.071782 | Accuracy: 0.983175\n",
      "[Epoch  20]: Validation loss: 1.368305 | Accuracy: 0.673333 | Within 3: 0.886667\n",
      "[Epoch  21]: Training loss: 0.063807 | Accuracy: 0.985714\n",
      "[Epoch  21]: Validation loss: 1.446192 | Accuracy: 0.651111 | Within 3: 0.888889\n",
      "[Epoch  22]: Training loss: 0.062321 | Accuracy: 0.982857\n",
      "[Epoch  22]: Validation loss: 2.161021 | Accuracy: 0.626667 | Within 3: 0.864444\n",
      "[Epoch  23]: Training loss: 0.080592 | Accuracy: 0.977778\n",
      "[Epoch  23]: Validation loss: 1.901946 | Accuracy: 0.597778 | Within 3: 0.873333\n",
      "[Epoch  24]: Training loss: 0.078627 | Accuracy: 0.979365\n",
      "[Epoch  24]: Validation loss: 1.716019 | Accuracy: 0.611111 | Within 3: 0.857778\n",
      "[Epoch  25]: Training loss: 0.098716 | Accuracy: 0.970159\n",
      "[Epoch  25]: Validation loss: 1.369272 | Accuracy: 0.695556 | Within 3: 0.886667\n",
      "[Epoch  26]: Training loss: 0.047987 | Accuracy: 0.989206\n",
      "[Epoch  26]: Validation loss: 1.342752 | Accuracy: 0.688889 | Within 3: 0.886667\n",
      "[Epoch  27]: Training loss: 0.041689 | Accuracy: 0.988889\n",
      "[Epoch  27]: Validation loss: 1.522176 | Accuracy: 0.677778 | Within 3: 0.880000\n",
      "[Epoch  28]: Training loss: 0.043789 | Accuracy: 0.988889\n",
      "[Epoch  28]: Validation loss: 1.508658 | Accuracy: 0.668889 | Within 3: 0.862222\n",
      "[Epoch  29]: Training loss: 0.069503 | Accuracy: 0.978095\n",
      "[Epoch  29]: Validation loss: 2.081329 | Accuracy: 0.651111 | Within 3: 0.886667\n",
      "Best epoch:  25\n"
     ]
    }
   ],
   "source": [
    "batch_size = 32\n",
    "mtrainer = trainer.Trainer(cnn_model_2, optimizer, criterion, data, batch_size)\n",
    "mtrainer.run_train(30)"
   ]
  },
  {
   "cell_type": "code",
   "execution_count": 56,
   "id": "8d63dbee",
   "metadata": {},
   "outputs": [
    {
     "name": "stdout",
     "output_type": "stream",
     "text": [
      "Accuracy of the network on the test images: 69.03440621531631 %\n"
     ]
    }
   ],
   "source": [
    "test_loss, test_acc, top_k = mtrainer.run_test(mtrainer.testloader)\n",
    "print(f'Accuracy of the network on the test images: {test_acc*100} %')"
   ]
  }
 ],
 "metadata": {
  "kernelspec": {
   "display_name": "Python 3 (ipykernel)",
   "language": "python",
   "name": "python3"
  },
  "language_info": {
   "codemirror_mode": {
    "name": "ipython",
    "version": 3
   },
   "file_extension": ".py",
   "mimetype": "text/x-python",
   "name": "python",
   "nbconvert_exporter": "python",
   "pygments_lexer": "ipython3",
   "version": "3.9.12"
  },
  "vscode": {
   "interpreter": {
    "hash": "d88d51e5feeef7cdbc38f54879bc8b14b595db7785db4e3b195d2593607adbb2"
   }
  }
 },
 "nbformat": 4,
 "nbformat_minor": 5
}
